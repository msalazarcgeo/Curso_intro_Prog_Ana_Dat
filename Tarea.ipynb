{
 "cells": [
  {
   "cell_type": "markdown",
   "metadata": {},
   "source": [
    "# Tarea 1 Python  Básicos\n",
    "\n",
    "Los siguientes son una serie de ejercicios para experimentar el conocimiento que han desarrollado en *Python*, para entregarlos sólo es necesario que puedan ser ejecutados en un notebook, también pueden ser entregados en un script. \n",
    "\n",
    "* Hacer un código donde en una cadena se remplaze todas las vocales por la letra 'i'.\n",
    "* Hacer un codigo donde se imprima 6 veces por linea su nombre en 7 lineas. \n",
    "* Hacer un código que cuente el número de vocales en una cadena de texto. \n",
    "* Hacer un código donde se calcule e imprima el area de un rectángulo y un triángulo.\n",
    "* Hacer un código donde imprima las primeras 40 sumas acumuladas del 5, al 45. \n",
    "* Hacer un código donde invierta la cadena que se da.  \n",
    "* Hacer un código donde se le da una lista y un elemento y se determine si el elemento se encuentra en la lista. \n",
    "* Hacer un código que imprima los impares en un rango determinado donde la impresión sólo sea de 10 en cada linea. \n",
    "* Hacer un codigo que sume tres enteros y si hay al menos  dos iguales entonces regrese 0.\n",
    "* Hacer un codigo que regrese el número con mayor valor absoluto en una lista.\n",
    "* Hacer un codigo donde se imprima el segundo elemento de cada elemento en una lista de srtings.  \n",
    "* De todas las anteriores hacer funciones que ejecuten el código deseado con sus parámetros y regresen el resultado esperado. \n",
    "\n",
    "**Las tareas son individuales no se tiene permitido copiar el código de otra persona.**\n"
   ]
  },
  {
   "cell_type": "code",
   "execution_count": 1,
   "metadata": {},
   "outputs": [
    {
     "data": {
      "text/plain": [
       "'/home/miguel/Cgeo/Virus/Datos_SSA/12042020/Day_covid'"
      ]
     },
     "execution_count": 1,
     "metadata": {},
     "output_type": "execute_result"
    }
   ],
   "source": []
  },
  {
   "cell_type": "code",
   "execution_count": null,
   "metadata": {},
   "outputs": [],
   "source": []
  }
 ],
 "metadata": {
  "kernelspec": {
   "display_name": "Python 3",
   "language": "python",
   "name": "python3"
  },
  "language_info": {
   "codemirror_mode": {
    "name": "ipython",
    "version": 3
   },
   "file_extension": ".py",
   "mimetype": "text/x-python",
   "name": "python",
   "nbconvert_exporter": "python",
   "pygments_lexer": "ipython3",
   "version": "3.7.8"
  }
 },
 "nbformat": 4,
 "nbformat_minor": 4
}
