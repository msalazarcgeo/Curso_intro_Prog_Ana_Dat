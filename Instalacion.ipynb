{
 "cells": [
  {
   "cell_type": "markdown",
   "metadata": {},
   "source": [
    "# Instalación\n",
    "\n",
    "En el siguiente documento se hace una breve descripción de los programas que se utilizarán durante el curso, para no afectar los sistemas se recomienda instalar un manejador de ambientes virtuales como los es [Anaconda](https://www.anaconda.com/). La intención de utilizar este software es tener acceso a las herramientas y paqueterías de los lenguajes de programación [Python](https://www.python.org/) y [R](https://www.r-project.org/). \n",
    "\n",
    "\n",
    "## Anaconda\n",
    "En en esta sección se da una descripción de como instalar el manejador de [Anaconda](https://www.anaconda.com/) en los principales sistemas operativos, para poder hacer una instalación de la paquetería es necesario contar con los permisos adecuados (ser usuario * \"administrador\" *)\n",
    "\n",
    "Todos los links y las instruciones se hacen para la instalación de *Miniconda*  (una versión ligera de *Anaconda*, las instrucciones para la instalación de *Anaconda* se pueden considerar \"iguales\" a las descritas aquí).\n",
    "\n",
    "* ### Linux\n",
    "\n",
    " * Se descarga el archivo con el scrip para su instalación de este [link](https://repo.anaconda.com/miniconda/Miniconda3-latest-Linux-x86_64.sh)\n",
    " \n",
    " * Se abre una terminal se da permisos de ejecución al archivo descargado. Dentro de la terminal en el directorio donde se encuentre el archivo descargado se ejecuta el siguiente comando\n",
    " `bash Miniconda3-latest-Linux-x86_64.sh`\n",
    " * Se siguen las instruccione que aparecen en la pantalla. Si no se esta seguro de los ajustes se recomienda aceptar los que estan definidos por defecto. Para que los cambios tengan efecto es necesario cerrar la terminal y abrir una nueva. \n",
    " * Para verificar que la instalación ha salido correctamente se abre una terinal y se ejecuta el comando `conda list`, una lista con la paqueteria instalada se desplegara si la instalación fue correcta. \n",
    "\n",
    "* ### MacOS\n",
    "Las siguientes instrucciones se extraen de la documentación de *Anaconda* en este [link](https://conda.io/projects/conda/en/latest/user-guide/install/macos.html).  \n",
    "\n",
    " * Se descarga el instalador de *Anaconda* para macOS de este [link](https://repo.anaconda.com/miniconda/Miniconda3-latest-MacOSX-x86_64.pkg).\n",
    " * Se hace doble click en el archivo descargado (.pkg)\n",
    " * Seguir las instrucciones del instalador. Si no se esta seguro de los ajustes acepte los que vienen por defecto, estos se pueden modificar despues. \n",
    " * Para que los cambios tengan efecto se tiene que reabrir la ventana de la terminal. \n",
    " * Para verificar la instalación se abre una ventana de terminal o un linea de comando de Anaconda y se ejecuta el comando `conda list`. Una lista con los paquetes instalados aparecera si la instalación fue correcta. \n",
    "\n",
    "* ### Windows\n",
    "Las siguientes instrucciones se extraen de la documentación de *Anaconda*.  \n",
    "\n",
    " * Se descarga el instalador de *Anaconda* para windows  de este [link](https://repo.anaconda.com/miniconda/Miniconda3-latest-Windows-x86_64.exe)\n",
    " * Se hace dobleclick en el instalador para su ejecución (.exe).\n",
    " * Seguir las instrucciones que se presentan en la pantalla. \n",
    " * Para probar su instalación desde el menu **START** abrir la linea de comando de Anaconda y ejecutar `conda list`. Una lista con los paquetes instalados aparecera si la instalación fue correcta. \n",
    " \n",
    "\n",
    "\n",
    "* ### Colab\n",
    " Google [Colaboratory (Colab)](https://www.youtube.com/watch?v=inN8seMm7UI)  nos permite ejecutar código a traves de maquinas virtuales generadas en servidores de Google. La interface para la ejecución del código se hace a través de un *notebook*. Esta interfaz nos permite instalar *Anaconda* para poder hacer uso de las librerias que se pueden instalar con conda. \n",
    "\n",
    "Para su instalación es necesario ejecutar el siguiente código \n",
    " "
   ]
  },
  {
   "cell_type": "raw",
   "metadata": {},
   "source": [
    "!wget -c https://repo.continuum.io/archive/Anaconda3-5.1.0-Linux-x86_64.sh\n",
    "!chmod +x Anaconda3-5.1.0-Linux-x86_64.sh\n",
    "!bash ./Anaconda3-5.1.0-Linux-x86_64.sh -b -f -p usr/local\n",
    "import sys\n",
    "sys.path.append('/usr/local/lib/python3.6/site-packages/')"
   ]
  },
  {
   "cell_type": "markdown",
   "metadata": {},
   "source": [
    "### Uso de Conda\n",
    "Una vez instalado *minianaconda* vamos a describir como generar un ambiente virtual, un ambiente virtual nos permite instalar paquetes dentro de este sin que afecten al sistema en general. Dentro de una terminal ejecutamos el comando `conda create --name analisis_datos` el ambiente creado tendra por nombre *analisis_datos* y para acceder a este dentro de una terminal `conda activate analisis_datos`. Ya dentro del ambiente virtual podemos instalar la paquetería necesaria para este curso. \n",
    "\n",
    "\n",
    "\n"
   ]
  },
  {
   "cell_type": "markdown",
   "metadata": {},
   "source": [
    "## Jupyter- Lab\n",
    "\n",
    "[Jupyter-lab](https://jupyter.org/) es una interfaz de notebook basado en *ipyhon* que nos permite ejecutar comandos como si fuese la terminal de *Python* y presentar la salida de una forma más amigable para el usuario. Este notebook utiliza [*Markdown*](https://en.wikipedia.org/wiki/Markdown) para generar texto que sea de fácil lectura y las funcionalidades de ipython para generar las visualizaciones, ninguna de estas dos propiedades se pueden hacer directamente desde la terminal de Python. Por las atribuciones antes descritas durante el curso utilizaremos esta herramienta. \n",
    "\n",
    "Para su instalación dentro del ambiente virtual que deseamos se ejecuta `conda install jupyterlab`. Unavez instalado para ejecutarlo dentro del ambiente virtual ejecutamos el comando `jupyter-lab` este generará un servicio web desde el cual podremos acceder a la interfaz para generar los notebooks. \n",
    "\n",
    " * nota: El directorio, donde se ejecute el comando `jupyter-lab`, se toma como la raiz en donde la interface *jupyter-lab* guardará los notebooks y los scripts que se generen durante la sesión de la interface.\n",
    "\n",
    "\n",
    "## Pandas\n",
    "\n",
    "Para hacer análisis de los datos y extraer información relevante, es necesario poder extraer, transformar y almacenar (**ETL** (*extract, transform and load*)) los datos para su manipulación. La idea de este curso es que se aprendan las herramientas que ofrece *Python* para tal proposito. \n",
    "\n",
    "Las formas más comunes para almacenar la información es a través de tablas, esto lo podemos ver en los formatos donde comúnmente se almacenanlos datos, como ejemplos de éstos tenemos las hojas de calculo (*Exel*) o las bases de datos (*MySQL*, *Oracle*, *DB2*, etc). La biblioteca *[Pandas](https://pandas.pydata.org/)* nos permite hacer un manejo de los datos en forma tabular, los objetos y funciones definidas dentro de la biblioteca serán las herramientas principales que se utilizan a lo largo del curso.\n",
    "\n",
    "Para la instalación de esta biblioteca utilizaremos anaconda dentro de nuestro ambiente virtual se ejecuta el siguiente comando:`conda install pandas`. Para verificar la instalación y la versión instalada dentro de la IDE de python o un notebook en jupyter se ejecutan los comandos `import pandas as pd` y `pd.__version__`, si no se muestra ningun error la instalación fue realizada de forma correcta. \n",
    "\n"
   ]
  },
  {
   "cell_type": "code",
   "execution_count": 1,
   "metadata": {},
   "outputs": [
    {
     "name": "stdout",
     "output_type": "stream",
     "text": [
      "1.1.0\n"
     ]
    }
   ],
   "source": [
    "import pandas as pd\n",
    "print(pd.__version__)"
   ]
  },
  {
   "cell_type": "markdown",
   "metadata": {},
   "source": [
    "El comando `import` se utiliza para cargar las bibliotecas dentro de python para hacer su uso de las herramientas dentro de estas, para acceder a las funciones o estructuras se utiliza `.`en el caso anterior estamos usando la finción print para ver lo que se encuentra dentro de la variable `__version__` en la biblioteca de pandas. "
   ]
  },
  {
   "cell_type": "code",
   "execution_count": null,
   "metadata": {},
   "outputs": [],
   "source": []
  }
 ],
 "metadata": {
  "kernelspec": {
   "display_name": "Python 3",
   "language": "python",
   "name": "python3"
  },
  "language_info": {
   "codemirror_mode": {
    "name": "ipython",
    "version": 3
   },
   "file_extension": ".py",
   "mimetype": "text/x-python",
   "name": "python",
   "nbconvert_exporter": "python",
   "pygments_lexer": "ipython3",
   "version": "3.7.8"
  }
 },
 "nbformat": 4,
 "nbformat_minor": 4
}
