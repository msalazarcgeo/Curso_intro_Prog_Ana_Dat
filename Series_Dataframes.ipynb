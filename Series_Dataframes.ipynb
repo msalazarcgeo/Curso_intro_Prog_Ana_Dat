{
 "cells": [
  {
   "cell_type": "markdown",
   "metadata": {},
   "source": [
    "# Series y Dataframes (PANDAS)\n",
    "\n",
    "En este notebook contiene las herramientas básicas que utilizaremos durante el curso para el manejo de datos de forma tabular. La biblioteca *Pandas* contiene dos estructuras para el manejo de datos llamadas *Series* y *DataFrames* las serán el caballo de batalla durante el curso. El uso de estas herramientas se elige por su fácil manejo en comparación con herramientas comunes para el manejo de datos de alto desempeño (como son bases de datos) y a la vez nos permiten un desempeño similar a las herramientas especializadas.  \n",
    "\n",
    "Para hacer uso de las herramietas dentro de la bibliotyeca *Pandas* ejecutamos el comando `import pandas` por simpleza se utilisa un un alias `pd`para poder usar dicho alias se declara de la siguiente forma"
   ]
  },
  {
   "cell_type": "code",
   "execution_count": 2,
   "metadata": {},
   "outputs": [],
   "source": [
    "import pandas as pd\n",
    "import numpy as np"
   ]
  },
  {
   "cell_type": "markdown",
   "metadata": {},
   "source": [
    "## Series\n",
    "Las series son similares a un vector o una matriz unidimensional la cual contiene una secuencia de valores u objetos junto con un arreglo de etiquetas que se les llama *índices*. Una *Serie* en pandas se declara de la siguiente forma:"
   ]
  },
  {
   "cell_type": "code",
   "execution_count": 3,
   "metadata": {},
   "outputs": [
    {
     "data": {
      "text/plain": [
       "0    10\n",
       "1     9\n",
       "2     8\n",
       "3     7\n",
       "4     6\n",
       "5     5\n",
       "6     4\n",
       "7     3\n",
       "8     2\n",
       "9     1\n",
       "dtype: int64"
      ]
     },
     "execution_count": 3,
     "metadata": {},
     "output_type": "execute_result"
    }
   ],
   "source": [
    "Serie_1 = pd.Series([10,9,8,7,6,5,4,3,2,1])\n",
    "Serie_1"
   ]
  },
  {
   "cell_type": "markdown",
   "metadata": {},
   "source": [
    "Como se observa en el ejemplo la primera columna son los índices de la *Serie*, mientras que la segunda son los valores. Por defecto los índices son enteros que van de $0$ a $N-1$, donde $N$ es la cantidad de datos que se tienen. Para acceder a los datos de forma de arreglos de tipo *numpy* usamos el atributo `values`de la *Series* mientras que para los índices usamos `index`"
   ]
  },
  {
   "cell_type": "code",
   "execution_count": 4,
   "metadata": {},
   "outputs": [
    {
     "data": {
      "text/plain": [
       "array([10,  9,  8,  7,  6,  5,  4,  3,  2,  1])"
      ]
     },
     "execution_count": 4,
     "metadata": {},
     "output_type": "execute_result"
    }
   ],
   "source": [
    "Serie_1.values"
   ]
  },
  {
   "cell_type": "code",
   "execution_count": 5,
   "metadata": {},
   "outputs": [
    {
     "data": {
      "text/plain": [
       "RangeIndex(start=0, stop=10, step=1)"
      ]
     },
     "execution_count": 5,
     "metadata": {},
     "output_type": "execute_result"
    }
   ],
   "source": [
    "Serie_1.index"
   ]
  },
  {
   "cell_type": "markdown",
   "metadata": {},
   "source": [
    "Como se ve *pandas* utiliza una función similar a *range* para generar los índices, si de desea utilizar un conjunto especifico de elementos  para usar como índice esto se puede hacer al momento de crear la *serie*."
   ]
  },
  {
   "cell_type": "code",
   "execution_count": 6,
   "metadata": {},
   "outputs": [
    {
     "data": {
      "text/plain": [
       "e    10\n",
       "h     9\n",
       "i     8\n",
       "a     7\n",
       "b     6\n",
       "d     5\n",
       "c     4\n",
       "g     3\n",
       "f     2\n",
       "j     1\n",
       "dtype: int64"
      ]
     },
     "execution_count": 6,
     "metadata": {},
     "output_type": "execute_result"
    }
   ],
   "source": [
    "Serie_2= pd.Series([10,9,8,7,6,5,4,3,2,1,], index =['e','h', 'i','a', 'b','d', 'c', 'g', 'f', 'j'])\n",
    "Serie_2"
   ]
  },
  {
   "cell_type": "code",
   "execution_count": 7,
   "metadata": {},
   "outputs": [
    {
     "data": {
      "text/plain": [
       "Index(['e', 'h', 'i', 'a', 'b', 'd', 'c', 'g', 'f', 'j'], dtype='object')"
      ]
     },
     "execution_count": 7,
     "metadata": {},
     "output_type": "execute_result"
    }
   ],
   "source": [
    "Serie_2.index"
   ]
  },
  {
   "cell_type": "markdown",
   "metadata": {},
   "source": []
  },
  {
   "cell_type": "markdown",
   "metadata": {},
   "source": [
    "Para seleccionar algún valor dentro de la serie o un conjunto de valores utilizamos los `[]`"
   ]
  },
  {
   "cell_type": "code",
   "execution_count": 8,
   "metadata": {},
   "outputs": [
    {
     "data": {
      "text/plain": [
       "10"
      ]
     },
     "execution_count": 8,
     "metadata": {},
     "output_type": "execute_result"
    }
   ],
   "source": [
    "Serie_1[0]"
   ]
  },
  {
   "cell_type": "code",
   "execution_count": 9,
   "metadata": {},
   "outputs": [
    {
     "data": {
      "text/plain": [
       "0    10\n",
       "1     9\n",
       "4     6\n",
       "dtype: int64"
      ]
     },
     "execution_count": 9,
     "metadata": {},
     "output_type": "execute_result"
    }
   ],
   "source": [
    "Serie_1[[0, 1,4]]"
   ]
  },
  {
   "cell_type": "code",
   "execution_count": 10,
   "metadata": {},
   "outputs": [
    {
     "data": {
      "text/plain": [
       "7"
      ]
     },
     "execution_count": 10,
     "metadata": {},
     "output_type": "execute_result"
    }
   ],
   "source": [
    "Serie_2['a']"
   ]
  },
  {
   "cell_type": "code",
   "execution_count": 11,
   "metadata": {},
   "outputs": [
    {
     "data": {
      "text/plain": [
       "a    7\n",
       "c    4\n",
       "b    6\n",
       "dtype: int64"
      ]
     },
     "execution_count": 11,
     "metadata": {},
     "output_type": "execute_result"
    }
   ],
   "source": [
    "Serie_2[['a', 'c', 'b']]"
   ]
  },
  {
   "cell_type": "markdown",
   "metadata": {},
   "source": [
    "Como se observa, al pasar una lista de índices es distinto que solicitar un sólo elemento, la diferencia radica que al pasar una lista de índices el objeto que nos regresa es una *serie* que sólo contiene a los elementos solicitados.\n",
    "\n",
    "Para modificar un elemento o un conjunto de elementos también utilizamos `[]`"
   ]
  },
  {
   "cell_type": "code",
   "execution_count": 12,
   "metadata": {},
   "outputs": [
    {
     "data": {
      "text/plain": [
       "e    10\n",
       "h     9\n",
       "i     8\n",
       "a    25\n",
       "b     6\n",
       "d     5\n",
       "c     4\n",
       "g     3\n",
       "f     2\n",
       "j     1\n",
       "dtype: int64"
      ]
     },
     "execution_count": 12,
     "metadata": {},
     "output_type": "execute_result"
    }
   ],
   "source": [
    "Serie_2['a'] = 25\n",
    "Serie_2"
   ]
  },
  {
   "cell_type": "code",
   "execution_count": 13,
   "metadata": {},
   "outputs": [
    {
     "data": {
      "text/plain": [
       "0   -1\n",
       "1   -1\n",
       "2   -1\n",
       "3   -1\n",
       "4    6\n",
       "5    5\n",
       "6    4\n",
       "7    3\n",
       "8    2\n",
       "9    1\n",
       "dtype: int64"
      ]
     },
     "execution_count": 13,
     "metadata": {},
     "output_type": "execute_result"
    }
   ],
   "source": [
    "Serie_1[[0,1,2,3]]= -1\n",
    "Serie_1"
   ]
  },
  {
   "cell_type": "markdown",
   "metadata": {},
   "source": [
    "Si en lugar de usar índices usamos un vector booleano del mismo tamaño filtramos los elementos de la *serie*"
   ]
  },
  {
   "cell_type": "code",
   "execution_count": 14,
   "metadata": {},
   "outputs": [
    {
     "data": {
      "text/plain": [
       "0   -1\n",
       "1   -1\n",
       "2   -1\n",
       "4    6\n",
       "5    5\n",
       "dtype: int64"
      ]
     },
     "execution_count": 14,
     "metadata": {},
     "output_type": "execute_result"
    }
   ],
   "source": [
    " Serie_1[[True,True, True, False, True, True,False,False,False,False ]]"
   ]
  },
  {
   "cell_type": "markdown",
   "metadata": {},
   "source": [
    "Esto nos permite hacer filtros usando los condicionales booleanos de python, pues al utilizar los condicionales en la serie el resultado regresa una serie con verdarero (`True`) o falso (`False`) que podemos utilizar como un vector booleano para filtrar"
   ]
  },
  {
   "cell_type": "code",
   "execution_count": 15,
   "metadata": {},
   "outputs": [
    {
     "data": {
      "text/plain": [
       "0    False\n",
       "1    False\n",
       "2    False\n",
       "3    False\n",
       "4     True\n",
       "5     True\n",
       "6     True\n",
       "7     True\n",
       "8     True\n",
       "9     True\n",
       "dtype: bool"
      ]
     },
     "execution_count": 15,
     "metadata": {},
     "output_type": "execute_result"
    }
   ],
   "source": [
    "Serie_1>0"
   ]
  },
  {
   "cell_type": "code",
   "execution_count": 16,
   "metadata": {},
   "outputs": [
    {
     "data": {
      "text/plain": [
       "4    6\n",
       "5    5\n",
       "6    4\n",
       "7    3\n",
       "8    2\n",
       "9    1\n",
       "dtype: int64"
      ]
     },
     "execution_count": 16,
     "metadata": {},
     "output_type": "execute_result"
    }
   ],
   "source": [
    "Serie_1[Serie_1 >0]"
   ]
  },
  {
   "cell_type": "markdown",
   "metadata": {},
   "source": [
    "Una forma de pensar las series que puede resultar conveniente, es como diccionarios grandes, donde las llaves son los índices. A diferencia de los diccionarios podemos aplicar multiplicaciones, funciones matemáticas o condicionales booleanos a los valores y los resultados preservan la relación índice valor.  "
   ]
  },
  {
   "cell_type": "code",
   "execution_count": 17,
   "metadata": {},
   "outputs": [
    {
     "data": {
      "text/plain": [
       "e     40\n",
       "h     36\n",
       "i     32\n",
       "a    100\n",
       "b     24\n",
       "d     20\n",
       "c     16\n",
       "g     12\n",
       "f      8\n",
       "j      4\n",
       "dtype: int64"
      ]
     },
     "execution_count": 17,
     "metadata": {},
     "output_type": "execute_result"
    }
   ],
   "source": [
    "\n",
    "Serie_2*4"
   ]
  },
  {
   "cell_type": "code",
   "execution_count": 18,
   "metadata": {},
   "outputs": [
    {
     "data": {
      "text/plain": [
       "e     8\n",
       "h    11\n",
       "i    10\n",
       "a    27\n",
       "b     4\n",
       "d     7\n",
       "c     6\n",
       "g     1\n",
       "f     0\n",
       "j     3\n",
       "dtype: int64"
      ]
     },
     "execution_count": 18,
     "metadata": {},
     "output_type": "execute_result"
    }
   ],
   "source": [
    "Serie_2^2"
   ]
  },
  {
   "cell_type": "code",
   "execution_count": 19,
   "metadata": {},
   "outputs": [
    {
     "data": {
      "text/plain": [
       "e    3.162278\n",
       "h    3.000000\n",
       "i    2.828427\n",
       "a    5.000000\n",
       "b    2.449490\n",
       "d    2.236068\n",
       "c    2.000000\n",
       "g    1.732051\n",
       "f    1.414214\n",
       "j    1.000000\n",
       "dtype: float64"
      ]
     },
     "execution_count": 19,
     "metadata": {},
     "output_type": "execute_result"
    }
   ],
   "source": [
    "np.sqrt(Serie_2)"
   ]
  },
  {
   "cell_type": "markdown",
   "metadata": {},
   "source": [
    "Si el identificador de nuestros datos es lo que se utiliza como indice entonces podemos usar dicho identificador para determinar si un elemento se encuentra dentro de la *serie*"
   ]
  },
  {
   "cell_type": "code",
   "execution_count": 20,
   "metadata": {},
   "outputs": [
    {
     "data": {
      "text/plain": [
       "False"
      ]
     },
     "execution_count": 20,
     "metadata": {},
     "output_type": "execute_result"
    }
   ],
   "source": [
    "'z' in Serie_2"
   ]
  },
  {
   "cell_type": "code",
   "execution_count": 21,
   "metadata": {},
   "outputs": [
    {
     "data": {
      "text/plain": [
       "True"
      ]
     },
     "execution_count": 21,
     "metadata": {},
     "output_type": "execute_result"
    }
   ],
   "source": [
    "'j' in Serie_2"
   ]
  },
  {
   "cell_type": "markdown",
   "metadata": {},
   "source": [
    "Si una *serie* se parece a un diccionario, debería ser natural construir una *serie* a partir de un diccionario. Con tal proposito usando un diccionario como argumento al constructor (función que crea el objeto), en vez de una lista, se construye una *serie* donde las llaves del diccionario son los índices de la *serie*.  "
   ]
  },
  {
   "cell_type": "code",
   "execution_count": 22,
   "metadata": {},
   "outputs": [],
   "source": [
    "diccionario= {'Ana':8.5, 'karla':10, 'ruben': 8 , 'ismael': 9, 'ivan':10 }"
   ]
  },
  {
   "cell_type": "code",
   "execution_count": 23,
   "metadata": {},
   "outputs": [
    {
     "data": {
      "text/plain": [
       "Ana        8.5\n",
       "karla     10.0\n",
       "ruben      8.0\n",
       "ismael     9.0\n",
       "ivan      10.0\n",
       "dtype: float64"
      ]
     },
     "execution_count": 23,
     "metadata": {},
     "output_type": "execute_result"
    }
   ],
   "source": [
    "Serie_3= pd.Series(diccionario)\n",
    "Serie_3"
   ]
  },
  {
   "cell_type": "markdown",
   "metadata": {},
   "source": [
    "Si se desea un conjunto específico de índices en una *serie*, el conjunto se pasa como una lista como el parámetro `index`.  "
   ]
  },
  {
   "cell_type": "code",
   "execution_count": 24,
   "metadata": {},
   "outputs": [
    {
     "data": {
      "text/plain": [
       "Ana          8.5\n",
       "karla       10.0\n",
       "lucrecia     NaN\n",
       "irma         NaN\n",
       "ruben        8.0\n",
       "ismael       9.0\n",
       "ivan        10.0\n",
       "dtype: float64"
      ]
     },
     "execution_count": 24,
     "metadata": {},
     "output_type": "execute_result"
    }
   ],
   "source": [
    "Nombres = ['Ana', 'karla',  'lucrecia', 'irma', 'ruben' , 'ismael', 'ivan' ]\n",
    "Serie_4 = pd.Series(diccionario, index = Nombres) \n",
    "Serie_4"
   ]
  },
  {
   "cell_type": "markdown",
   "metadata": {},
   "source": [
    "Al construir la *serie* ésta mantiene el orden de los índices, en el primer caso mantiene el orden de las llaves de `diccionario`mentras que en el segundo la de la lista `Nombres`.\n",
    "\n",
    "Si no existe un valor para algún índice, la acción por defecto en *pandas* es dar el valor `NaN` (*not a number*). No importa si la *serie* son números, strings u otro objeto de python `NaN` se utiliza para señalar que el valor no esta. Gracias a esta regla *pandas* tienen funciones para determinar que elementos son `NaN`y aquellos que no **isnull** y **notnull** son los funciones que se utilizan para tales motivos respectivamente.  \n"
   ]
  },
  {
   "cell_type": "code",
   "execution_count": 25,
   "metadata": {},
   "outputs": [
    {
     "data": {
      "text/plain": [
       "Ana         False\n",
       "karla       False\n",
       "lucrecia     True\n",
       "irma         True\n",
       "ruben       False\n",
       "ismael      False\n",
       "ivan        False\n",
       "dtype: bool"
      ]
     },
     "execution_count": 25,
     "metadata": {},
     "output_type": "execute_result"
    }
   ],
   "source": [
    "pd.isnull(Serie_4)"
   ]
  },
  {
   "cell_type": "code",
   "execution_count": 26,
   "metadata": {},
   "outputs": [
    {
     "data": {
      "text/plain": [
       "Ana          True\n",
       "karla        True\n",
       "lucrecia    False\n",
       "irma        False\n",
       "ruben        True\n",
       "ismael       True\n",
       "ivan         True\n",
       "dtype: bool"
      ]
     },
     "execution_count": 26,
     "metadata": {},
     "output_type": "execute_result"
    }
   ],
   "source": [
    "pd.notnull(Serie_4)"
   ]
  },
  {
   "cell_type": "markdown",
   "metadata": {},
   "source": [
    "Estan funciones también se encuentran implementadoas en la *series* como métodos "
   ]
  },
  {
   "cell_type": "code",
   "execution_count": 27,
   "metadata": {},
   "outputs": [
    {
     "data": {
      "text/plain": [
       "Ana         False\n",
       "karla       False\n",
       "lucrecia     True\n",
       "irma         True\n",
       "ruben       False\n",
       "ismael      False\n",
       "ivan        False\n",
       "dtype: bool"
      ]
     },
     "execution_count": 27,
     "metadata": {},
     "output_type": "execute_result"
    }
   ],
   "source": [
    "Serie_4.isnull()"
   ]
  },
  {
   "cell_type": "code",
   "execution_count": 28,
   "metadata": {},
   "outputs": [
    {
     "data": {
      "text/plain": [
       "Ana          True\n",
       "karla        True\n",
       "lucrecia    False\n",
       "irma        False\n",
       "ruben        True\n",
       "ismael       True\n",
       "ivan         True\n",
       "dtype: bool"
      ]
     },
     "execution_count": 28,
     "metadata": {},
     "output_type": "execute_result"
    }
   ],
   "source": [
    "Serie_4.notnull()"
   ]
  },
  {
   "cell_type": "markdown",
   "metadata": {},
   "source": [
    "A partir de dos o más series es posible hacer operaciones respetando el vínculo índice valor, "
   ]
  },
  {
   "cell_type": "code",
   "execution_count": 29,
   "metadata": {},
   "outputs": [
    {
     "data": {
      "text/plain": [
       "Ana          8.5\n",
       "karla       10.0\n",
       "lucrecia     NaN\n",
       "irma         NaN\n",
       "ruben        8.0\n",
       "ismael       9.0\n",
       "ivan        10.0\n",
       "dtype: float64"
      ]
     },
     "execution_count": 29,
     "metadata": {},
     "output_type": "execute_result"
    }
   ],
   "source": [
    "Serie_4\n"
   ]
  },
  {
   "cell_type": "code",
   "execution_count": 30,
   "metadata": {},
   "outputs": [
    {
     "data": {
      "text/plain": [
       "raul        6.0\n",
       "maria      10.0\n",
       "emilio      8.0\n",
       "alfredo     9.5\n",
       "ivan        7.5\n",
       "fabian      7.5\n",
       "ismael      7.0\n",
       "dtype: float64"
      ]
     },
     "execution_count": 30,
     "metadata": {},
     "output_type": "execute_result"
    }
   ],
   "source": [
    "Serie_5 = pd.Series({'raul': 6, 'maria':10, 'emilio':8, 'alfredo': 9.5, 'ivan': 7.5, 'fabian':7.5, 'ismael': 7})\n",
    "Serie_5"
   ]
  },
  {
   "cell_type": "code",
   "execution_count": 31,
   "metadata": {},
   "outputs": [
    {
     "data": {
      "text/plain": [
       "Ana          NaN\n",
       "alfredo      NaN\n",
       "emilio       NaN\n",
       "fabian       NaN\n",
       "irma         NaN\n",
       "ismael      16.0\n",
       "ivan        17.5\n",
       "karla        NaN\n",
       "lucrecia     NaN\n",
       "maria        NaN\n",
       "raul         NaN\n",
       "ruben        NaN\n",
       "dtype: float64"
      ]
     },
     "execution_count": 31,
     "metadata": {},
     "output_type": "execute_result"
    }
   ],
   "source": [
    "Serie_4 + Serie_5"
   ]
  },
  {
   "cell_type": "markdown",
   "metadata": {},
   "source": [
    "Al no poder hacer la operación en ciertos elementos el comportamiento por defecto en *pandas* es que determinar que no hay valor, lo cual hace  más relevante el uso de las funciónes `isnull` y `notnull`.\n",
    "\n",
    "A las *series* se les puede dar un nombre este se encuentra en la instancia `name` dentro de la *serie*, de forma similar y como buena practica se recomienda que los índices tengan nombre este se encuentra dentro de la instancia `index.name`. "
   ]
  },
  {
   "cell_type": "code",
   "execution_count": 32,
   "metadata": {},
   "outputs": [
    {
     "data": {
      "text/plain": [
       "Nombre\n",
       "Ana          8.5\n",
       "karla       10.0\n",
       "lucrecia     NaN\n",
       "irma         NaN\n",
       "ruben        8.0\n",
       "ismael       9.0\n",
       "ivan        10.0\n",
       "Name: Calificaciones, dtype: float64"
      ]
     },
     "execution_count": 32,
     "metadata": {},
     "output_type": "execute_result"
    }
   ],
   "source": [
    "Serie_4.name= 'Calificaciones'\n",
    "Serie_4.index.name='Nombre'\n",
    "Serie_4"
   ]
  },
  {
   "cell_type": "markdown",
   "metadata": {},
   "source": [
    "Esto será de gran utilidad al combinar series para hacer manejos complicados en los datos.  \n",
    "\n",
    "De ser necesario es posible cambiar los índices, para tal motivo es necesario dar una lista con los nuevos índices que sea del mismo tamaño que la longitud de la *serie*, "
   ]
  },
  {
   "cell_type": "code",
   "execution_count": 33,
   "metadata": {},
   "outputs": [],
   "source": [
    "Serie_4.index= ['Ana', 'Karla', 'Lucrecia', 'Irma', 'Ruben', 'Ismael', 'Carlos Ivan']"
   ]
  },
  {
   "cell_type": "code",
   "execution_count": 34,
   "metadata": {},
   "outputs": [
    {
     "data": {
      "text/plain": [
       "Ana             8.5\n",
       "Karla          10.0\n",
       "Lucrecia        NaN\n",
       "Irma            NaN\n",
       "Ruben           8.0\n",
       "Ismael          9.0\n",
       "Carlos Ivan    10.0\n",
       "Name: Calificaciones, dtype: float64"
      ]
     },
     "execution_count": 34,
     "metadata": {},
     "output_type": "execute_result"
    }
   ],
   "source": [
    "Serie_4"
   ]
  },
  {
   "cell_type": "markdown",
   "metadata": {},
   "source": [
    "Una instancia dentro de las series que nos puede ser de utilidad es la instancia `shape` la cual nos regresa una tupla en donde la primera entrada es el tamaño de la *serie* y la segunda se encuentra vacia."
   ]
  },
  {
   "cell_type": "code",
   "execution_count": 35,
   "metadata": {},
   "outputs": [
    {
     "data": {
      "text/plain": [
       "(7,)"
      ]
     },
     "execution_count": 35,
     "metadata": {},
     "output_type": "execute_result"
    }
   ],
   "source": [
    "Serie_4.shape"
   ]
  },
  {
   "cell_type": "code",
   "execution_count": 36,
   "metadata": {},
   "outputs": [
    {
     "data": {
      "text/plain": [
       "7"
      ]
     },
     "execution_count": 36,
     "metadata": {},
     "output_type": "execute_result"
    }
   ],
   "source": [
    "Serie_4.shape[0]"
   ]
  },
  {
   "cell_type": "markdown",
   "metadata": {},
   "source": [
    "Otra forma de acceder a los elementos dentro de una serie es utilizando "
   ]
  },
  {
   "cell_type": "code",
   "execution_count": 37,
   "metadata": {},
   "outputs": [
    {
     "data": {
      "text/plain": [
       "8.0"
      ]
     },
     "execution_count": 37,
     "metadata": {},
     "output_type": "execute_result"
    }
   ],
   "source": [
    "Serie_4['Ruben']"
   ]
  },
  {
   "cell_type": "markdown",
   "metadata": {},
   "source": [
    "## DataFrames\n",
    "Los *dataframes* de *pandas* se crearon usando como base los dataframes usados en *R*, el lenguage de programación [*R*](https://www.r-project.org/) fue creado con la intención de generar herramientas especializadas en estadística por *Ross Ihaka* y *Robert Gentleman* en la Universidad de Aucland, en caso de ser necesario se usará *R*. \n",
    "\n",
    "Los *Dataframes* son la herrmaienta utilizaremos con mayor frecuencia durante el curso. La selección de esta herramienta se debe a que permite un manejo de los datos en forma de tabla, aunque existen otras herramientas que nos permiten tener los datos en forma de tablas, como son las bases de datos, la facilidad de como se manejan de las columnas de los *dataframes* dentro de *pandas* convierte a los *Dataframes* en herramientas accesibles y poderosas. \n",
    "\n",
    "Una forma de pensar a los *Dataframes* es como un diccionario de diccionarios, o un diccionario de *Series*, estas dos formas serán convenientes dependiendo de las problemáticas a resolver y como se desee interpretar la información que se analiza.\n",
    "\n",
    "Para construir nuestro primer *dataframe* usemos la primera analogía."
   ]
  },
  {
   "cell_type": "code",
   "execution_count": 38,
   "metadata": {},
   "outputs": [
    {
     "data": {
      "text/html": [
       "<div>\n",
       "<style scoped>\n",
       "    .dataframe tbody tr th:only-of-type {\n",
       "        vertical-align: middle;\n",
       "    }\n",
       "\n",
       "    .dataframe tbody tr th {\n",
       "        vertical-align: top;\n",
       "    }\n",
       "\n",
       "    .dataframe thead th {\n",
       "        text-align: right;\n",
       "    }\n",
       "</style>\n",
       "<table border=\"1\" class=\"dataframe\">\n",
       "  <thead>\n",
       "    <tr style=\"text-align: right;\">\n",
       "      <th></th>\n",
       "      <th>Poblacion</th>\n",
       "      <th>Poblacion_60_a</th>\n",
       "      <th>Poblacion_0_4</th>\n",
       "      <th>Poblacion_5_9</th>\n",
       "      <th>Poblacion_10_14</th>\n",
       "    </tr>\n",
       "  </thead>\n",
       "  <tbody>\n",
       "    <tr>\n",
       "      <th>Baja California</th>\n",
       "      <td>2844469</td>\n",
       "      <td>164888</td>\n",
       "      <td>267954</td>\n",
       "      <td>277635</td>\n",
       "      <td>267938</td>\n",
       "    </tr>\n",
       "    <tr>\n",
       "      <th>Ciudad de Mexico</th>\n",
       "      <td>8720916</td>\n",
       "      <td>859438</td>\n",
       "      <td>664092</td>\n",
       "      <td>671579</td>\n",
       "      <td>704950</td>\n",
       "    </tr>\n",
       "    <tr>\n",
       "      <th>Hidalgo</th>\n",
       "      <td>2345514</td>\n",
       "      <td>204325</td>\n",
       "      <td>237423</td>\n",
       "      <td>243185</td>\n",
       "      <td>270650</td>\n",
       "    </tr>\n",
       "    <tr>\n",
       "      <th>Morelos</th>\n",
       "      <td>1612899</td>\n",
       "      <td>143942</td>\n",
       "      <td>150281</td>\n",
       "      <td>157253</td>\n",
       "      <td>168541</td>\n",
       "    </tr>\n",
       "    <tr>\n",
       "      <th>Nayarit</th>\n",
       "      <td>949684</td>\n",
       "      <td>9061</td>\n",
       "      <td>92384</td>\n",
       "      <td>96834</td>\n",
       "      <td>103122</td>\n",
       "    </tr>\n",
       "  </tbody>\n",
       "</table>\n",
       "</div>"
      ],
      "text/plain": [
       "                  Poblacion  Poblacion_60_a  Poblacion_0_4  Poblacion_5_9  \\\n",
       "Baja California     2844469          164888         267954         277635   \n",
       "Ciudad de Mexico    8720916          859438         664092         671579   \n",
       "Hidalgo             2345514          204325         237423         243185   \n",
       "Morelos             1612899          143942         150281         157253   \n",
       "Nayarit              949684            9061          92384          96834   \n",
       "\n",
       "                  Poblacion_10_14  \n",
       "Baja California            267938  \n",
       "Ciudad de Mexico           704950  \n",
       "Hidalgo                    270650  \n",
       "Morelos                    168541  \n",
       "Nayarit                    103122  "
      ]
     },
     "execution_count": 38,
     "metadata": {},
     "output_type": "execute_result"
    }
   ],
   "source": [
    "dic_dic={'Poblacion': {'Baja California':2844469, 'Ciudad de Mexico': 8720916, 'Hidalgo':2345514, 'Morelos':1612899,'Nayarit':949684 },\n",
    "'Poblacion_60_a': {'Baja California':164888, 'Ciudad de Mexico':859438 , 'Hidalgo':204325, 'Morelos':143942,'Nayarit':9061},\n",
    "'Poblacion_0_4': {'Baja California':267954, 'Ciudad de Mexico':664092, 'Hidalgo':237423, 'Morelos':150281, 'Nayarit':92384},\n",
    "'Poblacion_5_9': {'Ciudad de Mexico': 671579, 'Hidalgo':243185, 'Morelos':157253, 'Nayarit':96834, 'Baja California':277635},\n",
    "'Poblacion_10_14': {'Baja California':267938, 'Ciudad de Mexico':704950, 'Hidalgo':270650, 'Morelos':168541, 'Nayarit':103122}\n",
    "}\n",
    " \n",
    "df_1=pd.DataFrame(dic_dic)\n",
    "df_1"
   ]
  },
  {
   "cell_type": "markdown",
   "metadata": {},
   "source": [
    "Como se observa el comportamiento por defecto de la función constructora usando un diccionario de diccionarios (diccionarios anidados) es tomar como columnas las llaves del diccionario exterior y como renglones las llaves de los diccionarios internos. Si quisieramos que fuese las columnas se convirtieran en los renglones existen varias formas de lograr este cometido la más simples es tomar la transpuesta del *dataframe*.   \n",
    "\n",
    "Recornando sus clases de matemáticas tomar la transpuesta es cambiar los renglones de una matriz y convertirlos en columnas respetando el orden dado, esta operación se puede hacer en los dataframes de forma muy fácil usando el método implementado en los *dataframes*"
   ]
  },
  {
   "cell_type": "code",
   "execution_count": 39,
   "metadata": {},
   "outputs": [
    {
     "data": {
      "text/html": [
       "<div>\n",
       "<style scoped>\n",
       "    .dataframe tbody tr th:only-of-type {\n",
       "        vertical-align: middle;\n",
       "    }\n",
       "\n",
       "    .dataframe tbody tr th {\n",
       "        vertical-align: top;\n",
       "    }\n",
       "\n",
       "    .dataframe thead th {\n",
       "        text-align: right;\n",
       "    }\n",
       "</style>\n",
       "<table border=\"1\" class=\"dataframe\">\n",
       "  <thead>\n",
       "    <tr style=\"text-align: right;\">\n",
       "      <th></th>\n",
       "      <th>Baja California</th>\n",
       "      <th>Ciudad de Mexico</th>\n",
       "      <th>Hidalgo</th>\n",
       "      <th>Morelos</th>\n",
       "      <th>Nayarit</th>\n",
       "    </tr>\n",
       "  </thead>\n",
       "  <tbody>\n",
       "    <tr>\n",
       "      <th>Poblacion</th>\n",
       "      <td>2844469</td>\n",
       "      <td>8720916</td>\n",
       "      <td>2345514</td>\n",
       "      <td>1612899</td>\n",
       "      <td>949684</td>\n",
       "    </tr>\n",
       "    <tr>\n",
       "      <th>Poblacion_60_a</th>\n",
       "      <td>164888</td>\n",
       "      <td>859438</td>\n",
       "      <td>204325</td>\n",
       "      <td>143942</td>\n",
       "      <td>9061</td>\n",
       "    </tr>\n",
       "    <tr>\n",
       "      <th>Poblacion_0_4</th>\n",
       "      <td>267954</td>\n",
       "      <td>664092</td>\n",
       "      <td>237423</td>\n",
       "      <td>150281</td>\n",
       "      <td>92384</td>\n",
       "    </tr>\n",
       "    <tr>\n",
       "      <th>Poblacion_5_9</th>\n",
       "      <td>277635</td>\n",
       "      <td>671579</td>\n",
       "      <td>243185</td>\n",
       "      <td>157253</td>\n",
       "      <td>96834</td>\n",
       "    </tr>\n",
       "    <tr>\n",
       "      <th>Poblacion_10_14</th>\n",
       "      <td>267938</td>\n",
       "      <td>704950</td>\n",
       "      <td>270650</td>\n",
       "      <td>168541</td>\n",
       "      <td>103122</td>\n",
       "    </tr>\n",
       "  </tbody>\n",
       "</table>\n",
       "</div>"
      ],
      "text/plain": [
       "                 Baja California  Ciudad de Mexico  Hidalgo  Morelos  Nayarit\n",
       "Poblacion                2844469           8720916  2345514  1612899   949684\n",
       "Poblacion_60_a            164888            859438   204325   143942     9061\n",
       "Poblacion_0_4             267954            664092   237423   150281    92384\n",
       "Poblacion_5_9             277635            671579   243185   157253    96834\n",
       "Poblacion_10_14           267938            704950   270650   168541   103122"
      ]
     },
     "execution_count": 39,
     "metadata": {},
     "output_type": "execute_result"
    }
   ],
   "source": [
    "df_1.T"
   ]
  },
  {
   "cell_type": "markdown",
   "metadata": {},
   "source": [
    "Muchas de las operaciones que se pueden hacer con matrices es posibles hacerlas con los *dataframes* y es de las cosas que se atenderan durante el curso, esta operación muestra la capacidad de los *dataframes* para ser operados por renglones o columnas. \n",
    "\n",
    "La mayoría de las operaciones que se están implementadas en *pandas* dejan al objeto en su forma original al menos que se indique lo contrario, es decir `df_1` sigue siendo el mismo y no se vio afectado por la operación `.T`, esto es importante tenerlo en cuenta pues es causa común de errores al hacer código.  \n"
   ]
  },
  {
   "cell_type": "code",
   "execution_count": 40,
   "metadata": {},
   "outputs": [
    {
     "data": {
      "text/html": [
       "<div>\n",
       "<style scoped>\n",
       "    .dataframe tbody tr th:only-of-type {\n",
       "        vertical-align: middle;\n",
       "    }\n",
       "\n",
       "    .dataframe tbody tr th {\n",
       "        vertical-align: top;\n",
       "    }\n",
       "\n",
       "    .dataframe thead th {\n",
       "        text-align: right;\n",
       "    }\n",
       "</style>\n",
       "<table border=\"1\" class=\"dataframe\">\n",
       "  <thead>\n",
       "    <tr style=\"text-align: right;\">\n",
       "      <th></th>\n",
       "      <th>Poblacion</th>\n",
       "      <th>Poblacion_60_a</th>\n",
       "      <th>Poblacion_0_4</th>\n",
       "      <th>Poblacion_5_9</th>\n",
       "      <th>Poblacion_10_14</th>\n",
       "    </tr>\n",
       "  </thead>\n",
       "  <tbody>\n",
       "    <tr>\n",
       "      <th>Baja California</th>\n",
       "      <td>2844469</td>\n",
       "      <td>164888</td>\n",
       "      <td>267954</td>\n",
       "      <td>277635</td>\n",
       "      <td>267938</td>\n",
       "    </tr>\n",
       "    <tr>\n",
       "      <th>Ciudad de Mexico</th>\n",
       "      <td>8720916</td>\n",
       "      <td>859438</td>\n",
       "      <td>664092</td>\n",
       "      <td>671579</td>\n",
       "      <td>704950</td>\n",
       "    </tr>\n",
       "    <tr>\n",
       "      <th>Hidalgo</th>\n",
       "      <td>2345514</td>\n",
       "      <td>204325</td>\n",
       "      <td>237423</td>\n",
       "      <td>243185</td>\n",
       "      <td>270650</td>\n",
       "    </tr>\n",
       "    <tr>\n",
       "      <th>Morelos</th>\n",
       "      <td>1612899</td>\n",
       "      <td>143942</td>\n",
       "      <td>150281</td>\n",
       "      <td>157253</td>\n",
       "      <td>168541</td>\n",
       "    </tr>\n",
       "    <tr>\n",
       "      <th>Nayarit</th>\n",
       "      <td>949684</td>\n",
       "      <td>9061</td>\n",
       "      <td>92384</td>\n",
       "      <td>96834</td>\n",
       "      <td>103122</td>\n",
       "    </tr>\n",
       "  </tbody>\n",
       "</table>\n",
       "</div>"
      ],
      "text/plain": [
       "                  Poblacion  Poblacion_60_a  Poblacion_0_4  Poblacion_5_9  \\\n",
       "Baja California     2844469          164888         267954         277635   \n",
       "Ciudad de Mexico    8720916          859438         664092         671579   \n",
       "Hidalgo             2345514          204325         237423         243185   \n",
       "Morelos             1612899          143942         150281         157253   \n",
       "Nayarit              949684            9061          92384          96834   \n",
       "\n",
       "                  Poblacion_10_14  \n",
       "Baja California            267938  \n",
       "Ciudad de Mexico           704950  \n",
       "Hidalgo                    270650  \n",
       "Morelos                    168541  \n",
       "Nayarit                    103122  "
      ]
     },
     "execution_count": 40,
     "metadata": {},
     "output_type": "execute_result"
    }
   ],
   "source": [
    "df_1"
   ]
  },
  {
   "cell_type": "markdown",
   "metadata": {},
   "source": [
    "Para entender un poco más de como se construyen los *datafremes* modifiquemos un poco el diccionario añadiendo elementos a los diccionarios internos para que ver el comportamiento con diccionarios de distinto tamaño."
   ]
  },
  {
   "cell_type": "code",
   "execution_count": 41,
   "metadata": {},
   "outputs": [
    {
     "data": {
      "text/html": [
       "<div>\n",
       "<style scoped>\n",
       "    .dataframe tbody tr th:only-of-type {\n",
       "        vertical-align: middle;\n",
       "    }\n",
       "\n",
       "    .dataframe tbody tr th {\n",
       "        vertical-align: top;\n",
       "    }\n",
       "\n",
       "    .dataframe thead th {\n",
       "        text-align: right;\n",
       "    }\n",
       "</style>\n",
       "<table border=\"1\" class=\"dataframe\">\n",
       "  <thead>\n",
       "    <tr style=\"text-align: right;\">\n",
       "      <th></th>\n",
       "      <th>Poblacion</th>\n",
       "      <th>Poblacion_60_a</th>\n",
       "      <th>Poblacion_0_4</th>\n",
       "      <th>Poblacion_5_9</th>\n",
       "      <th>Poblacion_10_14</th>\n",
       "    </tr>\n",
       "  </thead>\n",
       "  <tbody>\n",
       "    <tr>\n",
       "      <th>Baja California</th>\n",
       "      <td>2844469</td>\n",
       "      <td>164888.0</td>\n",
       "      <td>267954.0</td>\n",
       "      <td>277635.0</td>\n",
       "      <td>267938.0</td>\n",
       "    </tr>\n",
       "    <tr>\n",
       "      <th>Ciudad de Mexico</th>\n",
       "      <td>8720916</td>\n",
       "      <td>859438.0</td>\n",
       "      <td>664092.0</td>\n",
       "      <td>671579.0</td>\n",
       "      <td>704950.0</td>\n",
       "    </tr>\n",
       "    <tr>\n",
       "      <th>Hidalgo</th>\n",
       "      <td>2345514</td>\n",
       "      <td>204325.0</td>\n",
       "      <td>237423.0</td>\n",
       "      <td>243185.0</td>\n",
       "      <td>270650.0</td>\n",
       "    </tr>\n",
       "    <tr>\n",
       "      <th>Morelos</th>\n",
       "      <td>1612899</td>\n",
       "      <td>143942.0</td>\n",
       "      <td>150281.0</td>\n",
       "      <td>157253.0</td>\n",
       "      <td>168541.0</td>\n",
       "    </tr>\n",
       "    <tr>\n",
       "      <th>Nayarit</th>\n",
       "      <td>949684</td>\n",
       "      <td>9061.0</td>\n",
       "      <td>92384.0</td>\n",
       "      <td>96834.0</td>\n",
       "      <td>103122.0</td>\n",
       "    </tr>\n",
       "    <tr>\n",
       "      <th>Tamaulipas</th>\n",
       "      <td>3024238</td>\n",
       "      <td>NaN</td>\n",
       "      <td>NaN</td>\n",
       "      <td>NaN</td>\n",
       "      <td>NaN</td>\n",
       "    </tr>\n",
       "  </tbody>\n",
       "</table>\n",
       "</div>"
      ],
      "text/plain": [
       "                  Poblacion  Poblacion_60_a  Poblacion_0_4  Poblacion_5_9  \\\n",
       "Baja California     2844469        164888.0       267954.0       277635.0   \n",
       "Ciudad de Mexico    8720916        859438.0       664092.0       671579.0   \n",
       "Hidalgo             2345514        204325.0       237423.0       243185.0   \n",
       "Morelos             1612899        143942.0       150281.0       157253.0   \n",
       "Nayarit              949684          9061.0        92384.0        96834.0   \n",
       "Tamaulipas          3024238             NaN            NaN            NaN   \n",
       "\n",
       "                  Poblacion_10_14  \n",
       "Baja California          267938.0  \n",
       "Ciudad de Mexico         704950.0  \n",
       "Hidalgo                  270650.0  \n",
       "Morelos                  168541.0  \n",
       "Nayarit                  103122.0  \n",
       "Tamaulipas                    NaN  "
      ]
     },
     "execution_count": 41,
     "metadata": {},
     "output_type": "execute_result"
    }
   ],
   "source": [
    "dic_dic['Poblacion']['Tamaulipas']=\t3024238\n",
    "df_2 =pd.DataFrame(dic_dic)\n",
    "df_2"
   ]
  },
  {
   "cell_type": "markdown",
   "metadata": {},
   "source": [
    "La función constructura de los *dataframes* nos permite que los diccionarios tengan distintos tamaños pues existe un forma de determinar la relación índice-valor. Una diferencía con respecto a esto, es cuando se construye un *dataframe* a partir de un diccionario de listas, *pandas* asumirá que la relación índice-valor esta dada por el orden en las listas."
   ]
  },
  {
   "cell_type": "code",
   "execution_count": 42,
   "metadata": {},
   "outputs": [
    {
     "data": {
      "text/html": [
       "<div>\n",
       "<style scoped>\n",
       "    .dataframe tbody tr th:only-of-type {\n",
       "        vertical-align: middle;\n",
       "    }\n",
       "\n",
       "    .dataframe tbody tr th {\n",
       "        vertical-align: top;\n",
       "    }\n",
       "\n",
       "    .dataframe thead th {\n",
       "        text-align: right;\n",
       "    }\n",
       "</style>\n",
       "<table border=\"1\" class=\"dataframe\">\n",
       "  <thead>\n",
       "    <tr style=\"text-align: right;\">\n",
       "      <th></th>\n",
       "      <th>Poblacion</th>\n",
       "      <th>Poblacion_60_a</th>\n",
       "      <th>Poblacion_0_4</th>\n",
       "      <th>Poblacion_5_9</th>\n",
       "      <th>Poblacion_10_14</th>\n",
       "    </tr>\n",
       "  </thead>\n",
       "  <tbody>\n",
       "    <tr>\n",
       "      <th>0</th>\n",
       "      <td>2844469</td>\n",
       "      <td>164888</td>\n",
       "      <td>267954</td>\n",
       "      <td>277635</td>\n",
       "      <td>267938</td>\n",
       "    </tr>\n",
       "    <tr>\n",
       "      <th>1</th>\n",
       "      <td>8720916</td>\n",
       "      <td>859438</td>\n",
       "      <td>664092</td>\n",
       "      <td>671579</td>\n",
       "      <td>704950</td>\n",
       "    </tr>\n",
       "    <tr>\n",
       "      <th>2</th>\n",
       "      <td>2345514</td>\n",
       "      <td>204325</td>\n",
       "      <td>237423</td>\n",
       "      <td>243185</td>\n",
       "      <td>270650</td>\n",
       "    </tr>\n",
       "    <tr>\n",
       "      <th>3</th>\n",
       "      <td>1612899</td>\n",
       "      <td>143942</td>\n",
       "      <td>150281</td>\n",
       "      <td>157253</td>\n",
       "      <td>168541</td>\n",
       "    </tr>\n",
       "    <tr>\n",
       "      <th>4</th>\n",
       "      <td>949684</td>\n",
       "      <td>9061</td>\n",
       "      <td>92384</td>\n",
       "      <td>96834</td>\n",
       "      <td>103122</td>\n",
       "    </tr>\n",
       "  </tbody>\n",
       "</table>\n",
       "</div>"
      ],
      "text/plain": [
       "   Poblacion  Poblacion_60_a  Poblacion_0_4  Poblacion_5_9  Poblacion_10_14\n",
       "0    2844469          164888         267954         277635           267938\n",
       "1    8720916          859438         664092         671579           704950\n",
       "2    2345514          204325         237423         243185           270650\n",
       "3    1612899          143942         150281         157253           168541\n",
       "4     949684            9061          92384          96834           103122"
      ]
     },
     "execution_count": 42,
     "metadata": {},
     "output_type": "execute_result"
    }
   ],
   "source": [
    "dic_lis={'Poblacion': [2844469,  8720916, 2345514, 1612899,949684 ],\n",
    "'Poblacion_60_a': [164888, 859438 , 204325, 143942,9061],\n",
    "'Poblacion_0_4': [267954, 664092, 237423, 150281, 92384],\n",
    "'Poblacion_5_9': [277635, 671579, 243185, 157253, 96834],\n",
    "'Poblacion_10_14': [267938,704950, 270650, 168541,103122]}\n",
    "pd.DataFrame(dic_lis)"
   ]
  },
  {
   "cell_type": "markdown",
   "metadata": {},
   "source": [
    "\n",
    "Al no tener etiquetas el índice en el *dataframe* se toma como un rango por defecto, igual que se hace con la construcción de las *series*. Sin embargo al utilizar listas es necesario que todas tengan el mismo tamaño y que las listas esten ordenadas, es decir que los datos en el indice *i* de una lista correspondan al dato *i* en todas las otras. Si se ponen atención en los ejemplos mostrados los datos en el diciionario anidado no se encuentran en orden, no es necesarios que los diccionarios internos tengan el mismo orden, pues se tiene las llaves de los diccionarios internos para asegurar que al generar el dataframe se mantenga la relación índice-valor."
   ]
  },
  {
   "cell_type": "markdown",
   "metadata": {},
   "source": [
    "Ahora construimos un *dataframe* a partir de un diccionario de series."
   ]
  },
  {
   "cell_type": "code",
   "execution_count": 43,
   "metadata": {},
   "outputs": [],
   "source": [
    "dic_ser= {'Poblacion': pd.Series({'Puebla':5383133,'Quintana Roo':1135309, 'Sinaloa':2608442}),\n",
    "          'Poblacion_0_4':pd.Series({'Puebla':579804,'Quintana Roo':107380, 'Sinaloa':244907}),\n",
    "          'Poblacion_5_9':pd.Series({'Puebla':586108,'Quintana Roo':106802, 'Sinaloa':262539}),\n",
    "          'Poblacion_10_14':pd.Series({'Puebla':624075,'Quintana Roo':106745, 'Sinaloa':275179}),\n",
    "          'Poblacion_60_a':pd.Series({'Puebla':440546,'Quintana Roo':44163, 'Sinaloa':220998})\n",
    "         }\n"
   ]
  },
  {
   "cell_type": "code",
   "execution_count": 44,
   "metadata": {},
   "outputs": [
    {
     "data": {
      "text/html": [
       "<div>\n",
       "<style scoped>\n",
       "    .dataframe tbody tr th:only-of-type {\n",
       "        vertical-align: middle;\n",
       "    }\n",
       "\n",
       "    .dataframe tbody tr th {\n",
       "        vertical-align: top;\n",
       "    }\n",
       "\n",
       "    .dataframe thead th {\n",
       "        text-align: right;\n",
       "    }\n",
       "</style>\n",
       "<table border=\"1\" class=\"dataframe\">\n",
       "  <thead>\n",
       "    <tr style=\"text-align: right;\">\n",
       "      <th></th>\n",
       "      <th>Poblacion</th>\n",
       "      <th>Poblacion_0_4</th>\n",
       "      <th>Poblacion_5_9</th>\n",
       "      <th>Poblacion_10_14</th>\n",
       "      <th>Poblacion_60_a</th>\n",
       "    </tr>\n",
       "  </thead>\n",
       "  <tbody>\n",
       "    <tr>\n",
       "      <th>Puebla</th>\n",
       "      <td>5383133</td>\n",
       "      <td>579804</td>\n",
       "      <td>586108</td>\n",
       "      <td>624075</td>\n",
       "      <td>440546</td>\n",
       "    </tr>\n",
       "    <tr>\n",
       "      <th>Quintana Roo</th>\n",
       "      <td>1135309</td>\n",
       "      <td>107380</td>\n",
       "      <td>106802</td>\n",
       "      <td>106745</td>\n",
       "      <td>44163</td>\n",
       "    </tr>\n",
       "    <tr>\n",
       "      <th>Sinaloa</th>\n",
       "      <td>2608442</td>\n",
       "      <td>244907</td>\n",
       "      <td>262539</td>\n",
       "      <td>275179</td>\n",
       "      <td>220998</td>\n",
       "    </tr>\n",
       "  </tbody>\n",
       "</table>\n",
       "</div>"
      ],
      "text/plain": [
       "              Poblacion  Poblacion_0_4  Poblacion_5_9  Poblacion_10_14  \\\n",
       "Puebla          5383133         579804         586108           624075   \n",
       "Quintana Roo    1135309         107380         106802           106745   \n",
       "Sinaloa         2608442         244907         262539           275179   \n",
       "\n",
       "              Poblacion_60_a  \n",
       "Puebla                440546  \n",
       "Quintana Roo           44163  \n",
       "Sinaloa               220998  "
      ]
     },
     "execution_count": 44,
     "metadata": {},
     "output_type": "execute_result"
    }
   ],
   "source": [
    "df_2=pd.DataFrame(dic_ser)\n",
    "df_2"
   ]
  },
  {
   "cell_type": "markdown",
   "metadata": {},
   "source": [
    "Es posible definir el orden en el cual se encuentran las columnas de los dataframes y tambíen que columnas se encuentren dentro, esto lo podemos hacer desde la función constructor del dataframe"
   ]
  },
  {
   "cell_type": "code",
   "execution_count": 45,
   "metadata": {},
   "outputs": [
    {
     "data": {
      "text/html": [
       "<div>\n",
       "<style scoped>\n",
       "    .dataframe tbody tr th:only-of-type {\n",
       "        vertical-align: middle;\n",
       "    }\n",
       "\n",
       "    .dataframe tbody tr th {\n",
       "        vertical-align: top;\n",
       "    }\n",
       "\n",
       "    .dataframe thead th {\n",
       "        text-align: right;\n",
       "    }\n",
       "</style>\n",
       "<table border=\"1\" class=\"dataframe\">\n",
       "  <thead>\n",
       "    <tr style=\"text-align: right;\">\n",
       "      <th></th>\n",
       "      <th>Poblacion_0_4</th>\n",
       "      <th>Poblacion_5_9</th>\n",
       "      <th>Poblacion_60_a</th>\n",
       "      <th>Poblacion</th>\n",
       "    </tr>\n",
       "  </thead>\n",
       "  <tbody>\n",
       "    <tr>\n",
       "      <th>Puebla</th>\n",
       "      <td>579804</td>\n",
       "      <td>586108</td>\n",
       "      <td>440546</td>\n",
       "      <td>5383133</td>\n",
       "    </tr>\n",
       "    <tr>\n",
       "      <th>Quintana Roo</th>\n",
       "      <td>107380</td>\n",
       "      <td>106802</td>\n",
       "      <td>44163</td>\n",
       "      <td>1135309</td>\n",
       "    </tr>\n",
       "    <tr>\n",
       "      <th>Sinaloa</th>\n",
       "      <td>244907</td>\n",
       "      <td>262539</td>\n",
       "      <td>220998</td>\n",
       "      <td>2608442</td>\n",
       "    </tr>\n",
       "  </tbody>\n",
       "</table>\n",
       "</div>"
      ],
      "text/plain": [
       "              Poblacion_0_4  Poblacion_5_9  Poblacion_60_a  Poblacion\n",
       "Puebla               579804         586108          440546    5383133\n",
       "Quintana Roo         107380         106802           44163    1135309\n",
       "Sinaloa              244907         262539          220998    2608442"
      ]
     },
     "execution_count": 45,
     "metadata": {},
     "output_type": "execute_result"
    }
   ],
   "source": [
    "df_3=pd.DataFrame(dic_ser, columns= ['Poblacion_0_4','Poblacion_5_9', 'Poblacion_60_a', 'Poblacion' ])\n",
    "df_3"
   ]
  },
  {
   "cell_type": "markdown",
   "metadata": {},
   "source": [
    "Otra forma en la cual nos seria útil construir los *dataframes* es a partir de un diccionario de diccionarios "
   ]
  },
  {
   "cell_type": "code",
   "execution_count": 46,
   "metadata": {},
   "outputs": [
    {
     "data": {
      "text/html": [
       "<div>\n",
       "<style scoped>\n",
       "    .dataframe tbody tr th:only-of-type {\n",
       "        vertical-align: middle;\n",
       "    }\n",
       "\n",
       "    .dataframe tbody tr th {\n",
       "        vertical-align: top;\n",
       "    }\n",
       "\n",
       "    .dataframe thead th {\n",
       "        text-align: right;\n",
       "    }\n",
       "</style>\n",
       "<table border=\"1\" class=\"dataframe\">\n",
       "  <thead>\n",
       "    <tr style=\"text-align: right;\">\n",
       "      <th></th>\n",
       "      <th>Poblacion</th>\n",
       "      <th>Poblacion_0_4</th>\n",
       "      <th>Poblacion_5_9</th>\n",
       "      <th>Poblacion_10_14</th>\n",
       "      <th>Poblacion_60_a</th>\n",
       "    </tr>\n",
       "  </thead>\n",
       "  <tbody>\n",
       "    <tr>\n",
       "      <th>Puebla</th>\n",
       "      <td>5383133</td>\n",
       "      <td>579804</td>\n",
       "      <td>586108</td>\n",
       "      <td>624075</td>\n",
       "      <td>440546</td>\n",
       "    </tr>\n",
       "    <tr>\n",
       "      <th>Quintana Roo</th>\n",
       "      <td>1135309</td>\n",
       "      <td>107380</td>\n",
       "      <td>106802</td>\n",
       "      <td>106745</td>\n",
       "      <td>44163</td>\n",
       "    </tr>\n",
       "    <tr>\n",
       "      <th>Sinaloa</th>\n",
       "      <td>2608442</td>\n",
       "      <td>244907</td>\n",
       "      <td>262539</td>\n",
       "      <td>275179</td>\n",
       "      <td>220998</td>\n",
       "    </tr>\n",
       "  </tbody>\n",
       "</table>\n",
       "</div>"
      ],
      "text/plain": [
       "              Poblacion  Poblacion_0_4  Poblacion_5_9  Poblacion_10_14  \\\n",
       "Puebla          5383133         579804         586108           624075   \n",
       "Quintana Roo    1135309         107380         106802           106745   \n",
       "Sinaloa         2608442         244907         262539           275179   \n",
       "\n",
       "              Poblacion_60_a  \n",
       "Puebla                440546  \n",
       "Quintana Roo           44163  \n",
       "Sinaloa               220998  "
      ]
     },
     "execution_count": 46,
     "metadata": {},
     "output_type": "execute_result"
    }
   ],
   "source": [
    "dic_cic_2= { 'Poblacion':{'Puebla':5383133,'Quintana Roo':1135309, 'Sinaloa':2608442},\n",
    "'Poblacion_0_4':{'Puebla':579804,'Quintana Roo':107380, 'Sinaloa':244907},\n",
    "'Poblacion_5_9':{'Puebla':586108,'Quintana Roo':106802, 'Sinaloa':262539},\n",
    "'Poblacion_10_14':{'Puebla':624075,'Quintana Roo':106745, 'Sinaloa':275179},\n",
    "'Poblacion_60_a':{'Puebla':440546,'Quintana Roo':44163, 'Sinaloa':220998}}\n",
    "df_4= pd.DataFrame(dic_cic_2)\n",
    "df_4"
   ]
  },
  {
   "cell_type": "markdown",
   "metadata": {},
   "source": [
    "Los valores en el diccionario se toman como columnas, con el nombre de las llaves en el diccionario. Recordemos que los índices y las columnas pueden ser cosas distintas no sólo *strings*, pueden ser tuplas, enteros, flotantes, etc.\n",
    "\n",
    "A continuación mostramos una tabla con los posibles estructuras de datos que pueden utilizarse para generar un *dataframe* en *pandas*. \n",
    "\n",
    "\n",
    "| Estructura datos | Descripción |\n",
    "|:-------|:-----------:|\n",
    "| Array 2D|  Una matriz de *numpy* .|\n",
    "| Diccionaro de *array*, lista, o tuplas| Cada valor en el diccionario se convierte en <br> una columna en el *dataframe* en donde cada *array*,<br> lista o tupla tienen que ser de la misma longitud.| \n",
    "| Diccionario de *Series*| Cada valor del diccionario se convierte en una<br> columna cuya etiqueta se toma de las llaves (`key`); <br>los índices son la unión del conjunto de índices de <br> todas las *series*, si no se pasa un índice explicitamente.|\n",
    "| Dicccionario de diccionarios | Cada diccionario internos se convierte en una<br> columna; los índices se forman a partir de la unión <br>de las  llaves(`key`) de los diccionarios internos.|\n",
    "| Lista de diccionarios o *Series*| Los elementos de las listas o diccionarios<br> se convierten en renglones en el *dataframe*, la unión<br> de las llaves del diccionario o de los índices<br> de las *Series*, se vuelven las etiquetas de los renglones.|\n",
    "| Listas de listas o tuplas | Se toma como el caso de *Array 2D*.\n",
    "| Otro *dataframe*| Se utilizan los íondices del dataframe si no se pasa otro distinto.|\n",
    "| Numpy Array enmascarada| Como *Array 2D* salvo aquellos que tengan <br> `False` en la matriz mascara, se tomaran como *NA*.| "
   ]
  },
  {
   "cell_type": "markdown",
   "metadata": {},
   "source": [
    "## Índices \n",
    "Como hemos visto los índices son una parte muy importante para el manejo de los datos tanto en las *series* como en los *dataframes*. Son tan importantes que los índices de éstas estructuras tienen su propio objeto dedicado en *pandas* el cual esta encargado de almacenar las etiquetas     "
   ]
  },
  {
   "cell_type": "code",
   "execution_count": 47,
   "metadata": {},
   "outputs": [
    {
     "data": {
      "text/plain": [
       "b    0\n",
       "e    1\n",
       "f    2\n",
       "g    3\n",
       "h    4\n",
       "i    5\n",
       "k    6\n",
       "n    7\n",
       "z    8\n",
       "w    9\n",
       "dtype: int64"
      ]
     },
     "execution_count": 47,
     "metadata": {},
     "output_type": "execute_result"
    }
   ],
   "source": [
    "Serie_1=pd.Series(range(10), index=['b','e','f','g','h','i','k','n','z' ,'w'])\n",
    "Serie_1"
   ]
  },
  {
   "cell_type": "code",
   "execution_count": 48,
   "metadata": {},
   "outputs": [
    {
     "data": {
      "text/plain": [
       "Index(['b', 'e', 'f', 'g', 'h', 'i', 'k', 'n', 'z', 'w'], dtype='object')"
      ]
     },
     "execution_count": 48,
     "metadata": {},
     "output_type": "execute_result"
    }
   ],
   "source": [
    "indice= Serie_1.index\n",
    "indice"
   ]
  },
  {
   "cell_type": "markdown",
   "metadata": {},
   "source": [
    "Al construir la *serie* o un *dataframe* el conjunto que se define como índice, ya sea un array o una secuencia, se convierte de forma interna a un objeto de este tipo. "
   ]
  },
  {
   "cell_type": "code",
   "execution_count": 49,
   "metadata": {},
   "outputs": [
    {
     "data": {
      "text/plain": [
       "Index(['e', 'f', 'g', 'h', 'i', 'k', 'n', 'z', 'w'], dtype='object')"
      ]
     },
     "execution_count": 49,
     "metadata": {},
     "output_type": "execute_result"
    }
   ],
   "source": [
    "indice[1:]"
   ]
  },
  {
   "cell_type": "code",
   "execution_count": 50,
   "metadata": {},
   "outputs": [
    {
     "data": {
      "text/plain": [
       "Index(['b', 'e', 'f', 'g', 'h'], dtype='object')"
      ]
     },
     "execution_count": 50,
     "metadata": {},
     "output_type": "execute_result"
    }
   ],
   "source": [
    "indice[:5]"
   ]
  },
  {
   "cell_type": "markdown",
   "metadata": {},
   "source": [
    "Los índices son del tipo inmutable, es decir que no pueden ser modificados por el usuario, si \n",
    "para ser modificado es necesario redefinirlos a través de funciones hechas para tal proposito.\n",
    "\n",
    "## Reindexar\n",
    "Un método dentro de las *series* y los *dataframes* que es útil es el de reindexar el cual nos permite crear un objeto nuevo a partir de los datos de otro formado por un nuevo índice. "
   ]
  },
  {
   "cell_type": "code",
   "execution_count": 51,
   "metadata": {},
   "outputs": [
    {
     "data": {
      "text/plain": [
       "0     20\n",
       "5     21\n",
       "6     22\n",
       "9     23\n",
       "3     24\n",
       "15    25\n",
       "12    26\n",
       "4     27\n",
       "7     28\n",
       "13    29\n",
       "dtype: int64"
      ]
     },
     "execution_count": 51,
     "metadata": {},
     "output_type": "execute_result"
    }
   ],
   "source": [
    "Serie_1=pd.Series(range(20,30), index=[0,5,6,9,3,15,12,4,7,13])\n",
    "Serie_1"
   ]
  },
  {
   "cell_type": "code",
   "execution_count": 52,
   "metadata": {},
   "outputs": [
    {
     "data": {
      "text/plain": [
       "0    20.0\n",
       "1     NaN\n",
       "2     NaN\n",
       "3    24.0\n",
       "4    27.0\n",
       "5    21.0\n",
       "6    22.0\n",
       "7    28.0\n",
       "8     NaN\n",
       "9    23.0\n",
       "dtype: float64"
      ]
     },
     "execution_count": 52,
     "metadata": {},
     "output_type": "execute_result"
    }
   ],
   "source": [
    "\n",
    "Ses=Serie_1.reindex(range(10))#[0,1,2,3,4,5,6,7,8,9]) \n",
    "Ses"
   ]
  },
  {
   "cell_type": "markdown",
   "metadata": {},
   "source": [
    "La función nos permite hacer generar un objeto nuevo el cual tiene el orden y los datos deseados, a los datos que no se encuentren en el objeto original se les asigna `NaN`. Si los datos tienen cierto orden, es posible hacer una interpolación y determijnar un valor para los datos faltantes.  "
   ]
  },
  {
   "cell_type": "code",
   "execution_count": 53,
   "metadata": {},
   "outputs": [
    {
     "data": {
      "text/plain": [
       "5      rojo\n",
       "6      rojo\n",
       "7      rojo\n",
       "8      rojo\n",
       "9      rojo\n",
       "10     rojo\n",
       "11     azul\n",
       "12     azul\n",
       "13     azul\n",
       "14     azul\n",
       "15     azul\n",
       "16     azul\n",
       "17     azul\n",
       "18    verde\n",
       "19    verde\n",
       "20    verde\n",
       "21    verde\n",
       "22    verde\n",
       "23    verde\n",
       "24    verde\n",
       "dtype: object"
      ]
     },
     "execution_count": 53,
     "metadata": {},
     "output_type": "execute_result"
    }
   ],
   "source": [
    "Ses=pd.Series(['rojo','rojo','rojo','rojo','rojo','rojo','azul','azul','azul','azul','azul',\n",
    "           'verde', 'verde', 'verde', 'verde', 'verde', 'verde', 'verde', 'verde', 'verde'], \n",
    "          index =[2,3,5,6,8,9,11,12,14,15,17,18,20,21,23,24,26,27,29,30])\n",
    "Ses_2=Ses.reindex(range(5,25), method='ffill')\n",
    "Ses_2"
   ]
  },
  {
   "cell_type": "markdown",
   "metadata": {},
   "source": [
    "Como los *dataframes* utilizan los objetos de tipo index tanto en el índice de los renglones como en las columnas, por lo que se puede utilizar la función en ambos casos."
   ]
  },
  {
   "cell_type": "code",
   "execution_count": 54,
   "metadata": {},
   "outputs": [
    {
     "data": {
      "text/html": [
       "<div>\n",
       "<style scoped>\n",
       "    .dataframe tbody tr th:only-of-type {\n",
       "        vertical-align: middle;\n",
       "    }\n",
       "\n",
       "    .dataframe tbody tr th {\n",
       "        vertical-align: top;\n",
       "    }\n",
       "\n",
       "    .dataframe thead th {\n",
       "        text-align: right;\n",
       "    }\n",
       "</style>\n",
       "<table border=\"1\" class=\"dataframe\">\n",
       "  <thead>\n",
       "    <tr style=\"text-align: right;\">\n",
       "      <th></th>\n",
       "      <th>Poblacion</th>\n",
       "      <th>Poblacion_60_a</th>\n",
       "      <th>Poblacion_0_4</th>\n",
       "      <th>Poblacion_5_9</th>\n",
       "      <th>Poblacion_10_14</th>\n",
       "    </tr>\n",
       "  </thead>\n",
       "  <tbody>\n",
       "    <tr>\n",
       "      <th>Baja California</th>\n",
       "      <td>2844469</td>\n",
       "      <td>164888</td>\n",
       "      <td>267954</td>\n",
       "      <td>277635</td>\n",
       "      <td>267938</td>\n",
       "    </tr>\n",
       "    <tr>\n",
       "      <th>Ciudad de Mexico</th>\n",
       "      <td>8720916</td>\n",
       "      <td>859438</td>\n",
       "      <td>664092</td>\n",
       "      <td>671579</td>\n",
       "      <td>704950</td>\n",
       "    </tr>\n",
       "    <tr>\n",
       "      <th>Hidalgo</th>\n",
       "      <td>2345514</td>\n",
       "      <td>204325</td>\n",
       "      <td>237423</td>\n",
       "      <td>243185</td>\n",
       "      <td>270650</td>\n",
       "    </tr>\n",
       "    <tr>\n",
       "      <th>Morelos</th>\n",
       "      <td>1612899</td>\n",
       "      <td>143942</td>\n",
       "      <td>150281</td>\n",
       "      <td>157253</td>\n",
       "      <td>168541</td>\n",
       "    </tr>\n",
       "    <tr>\n",
       "      <th>Nayarit</th>\n",
       "      <td>949684</td>\n",
       "      <td>9061</td>\n",
       "      <td>92384</td>\n",
       "      <td>96834</td>\n",
       "      <td>103122</td>\n",
       "    </tr>\n",
       "  </tbody>\n",
       "</table>\n",
       "</div>"
      ],
      "text/plain": [
       "                  Poblacion  Poblacion_60_a  Poblacion_0_4  Poblacion_5_9  \\\n",
       "Baja California     2844469          164888         267954         277635   \n",
       "Ciudad de Mexico    8720916          859438         664092         671579   \n",
       "Hidalgo             2345514          204325         237423         243185   \n",
       "Morelos             1612899          143942         150281         157253   \n",
       "Nayarit              949684            9061          92384          96834   \n",
       "\n",
       "                  Poblacion_10_14  \n",
       "Baja California            267938  \n",
       "Ciudad de Mexico           704950  \n",
       "Hidalgo                    270650  \n",
       "Morelos                    168541  \n",
       "Nayarit                    103122  "
      ]
     },
     "execution_count": 54,
     "metadata": {},
     "output_type": "execute_result"
    }
   ],
   "source": [
    "df_1"
   ]
  },
  {
   "cell_type": "code",
   "execution_count": 55,
   "metadata": {},
   "outputs": [
    {
     "data": {
      "text/html": [
       "<div>\n",
       "<style scoped>\n",
       "    .dataframe tbody tr th:only-of-type {\n",
       "        vertical-align: middle;\n",
       "    }\n",
       "\n",
       "    .dataframe tbody tr th {\n",
       "        vertical-align: top;\n",
       "    }\n",
       "\n",
       "    .dataframe thead th {\n",
       "        text-align: right;\n",
       "    }\n",
       "</style>\n",
       "<table border=\"1\" class=\"dataframe\">\n",
       "  <thead>\n",
       "    <tr style=\"text-align: right;\">\n",
       "      <th></th>\n",
       "      <th>Poblacion</th>\n",
       "      <th>Poblacion_60_a</th>\n",
       "      <th>Poblacion_0_4</th>\n",
       "      <th>Poblacion_5_9</th>\n",
       "      <th>Poblacion_10_14</th>\n",
       "    </tr>\n",
       "  </thead>\n",
       "  <tbody>\n",
       "    <tr>\n",
       "      <th>Baja California</th>\n",
       "      <td>2844469.0</td>\n",
       "      <td>164888.0</td>\n",
       "      <td>267954.0</td>\n",
       "      <td>277635.0</td>\n",
       "      <td>267938.0</td>\n",
       "    </tr>\n",
       "    <tr>\n",
       "      <th>Ciudad de Mexico</th>\n",
       "      <td>8720916.0</td>\n",
       "      <td>859438.0</td>\n",
       "      <td>664092.0</td>\n",
       "      <td>671579.0</td>\n",
       "      <td>704950.0</td>\n",
       "    </tr>\n",
       "    <tr>\n",
       "      <th>Yucatan</th>\n",
       "      <td>NaN</td>\n",
       "      <td>NaN</td>\n",
       "      <td>NaN</td>\n",
       "      <td>NaN</td>\n",
       "      <td>NaN</td>\n",
       "    </tr>\n",
       "    <tr>\n",
       "      <th>Hidalgo</th>\n",
       "      <td>2345514.0</td>\n",
       "      <td>204325.0</td>\n",
       "      <td>237423.0</td>\n",
       "      <td>243185.0</td>\n",
       "      <td>270650.0</td>\n",
       "    </tr>\n",
       "    <tr>\n",
       "      <th>Nayarit</th>\n",
       "      <td>949684.0</td>\n",
       "      <td>9061.0</td>\n",
       "      <td>92384.0</td>\n",
       "      <td>96834.0</td>\n",
       "      <td>103122.0</td>\n",
       "    </tr>\n",
       "  </tbody>\n",
       "</table>\n",
       "</div>"
      ],
      "text/plain": [
       "                  Poblacion  Poblacion_60_a  Poblacion_0_4  Poblacion_5_9  \\\n",
       "Baja California   2844469.0        164888.0       267954.0       277635.0   \n",
       "Ciudad de Mexico  8720916.0        859438.0       664092.0       671579.0   \n",
       "Yucatan                 NaN             NaN            NaN            NaN   \n",
       "Hidalgo           2345514.0        204325.0       237423.0       243185.0   \n",
       "Nayarit            949684.0          9061.0        92384.0        96834.0   \n",
       "\n",
       "                  Poblacion_10_14  \n",
       "Baja California          267938.0  \n",
       "Ciudad de Mexico         704950.0  \n",
       "Yucatan                       NaN  \n",
       "Hidalgo                  270650.0  \n",
       "Nayarit                  103122.0  "
      ]
     },
     "execution_count": 55,
     "metadata": {},
     "output_type": "execute_result"
    }
   ],
   "source": [
    "df_1.reindex(['Baja California', 'Ciudad de Mexico', 'Yucatan', 'Hidalgo','Nayarit'])"
   ]
  },
  {
   "cell_type": "code",
   "execution_count": 56,
   "metadata": {},
   "outputs": [
    {
     "data": {
      "text/html": [
       "<div>\n",
       "<style scoped>\n",
       "    .dataframe tbody tr th:only-of-type {\n",
       "        vertical-align: middle;\n",
       "    }\n",
       "\n",
       "    .dataframe tbody tr th {\n",
       "        vertical-align: top;\n",
       "    }\n",
       "\n",
       "    .dataframe thead th {\n",
       "        text-align: right;\n",
       "    }\n",
       "</style>\n",
       "<table border=\"1\" class=\"dataframe\">\n",
       "  <thead>\n",
       "    <tr style=\"text-align: right;\">\n",
       "      <th></th>\n",
       "      <th>Poblacion_0_4</th>\n",
       "      <th>Poblacion_5_9</th>\n",
       "      <th>Poblacion_10_14</th>\n",
       "      <th>Poblacion_15_19</th>\n",
       "    </tr>\n",
       "  </thead>\n",
       "  <tbody>\n",
       "    <tr>\n",
       "      <th>Baja California</th>\n",
       "      <td>267954</td>\n",
       "      <td>277635</td>\n",
       "      <td>267938</td>\n",
       "      <td>NaN</td>\n",
       "    </tr>\n",
       "    <tr>\n",
       "      <th>Ciudad de Mexico</th>\n",
       "      <td>664092</td>\n",
       "      <td>671579</td>\n",
       "      <td>704950</td>\n",
       "      <td>NaN</td>\n",
       "    </tr>\n",
       "    <tr>\n",
       "      <th>Hidalgo</th>\n",
       "      <td>237423</td>\n",
       "      <td>243185</td>\n",
       "      <td>270650</td>\n",
       "      <td>NaN</td>\n",
       "    </tr>\n",
       "    <tr>\n",
       "      <th>Morelos</th>\n",
       "      <td>150281</td>\n",
       "      <td>157253</td>\n",
       "      <td>168541</td>\n",
       "      <td>NaN</td>\n",
       "    </tr>\n",
       "    <tr>\n",
       "      <th>Nayarit</th>\n",
       "      <td>92384</td>\n",
       "      <td>96834</td>\n",
       "      <td>103122</td>\n",
       "      <td>NaN</td>\n",
       "    </tr>\n",
       "  </tbody>\n",
       "</table>\n",
       "</div>"
      ],
      "text/plain": [
       "                  Poblacion_0_4  Poblacion_5_9  Poblacion_10_14  \\\n",
       "Baja California          267954         277635           267938   \n",
       "Ciudad de Mexico         664092         671579           704950   \n",
       "Hidalgo                  237423         243185           270650   \n",
       "Morelos                  150281         157253           168541   \n",
       "Nayarit                   92384          96834           103122   \n",
       "\n",
       "                  Poblacion_15_19  \n",
       "Baja California               NaN  \n",
       "Ciudad de Mexico              NaN  \n",
       "Hidalgo                       NaN  \n",
       "Morelos                       NaN  \n",
       "Nayarit                       NaN  "
      ]
     },
     "execution_count": 56,
     "metadata": {},
     "output_type": "execute_result"
    }
   ],
   "source": [
    "df_1.reindex(columns= ['Poblacion_0_4', 'Poblacion_5_9', 'Poblacion_10_14', 'Poblacion_15_19'])"
   ]
  },
  {
   "cell_type": "markdown",
   "metadata": {},
   "source": [
    "Aunque se tiene el método `reindex` la forma que más comunmente se utiliza es a través del método `loc`"
   ]
  },
  {
   "cell_type": "code",
   "execution_count": 57,
   "metadata": {},
   "outputs": [
    {
     "data": {
      "text/html": [
       "<div>\n",
       "<style scoped>\n",
       "    .dataframe tbody tr th:only-of-type {\n",
       "        vertical-align: middle;\n",
       "    }\n",
       "\n",
       "    .dataframe tbody tr th {\n",
       "        vertical-align: top;\n",
       "    }\n",
       "\n",
       "    .dataframe thead th {\n",
       "        text-align: right;\n",
       "    }\n",
       "</style>\n",
       "<table border=\"1\" class=\"dataframe\">\n",
       "  <thead>\n",
       "    <tr style=\"text-align: right;\">\n",
       "      <th></th>\n",
       "      <th>Poblacion_0_4</th>\n",
       "      <th>Poblacion_5_9</th>\n",
       "      <th>Poblacion_10_14</th>\n",
       "    </tr>\n",
       "  </thead>\n",
       "  <tbody>\n",
       "    <tr>\n",
       "      <th>Baja California</th>\n",
       "      <td>267954</td>\n",
       "      <td>277635</td>\n",
       "      <td>267938</td>\n",
       "    </tr>\n",
       "    <tr>\n",
       "      <th>Ciudad de Mexico</th>\n",
       "      <td>664092</td>\n",
       "      <td>671579</td>\n",
       "      <td>704950</td>\n",
       "    </tr>\n",
       "    <tr>\n",
       "      <th>Hidalgo</th>\n",
       "      <td>237423</td>\n",
       "      <td>243185</td>\n",
       "      <td>270650</td>\n",
       "    </tr>\n",
       "    <tr>\n",
       "      <th>Nayarit</th>\n",
       "      <td>92384</td>\n",
       "      <td>96834</td>\n",
       "      <td>103122</td>\n",
       "    </tr>\n",
       "  </tbody>\n",
       "</table>\n",
       "</div>"
      ],
      "text/plain": [
       "                  Poblacion_0_4  Poblacion_5_9  Poblacion_10_14\n",
       "Baja California          267954         277635           267938\n",
       "Ciudad de Mexico         664092         671579           704950\n",
       "Hidalgo                  237423         243185           270650\n",
       "Nayarit                   92384          96834           103122"
      ]
     },
     "execution_count": 57,
     "metadata": {},
     "output_type": "execute_result"
    }
   ],
   "source": [
    "df_1.loc[['Baja California', 'Ciudad de Mexico', 'Hidalgo','Nayarit'], ['Poblacion_0_4', 'Poblacion_5_9', 'Poblacion_10_14']]"
   ]
  },
  {
   "cell_type": "markdown",
   "metadata": {},
   "source": [
    "El método `loc` nos permite tener acceso a los datos asociados a los índices que se deseen (renglones o columnas) usadno `[]` para tal propósito, esta forma es de acuerdo al método para acceder a los elementos en una matiz de *Numpy*. Al utilizar listas de índices el método regresa un *dataframe*, si lo que se desea es tener acceso a un valor específico dentro del *dataframe* se utiliza la pareja índice-columna dentro de los `[]`."
   ]
  },
  {
   "cell_type": "code",
   "execution_count": 58,
   "metadata": {},
   "outputs": [
    {
     "data": {
      "text/plain": [
       "949684"
      ]
     },
     "execution_count": 58,
     "metadata": {},
     "output_type": "execute_result"
    }
   ],
   "source": [
    "df_1.loc['Nayarit','Poblacion']"
   ]
  },
  {
   "cell_type": "markdown",
   "metadata": {},
   "source": [
    "Otro método para seleccionar elementos de forma especifica es a través de `iloc`, el cual utiliza los índices enteros en lugar de los índices definidos por el usuario, esta forma de acceso nos permite usar las notaciones clásicas de Python para tomar intervalos especificos. \n",
    "\n",
    "Por defecto sí se pasa sólo un entero toma como al entero dentro de los índices de los renglones"
   ]
  },
  {
   "cell_type": "code",
   "execution_count": 59,
   "metadata": {},
   "outputs": [
    {
     "data": {
      "text/html": [
       "<div>\n",
       "<style scoped>\n",
       "    .dataframe tbody tr th:only-of-type {\n",
       "        vertical-align: middle;\n",
       "    }\n",
       "\n",
       "    .dataframe tbody tr th {\n",
       "        vertical-align: top;\n",
       "    }\n",
       "\n",
       "    .dataframe thead th {\n",
       "        text-align: right;\n",
       "    }\n",
       "</style>\n",
       "<table border=\"1\" class=\"dataframe\">\n",
       "  <thead>\n",
       "    <tr style=\"text-align: right;\">\n",
       "      <th></th>\n",
       "      <th>Poblacion_0_4</th>\n",
       "      <th>Poblacion_5_9</th>\n",
       "      <th>Poblacion_10_14</th>\n",
       "    </tr>\n",
       "  </thead>\n",
       "  <tbody>\n",
       "    <tr>\n",
       "      <th>Hidalgo</th>\n",
       "      <td>237423</td>\n",
       "      <td>243185</td>\n",
       "      <td>270650</td>\n",
       "    </tr>\n",
       "    <tr>\n",
       "      <th>Morelos</th>\n",
       "      <td>150281</td>\n",
       "      <td>157253</td>\n",
       "      <td>168541</td>\n",
       "    </tr>\n",
       "  </tbody>\n",
       "</table>\n",
       "</div>"
      ],
      "text/plain": [
       "         Poblacion_0_4  Poblacion_5_9  Poblacion_10_14\n",
       "Hidalgo         237423         243185           270650\n",
       "Morelos         150281         157253           168541"
      ]
     },
     "execution_count": 59,
     "metadata": {},
     "output_type": "execute_result"
    }
   ],
   "source": [
    "df_1.iloc[2:4,2:5]"
   ]
  },
  {
   "cell_type": "code",
   "execution_count": 60,
   "metadata": {},
   "outputs": [
    {
     "data": {
      "text/plain": [
       "Poblacion          949684\n",
       "Poblacion_60_a       9061\n",
       "Poblacion_0_4       92384\n",
       "Poblacion_5_9       96834\n",
       "Poblacion_10_14    103122\n",
       "Name: Nayarit, dtype: int64"
      ]
     },
     "execution_count": 60,
     "metadata": {},
     "output_type": "execute_result"
    }
   ],
   "source": [
    "\n",
    "df_1.iloc[4]"
   ]
  },
  {
   "cell_type": "markdown",
   "metadata": {},
   "source": [
    "## Eliminar\n",
    "Para eliminar renglones se puede hacer utilizando el método `drop`, recordemos que la mayoría de los metodos no modifica el objeto original como es el caso de este método, si se desea modificar el objeto original es necesario pasar como argumento `inplace=True`. \n",
    "\n",
    "Por defecto `drop` elimina los índices en los renglones del *dataframe* para eliminar elementos en las columnas es necesario pasar como argumento `axis=1` el valor que toma por defecto es 0."
   ]
  },
  {
   "cell_type": "code",
   "execution_count": 61,
   "metadata": {},
   "outputs": [
    {
     "data": {
      "text/html": [
       "<div>\n",
       "<style scoped>\n",
       "    .dataframe tbody tr th:only-of-type {\n",
       "        vertical-align: middle;\n",
       "    }\n",
       "\n",
       "    .dataframe tbody tr th {\n",
       "        vertical-align: top;\n",
       "    }\n",
       "\n",
       "    .dataframe thead th {\n",
       "        text-align: right;\n",
       "    }\n",
       "</style>\n",
       "<table border=\"1\" class=\"dataframe\">\n",
       "  <thead>\n",
       "    <tr style=\"text-align: right;\">\n",
       "      <th></th>\n",
       "      <th>Poblacion</th>\n",
       "      <th>Poblacion_60_a</th>\n",
       "      <th>Poblacion_0_4</th>\n",
       "      <th>Poblacion_5_9</th>\n",
       "      <th>Poblacion_10_14</th>\n",
       "    </tr>\n",
       "  </thead>\n",
       "  <tbody>\n",
       "    <tr>\n",
       "      <th>Baja California</th>\n",
       "      <td>2844469</td>\n",
       "      <td>164888</td>\n",
       "      <td>267954</td>\n",
       "      <td>277635</td>\n",
       "      <td>267938</td>\n",
       "    </tr>\n",
       "    <tr>\n",
       "      <th>Hidalgo</th>\n",
       "      <td>2345514</td>\n",
       "      <td>204325</td>\n",
       "      <td>237423</td>\n",
       "      <td>243185</td>\n",
       "      <td>270650</td>\n",
       "    </tr>\n",
       "    <tr>\n",
       "      <th>Morelos</th>\n",
       "      <td>1612899</td>\n",
       "      <td>143942</td>\n",
       "      <td>150281</td>\n",
       "      <td>157253</td>\n",
       "      <td>168541</td>\n",
       "    </tr>\n",
       "  </tbody>\n",
       "</table>\n",
       "</div>"
      ],
      "text/plain": [
       "                 Poblacion  Poblacion_60_a  Poblacion_0_4  Poblacion_5_9  \\\n",
       "Baja California    2844469          164888         267954         277635   \n",
       "Hidalgo            2345514          204325         237423         243185   \n",
       "Morelos            1612899          143942         150281         157253   \n",
       "\n",
       "                 Poblacion_10_14  \n",
       "Baja California           267938  \n",
       "Hidalgo                   270650  \n",
       "Morelos                   168541  "
      ]
     },
     "execution_count": 61,
     "metadata": {},
     "output_type": "execute_result"
    }
   ],
   "source": [
    "\n",
    "df_1.drop(['Nayarit', 'Ciudad de Mexico'])"
   ]
  },
  {
   "cell_type": "code",
   "execution_count": 62,
   "metadata": {},
   "outputs": [
    {
     "data": {
      "text/html": [
       "<div>\n",
       "<style scoped>\n",
       "    .dataframe tbody tr th:only-of-type {\n",
       "        vertical-align: middle;\n",
       "    }\n",
       "\n",
       "    .dataframe tbody tr th {\n",
       "        vertical-align: top;\n",
       "    }\n",
       "\n",
       "    .dataframe thead th {\n",
       "        text-align: right;\n",
       "    }\n",
       "</style>\n",
       "<table border=\"1\" class=\"dataframe\">\n",
       "  <thead>\n",
       "    <tr style=\"text-align: right;\">\n",
       "      <th></th>\n",
       "      <th>Poblacion</th>\n",
       "      <th>Poblacion_60_a</th>\n",
       "      <th>Poblacion_0_4</th>\n",
       "      <th>Poblacion_5_9</th>\n",
       "      <th>Poblacion_10_14</th>\n",
       "    </tr>\n",
       "  </thead>\n",
       "  <tbody>\n",
       "    <tr>\n",
       "      <th>Baja California</th>\n",
       "      <td>2844469</td>\n",
       "      <td>164888</td>\n",
       "      <td>267954</td>\n",
       "      <td>277635</td>\n",
       "      <td>267938</td>\n",
       "    </tr>\n",
       "    <tr>\n",
       "      <th>Ciudad de Mexico</th>\n",
       "      <td>8720916</td>\n",
       "      <td>859438</td>\n",
       "      <td>664092</td>\n",
       "      <td>671579</td>\n",
       "      <td>704950</td>\n",
       "    </tr>\n",
       "    <tr>\n",
       "      <th>Hidalgo</th>\n",
       "      <td>2345514</td>\n",
       "      <td>204325</td>\n",
       "      <td>237423</td>\n",
       "      <td>243185</td>\n",
       "      <td>270650</td>\n",
       "    </tr>\n",
       "    <tr>\n",
       "      <th>Morelos</th>\n",
       "      <td>1612899</td>\n",
       "      <td>143942</td>\n",
       "      <td>150281</td>\n",
       "      <td>157253</td>\n",
       "      <td>168541</td>\n",
       "    </tr>\n",
       "  </tbody>\n",
       "</table>\n",
       "</div>"
      ],
      "text/plain": [
       "                  Poblacion  Poblacion_60_a  Poblacion_0_4  Poblacion_5_9  \\\n",
       "Baja California     2844469          164888         267954         277635   \n",
       "Ciudad de Mexico    8720916          859438         664092         671579   \n",
       "Hidalgo             2345514          204325         237423         243185   \n",
       "Morelos             1612899          143942         150281         157253   \n",
       "\n",
       "                  Poblacion_10_14  \n",
       "Baja California            267938  \n",
       "Ciudad de Mexico           704950  \n",
       "Hidalgo                    270650  \n",
       "Morelos                    168541  "
      ]
     },
     "execution_count": 62,
     "metadata": {},
     "output_type": "execute_result"
    }
   ],
   "source": [
    "df_1.drop('Nayarit')"
   ]
  },
  {
   "cell_type": "code",
   "execution_count": 63,
   "metadata": {},
   "outputs": [
    {
     "data": {
      "text/html": [
       "<div>\n",
       "<style scoped>\n",
       "    .dataframe tbody tr th:only-of-type {\n",
       "        vertical-align: middle;\n",
       "    }\n",
       "\n",
       "    .dataframe tbody tr th {\n",
       "        vertical-align: top;\n",
       "    }\n",
       "\n",
       "    .dataframe thead th {\n",
       "        text-align: right;\n",
       "    }\n",
       "</style>\n",
       "<table border=\"1\" class=\"dataframe\">\n",
       "  <thead>\n",
       "    <tr style=\"text-align: right;\">\n",
       "      <th></th>\n",
       "      <th>Poblacion_60_a</th>\n",
       "      <th>Poblacion_0_4</th>\n",
       "      <th>Poblacion_5_9</th>\n",
       "      <th>Poblacion_10_14</th>\n",
       "    </tr>\n",
       "  </thead>\n",
       "  <tbody>\n",
       "    <tr>\n",
       "      <th>Baja California</th>\n",
       "      <td>164888</td>\n",
       "      <td>267954</td>\n",
       "      <td>277635</td>\n",
       "      <td>267938</td>\n",
       "    </tr>\n",
       "    <tr>\n",
       "      <th>Ciudad de Mexico</th>\n",
       "      <td>859438</td>\n",
       "      <td>664092</td>\n",
       "      <td>671579</td>\n",
       "      <td>704950</td>\n",
       "    </tr>\n",
       "    <tr>\n",
       "      <th>Hidalgo</th>\n",
       "      <td>204325</td>\n",
       "      <td>237423</td>\n",
       "      <td>243185</td>\n",
       "      <td>270650</td>\n",
       "    </tr>\n",
       "    <tr>\n",
       "      <th>Morelos</th>\n",
       "      <td>143942</td>\n",
       "      <td>150281</td>\n",
       "      <td>157253</td>\n",
       "      <td>168541</td>\n",
       "    </tr>\n",
       "    <tr>\n",
       "      <th>Nayarit</th>\n",
       "      <td>9061</td>\n",
       "      <td>92384</td>\n",
       "      <td>96834</td>\n",
       "      <td>103122</td>\n",
       "    </tr>\n",
       "  </tbody>\n",
       "</table>\n",
       "</div>"
      ],
      "text/plain": [
       "                  Poblacion_60_a  Poblacion_0_4  Poblacion_5_9  \\\n",
       "Baja California           164888         267954         277635   \n",
       "Ciudad de Mexico          859438         664092         671579   \n",
       "Hidalgo                   204325         237423         243185   \n",
       "Morelos                   143942         150281         157253   \n",
       "Nayarit                     9061          92384          96834   \n",
       "\n",
       "                  Poblacion_10_14  \n",
       "Baja California            267938  \n",
       "Ciudad de Mexico           704950  \n",
       "Hidalgo                    270650  \n",
       "Morelos                    168541  \n",
       "Nayarit                    103122  "
      ]
     },
     "execution_count": 63,
     "metadata": {},
     "output_type": "execute_result"
    }
   ],
   "source": [
    "df_1.drop('Poblacion', axis=1)"
   ]
  },
  {
   "cell_type": "markdown",
   "metadata": {},
   "source": [
    "## Inspeccionar, Seleccionar y Filtrar.\n",
    "\n",
    "Dos métodos que nos serán de gran utilidad para inspeccionar tanto las *series* como los *dataframes* son `head` y `tail`. `head` nos muestran los primeros cinco elementos de la *serie* o los cinco primeros renglones del *dataframe*, mientras que `tail` los últimos cinco elementos o renglones según sea el caso. Si se desea ver más elementos se puede pasar un entero $n$ positivo para mostrar los primeros o últimos elementos segun sea el caso.  "
   ]
  },
  {
   "cell_type": "code",
   "execution_count": 64,
   "metadata": {},
   "outputs": [],
   "source": [
    "import numpy as np"
   ]
  },
  {
   "cell_type": "code",
   "execution_count": 65,
   "metadata": {},
   "outputs": [
    {
     "data": {
      "text/html": [
       "<div>\n",
       "<style scoped>\n",
       "    .dataframe tbody tr th:only-of-type {\n",
       "        vertical-align: middle;\n",
       "    }\n",
       "\n",
       "    .dataframe tbody tr th {\n",
       "        vertical-align: top;\n",
       "    }\n",
       "\n",
       "    .dataframe thead th {\n",
       "        text-align: right;\n",
       "    }\n",
       "</style>\n",
       "<table border=\"1\" class=\"dataframe\">\n",
       "  <thead>\n",
       "    <tr style=\"text-align: right;\">\n",
       "      <th></th>\n",
       "      <th>0</th>\n",
       "      <th>1</th>\n",
       "      <th>2</th>\n",
       "      <th>3</th>\n",
       "      <th>4</th>\n",
       "      <th>5</th>\n",
       "      <th>6</th>\n",
       "      <th>7</th>\n",
       "      <th>8</th>\n",
       "      <th>9</th>\n",
       "      <th>10</th>\n",
       "      <th>11</th>\n",
       "      <th>12</th>\n",
       "      <th>13</th>\n",
       "      <th>14</th>\n",
       "    </tr>\n",
       "  </thead>\n",
       "  <tbody>\n",
       "    <tr>\n",
       "      <th>0</th>\n",
       "      <td>0.848818</td>\n",
       "      <td>0.178896</td>\n",
       "      <td>0.054363</td>\n",
       "      <td>0.361538</td>\n",
       "      <td>0.275401</td>\n",
       "      <td>0.530000</td>\n",
       "      <td>0.305919</td>\n",
       "      <td>0.304474</td>\n",
       "      <td>0.111741</td>\n",
       "      <td>0.249899</td>\n",
       "      <td>0.917630</td>\n",
       "      <td>0.264147</td>\n",
       "      <td>0.717774</td>\n",
       "      <td>0.865715</td>\n",
       "      <td>0.807079</td>\n",
       "    </tr>\n",
       "    <tr>\n",
       "      <th>1</th>\n",
       "      <td>0.210551</td>\n",
       "      <td>0.167243</td>\n",
       "      <td>0.046706</td>\n",
       "      <td>0.039422</td>\n",
       "      <td>0.200231</td>\n",
       "      <td>0.998543</td>\n",
       "      <td>0.372787</td>\n",
       "      <td>0.760510</td>\n",
       "      <td>0.473474</td>\n",
       "      <td>0.509715</td>\n",
       "      <td>0.945038</td>\n",
       "      <td>0.109447</td>\n",
       "      <td>0.465093</td>\n",
       "      <td>0.141555</td>\n",
       "      <td>0.538349</td>\n",
       "    </tr>\n",
       "    <tr>\n",
       "      <th>2</th>\n",
       "      <td>0.298999</td>\n",
       "      <td>0.537745</td>\n",
       "      <td>0.665628</td>\n",
       "      <td>0.364329</td>\n",
       "      <td>0.623019</td>\n",
       "      <td>0.642725</td>\n",
       "      <td>0.419982</td>\n",
       "      <td>0.403242</td>\n",
       "      <td>0.390420</td>\n",
       "      <td>0.406190</td>\n",
       "      <td>0.079666</td>\n",
       "      <td>0.056831</td>\n",
       "      <td>0.078331</td>\n",
       "      <td>0.695678</td>\n",
       "      <td>0.029159</td>\n",
       "    </tr>\n",
       "    <tr>\n",
       "      <th>3</th>\n",
       "      <td>0.499492</td>\n",
       "      <td>0.132634</td>\n",
       "      <td>0.030756</td>\n",
       "      <td>0.639489</td>\n",
       "      <td>0.445998</td>\n",
       "      <td>0.974607</td>\n",
       "      <td>0.329766</td>\n",
       "      <td>0.195425</td>\n",
       "      <td>0.684046</td>\n",
       "      <td>0.351099</td>\n",
       "      <td>0.771036</td>\n",
       "      <td>0.791800</td>\n",
       "      <td>0.443875</td>\n",
       "      <td>0.268828</td>\n",
       "      <td>0.023904</td>\n",
       "    </tr>\n",
       "    <tr>\n",
       "      <th>4</th>\n",
       "      <td>0.371333</td>\n",
       "      <td>0.097731</td>\n",
       "      <td>0.727523</td>\n",
       "      <td>0.459444</td>\n",
       "      <td>0.520496</td>\n",
       "      <td>0.684569</td>\n",
       "      <td>0.425290</td>\n",
       "      <td>0.603473</td>\n",
       "      <td>0.823849</td>\n",
       "      <td>0.451871</td>\n",
       "      <td>0.887945</td>\n",
       "      <td>0.220400</td>\n",
       "      <td>0.106823</td>\n",
       "      <td>0.012010</td>\n",
       "      <td>0.917941</td>\n",
       "    </tr>\n",
       "  </tbody>\n",
       "</table>\n",
       "</div>"
      ],
      "text/plain": [
       "          0         1         2         3         4         5         6  \\\n",
       "0  0.848818  0.178896  0.054363  0.361538  0.275401  0.530000  0.305919   \n",
       "1  0.210551  0.167243  0.046706  0.039422  0.200231  0.998543  0.372787   \n",
       "2  0.298999  0.537745  0.665628  0.364329  0.623019  0.642725  0.419982   \n",
       "3  0.499492  0.132634  0.030756  0.639489  0.445998  0.974607  0.329766   \n",
       "4  0.371333  0.097731  0.727523  0.459444  0.520496  0.684569  0.425290   \n",
       "\n",
       "          7         8         9        10        11        12        13  \\\n",
       "0  0.304474  0.111741  0.249899  0.917630  0.264147  0.717774  0.865715   \n",
       "1  0.760510  0.473474  0.509715  0.945038  0.109447  0.465093  0.141555   \n",
       "2  0.403242  0.390420  0.406190  0.079666  0.056831  0.078331  0.695678   \n",
       "3  0.195425  0.684046  0.351099  0.771036  0.791800  0.443875  0.268828   \n",
       "4  0.603473  0.823849  0.451871  0.887945  0.220400  0.106823  0.012010   \n",
       "\n",
       "         14  \n",
       "0  0.807079  \n",
       "1  0.538349  \n",
       "2  0.029159  \n",
       "3  0.023904  \n",
       "4  0.917941  "
      ]
     },
     "execution_count": 65,
     "metadata": {},
     "output_type": "execute_result"
    }
   ],
   "source": [
    "np.random.seed(15)\n",
    "df_5= pd.DataFrame(np.random.rand(15,15))\n",
    "df_5.head()"
   ]
  },
  {
   "cell_type": "markdown",
   "metadata": {},
   "source": [
    "Nos interesa hacer un manejo de los datos utilizando las *series* y los *dataframes*, una posibilidad es usando el método `reindex` visto anteriormente, sin embargo para nuestra facilidad los creadores de *Pandas* nos permiten seleccionar y filtrar los datos utilizando los `[]` para seleccionar los índices. Por defecto los `[]` toman como valor índices sobre las columnas, a estos podemos pasar una o una lista de columnas. En el primer caso el objeto que se regresa es una serie, mientras que si pasamos una lista entonces lo que se regresa es un *dataframe*. "
   ]
  },
  {
   "cell_type": "code",
   "execution_count": 66,
   "metadata": {},
   "outputs": [
    {
     "data": {
      "text/plain": [
       "Baja California     267938\n",
       "Ciudad de Mexico    704950\n",
       "Hidalgo             270650\n",
       "Morelos             168541\n",
       "Nayarit             103122\n",
       "Name: Poblacion_10_14, dtype: int64"
      ]
     },
     "execution_count": 66,
     "metadata": {},
     "output_type": "execute_result"
    }
   ],
   "source": [
    "df_1['Poblacion_10_14']"
   ]
  },
  {
   "cell_type": "code",
   "execution_count": 67,
   "metadata": {},
   "outputs": [
    {
     "data": {
      "text/plain": [
       "pandas.core.series.Series"
      ]
     },
     "execution_count": 67,
     "metadata": {},
     "output_type": "execute_result"
    }
   ],
   "source": [
    "type(df_1['Poblacion_10_14'])"
   ]
  },
  {
   "cell_type": "code",
   "execution_count": 68,
   "metadata": {},
   "outputs": [
    {
     "data": {
      "text/html": [
       "<div>\n",
       "<style scoped>\n",
       "    .dataframe tbody tr th:only-of-type {\n",
       "        vertical-align: middle;\n",
       "    }\n",
       "\n",
       "    .dataframe tbody tr th {\n",
       "        vertical-align: top;\n",
       "    }\n",
       "\n",
       "    .dataframe thead th {\n",
       "        text-align: right;\n",
       "    }\n",
       "</style>\n",
       "<table border=\"1\" class=\"dataframe\">\n",
       "  <thead>\n",
       "    <tr style=\"text-align: right;\">\n",
       "      <th></th>\n",
       "      <th>Poblacion_10_14</th>\n",
       "    </tr>\n",
       "  </thead>\n",
       "  <tbody>\n",
       "    <tr>\n",
       "      <th>Baja California</th>\n",
       "      <td>267938</td>\n",
       "    </tr>\n",
       "    <tr>\n",
       "      <th>Ciudad de Mexico</th>\n",
       "      <td>704950</td>\n",
       "    </tr>\n",
       "    <tr>\n",
       "      <th>Hidalgo</th>\n",
       "      <td>270650</td>\n",
       "    </tr>\n",
       "    <tr>\n",
       "      <th>Morelos</th>\n",
       "      <td>168541</td>\n",
       "    </tr>\n",
       "    <tr>\n",
       "      <th>Nayarit</th>\n",
       "      <td>103122</td>\n",
       "    </tr>\n",
       "  </tbody>\n",
       "</table>\n",
       "</div>"
      ],
      "text/plain": [
       "                  Poblacion_10_14\n",
       "Baja California            267938\n",
       "Ciudad de Mexico           704950\n",
       "Hidalgo                    270650\n",
       "Morelos                    168541\n",
       "Nayarit                    103122"
      ]
     },
     "execution_count": 68,
     "metadata": {},
     "output_type": "execute_result"
    }
   ],
   "source": [
    "df_1[['Poblacion_10_14']]"
   ]
  },
  {
   "cell_type": "code",
   "execution_count": 69,
   "metadata": {},
   "outputs": [
    {
     "data": {
      "text/plain": [
       "pandas.core.frame.DataFrame"
      ]
     },
     "execution_count": 69,
     "metadata": {},
     "output_type": "execute_result"
    }
   ],
   "source": [
    "type(df_1[['Poblacion_10_14']])"
   ]
  },
  {
   "cell_type": "markdown",
   "metadata": {},
   "source": [
    "Es posible definir intervalos en los índices en los renglones  "
   ]
  },
  {
   "cell_type": "code",
   "execution_count": 70,
   "metadata": {},
   "outputs": [
    {
     "data": {
      "text/html": [
       "<div>\n",
       "<style scoped>\n",
       "    .dataframe tbody tr th:only-of-type {\n",
       "        vertical-align: middle;\n",
       "    }\n",
       "\n",
       "    .dataframe tbody tr th {\n",
       "        vertical-align: top;\n",
       "    }\n",
       "\n",
       "    .dataframe thead th {\n",
       "        text-align: right;\n",
       "    }\n",
       "</style>\n",
       "<table border=\"1\" class=\"dataframe\">\n",
       "  <thead>\n",
       "    <tr style=\"text-align: right;\">\n",
       "      <th></th>\n",
       "      <th>Poblacion</th>\n",
       "      <th>Poblacion_60_a</th>\n",
       "      <th>Poblacion_0_4</th>\n",
       "      <th>Poblacion_5_9</th>\n",
       "      <th>Poblacion_10_14</th>\n",
       "    </tr>\n",
       "  </thead>\n",
       "  <tbody>\n",
       "    <tr>\n",
       "      <th>Ciudad de Mexico</th>\n",
       "      <td>8720916</td>\n",
       "      <td>859438</td>\n",
       "      <td>664092</td>\n",
       "      <td>671579</td>\n",
       "      <td>704950</td>\n",
       "    </tr>\n",
       "    <tr>\n",
       "      <th>Hidalgo</th>\n",
       "      <td>2345514</td>\n",
       "      <td>204325</td>\n",
       "      <td>237423</td>\n",
       "      <td>243185</td>\n",
       "      <td>270650</td>\n",
       "    </tr>\n",
       "    <tr>\n",
       "      <th>Morelos</th>\n",
       "      <td>1612899</td>\n",
       "      <td>143942</td>\n",
       "      <td>150281</td>\n",
       "      <td>157253</td>\n",
       "      <td>168541</td>\n",
       "    </tr>\n",
       "  </tbody>\n",
       "</table>\n",
       "</div>"
      ],
      "text/plain": [
       "                  Poblacion  Poblacion_60_a  Poblacion_0_4  Poblacion_5_9  \\\n",
       "Ciudad de Mexico    8720916          859438         664092         671579   \n",
       "Hidalgo             2345514          204325         237423         243185   \n",
       "Morelos             1612899          143942         150281         157253   \n",
       "\n",
       "                  Poblacion_10_14  \n",
       "Ciudad de Mexico           704950  \n",
       "Hidalgo                    270650  \n",
       "Morelos                    168541  "
      ]
     },
     "execution_count": 70,
     "metadata": {},
     "output_type": "execute_result"
    }
   ],
   "source": [
    "df_1['Ciudad de Mexico':'Morelos']"
   ]
  },
  {
   "cell_type": "markdown",
   "metadata": {},
   "source": [
    "En el caso de las columnas es necesario tomar una lista y pasar como argumento "
   ]
  },
  {
   "cell_type": "code",
   "execution_count": 71,
   "metadata": {},
   "outputs": [
    {
     "data": {
      "text/html": [
       "<div>\n",
       "<style scoped>\n",
       "    .dataframe tbody tr th:only-of-type {\n",
       "        vertical-align: middle;\n",
       "    }\n",
       "\n",
       "    .dataframe tbody tr th {\n",
       "        vertical-align: top;\n",
       "    }\n",
       "\n",
       "    .dataframe thead th {\n",
       "        text-align: right;\n",
       "    }\n",
       "</style>\n",
       "<table border=\"1\" class=\"dataframe\">\n",
       "  <thead>\n",
       "    <tr style=\"text-align: right;\">\n",
       "      <th></th>\n",
       "      <th>4</th>\n",
       "      <th>6</th>\n",
       "      <th>8</th>\n",
       "      <th>10</th>\n",
       "      <th>12</th>\n",
       "    </tr>\n",
       "  </thead>\n",
       "  <tbody>\n",
       "    <tr>\n",
       "      <th>0</th>\n",
       "      <td>0.275401</td>\n",
       "      <td>0.305919</td>\n",
       "      <td>0.111741</td>\n",
       "      <td>0.917630</td>\n",
       "      <td>0.717774</td>\n",
       "    </tr>\n",
       "    <tr>\n",
       "      <th>1</th>\n",
       "      <td>0.200231</td>\n",
       "      <td>0.372787</td>\n",
       "      <td>0.473474</td>\n",
       "      <td>0.945038</td>\n",
       "      <td>0.465093</td>\n",
       "    </tr>\n",
       "    <tr>\n",
       "      <th>2</th>\n",
       "      <td>0.623019</td>\n",
       "      <td>0.419982</td>\n",
       "      <td>0.390420</td>\n",
       "      <td>0.079666</td>\n",
       "      <td>0.078331</td>\n",
       "    </tr>\n",
       "    <tr>\n",
       "      <th>3</th>\n",
       "      <td>0.445998</td>\n",
       "      <td>0.329766</td>\n",
       "      <td>0.684046</td>\n",
       "      <td>0.771036</td>\n",
       "      <td>0.443875</td>\n",
       "    </tr>\n",
       "    <tr>\n",
       "      <th>4</th>\n",
       "      <td>0.520496</td>\n",
       "      <td>0.425290</td>\n",
       "      <td>0.823849</td>\n",
       "      <td>0.887945</td>\n",
       "      <td>0.106823</td>\n",
       "    </tr>\n",
       "    <tr>\n",
       "      <th>5</th>\n",
       "      <td>0.875666</td>\n",
       "      <td>0.303654</td>\n",
       "      <td>0.569105</td>\n",
       "      <td>0.330015</td>\n",
       "      <td>0.515675</td>\n",
       "    </tr>\n",
       "    <tr>\n",
       "      <th>6</th>\n",
       "      <td>0.573752</td>\n",
       "      <td>0.200720</td>\n",
       "      <td>0.932277</td>\n",
       "      <td>0.015004</td>\n",
       "      <td>0.615400</td>\n",
       "    </tr>\n",
       "    <tr>\n",
       "      <th>7</th>\n",
       "      <td>0.546339</td>\n",
       "      <td>0.774770</td>\n",
       "      <td>0.517394</td>\n",
       "      <td>0.762913</td>\n",
       "      <td>0.123988</td>\n",
       "    </tr>\n",
       "    <tr>\n",
       "      <th>8</th>\n",
       "      <td>0.683021</td>\n",
       "      <td>0.434022</td>\n",
       "      <td>0.215403</td>\n",
       "      <td>0.369989</td>\n",
       "      <td>0.859933</td>\n",
       "    </tr>\n",
       "    <tr>\n",
       "      <th>9</th>\n",
       "      <td>0.586269</td>\n",
       "      <td>0.159536</td>\n",
       "      <td>0.472342</td>\n",
       "      <td>0.812014</td>\n",
       "      <td>0.299919</td>\n",
       "    </tr>\n",
       "    <tr>\n",
       "      <th>10</th>\n",
       "      <td>0.969743</td>\n",
       "      <td>0.099291</td>\n",
       "      <td>0.036127</td>\n",
       "      <td>0.797385</td>\n",
       "      <td>0.968505</td>\n",
       "    </tr>\n",
       "    <tr>\n",
       "      <th>11</th>\n",
       "      <td>0.512657</td>\n",
       "      <td>0.101643</td>\n",
       "      <td>0.966612</td>\n",
       "      <td>0.435116</td>\n",
       "      <td>0.047537</td>\n",
       "    </tr>\n",
       "    <tr>\n",
       "      <th>12</th>\n",
       "      <td>0.452266</td>\n",
       "      <td>0.817256</td>\n",
       "      <td>0.262248</td>\n",
       "      <td>0.167872</td>\n",
       "      <td>0.484212</td>\n",
       "    </tr>\n",
       "    <tr>\n",
       "      <th>13</th>\n",
       "      <td>0.922179</td>\n",
       "      <td>0.540825</td>\n",
       "      <td>0.733031</td>\n",
       "      <td>0.896091</td>\n",
       "      <td>0.841323</td>\n",
       "    </tr>\n",
       "    <tr>\n",
       "      <th>14</th>\n",
       "      <td>0.623451</td>\n",
       "      <td>0.908848</td>\n",
       "      <td>0.703099</td>\n",
       "      <td>0.264476</td>\n",
       "      <td>0.026124</td>\n",
       "    </tr>\n",
       "  </tbody>\n",
       "</table>\n",
       "</div>"
      ],
      "text/plain": [
       "          4         6         8         10        12\n",
       "0   0.275401  0.305919  0.111741  0.917630  0.717774\n",
       "1   0.200231  0.372787  0.473474  0.945038  0.465093\n",
       "2   0.623019  0.419982  0.390420  0.079666  0.078331\n",
       "3   0.445998  0.329766  0.684046  0.771036  0.443875\n",
       "4   0.520496  0.425290  0.823849  0.887945  0.106823\n",
       "5   0.875666  0.303654  0.569105  0.330015  0.515675\n",
       "6   0.573752  0.200720  0.932277  0.015004  0.615400\n",
       "7   0.546339  0.774770  0.517394  0.762913  0.123988\n",
       "8   0.683021  0.434022  0.215403  0.369989  0.859933\n",
       "9   0.586269  0.159536  0.472342  0.812014  0.299919\n",
       "10  0.969743  0.099291  0.036127  0.797385  0.968505\n",
       "11  0.512657  0.101643  0.966612  0.435116  0.047537\n",
       "12  0.452266  0.817256  0.262248  0.167872  0.484212\n",
       "13  0.922179  0.540825  0.733031  0.896091  0.841323\n",
       "14  0.623451  0.908848  0.703099  0.264476  0.026124"
      ]
     },
     "execution_count": 71,
     "metadata": {},
     "output_type": "execute_result"
    }
   ],
   "source": [
    "df_5[[4,6,8,10,12]]"
   ]
  },
  {
   "cell_type": "markdown",
   "metadata": {},
   "source": [
    "Se pueden declarar columnas nuevas pasando el nombre de la columna y dando una *serie*, si se desea que toda la columna tenga un valor se le designa con `=`. Usando la misma notación es posible cambiar todos los valores de una columna."
   ]
  },
  {
   "cell_type": "code",
   "execution_count": 72,
   "metadata": {},
   "outputs": [],
   "source": [
    "df_5['entero']=1"
   ]
  },
  {
   "cell_type": "code",
   "execution_count": 73,
   "metadata": {},
   "outputs": [
    {
     "data": {
      "text/html": [
       "<div>\n",
       "<style scoped>\n",
       "    .dataframe tbody tr th:only-of-type {\n",
       "        vertical-align: middle;\n",
       "    }\n",
       "\n",
       "    .dataframe tbody tr th {\n",
       "        vertical-align: top;\n",
       "    }\n",
       "\n",
       "    .dataframe thead th {\n",
       "        text-align: right;\n",
       "    }\n",
       "</style>\n",
       "<table border=\"1\" class=\"dataframe\">\n",
       "  <thead>\n",
       "    <tr style=\"text-align: right;\">\n",
       "      <th></th>\n",
       "      <th>0</th>\n",
       "      <th>1</th>\n",
       "      <th>2</th>\n",
       "      <th>3</th>\n",
       "      <th>4</th>\n",
       "      <th>5</th>\n",
       "      <th>6</th>\n",
       "      <th>7</th>\n",
       "      <th>8</th>\n",
       "      <th>9</th>\n",
       "      <th>10</th>\n",
       "      <th>11</th>\n",
       "      <th>12</th>\n",
       "      <th>13</th>\n",
       "      <th>14</th>\n",
       "      <th>entero</th>\n",
       "    </tr>\n",
       "  </thead>\n",
       "  <tbody>\n",
       "    <tr>\n",
       "      <th>0</th>\n",
       "      <td>0.848818</td>\n",
       "      <td>0.178896</td>\n",
       "      <td>0.054363</td>\n",
       "      <td>0.361538</td>\n",
       "      <td>0.275401</td>\n",
       "      <td>0.530000</td>\n",
       "      <td>0.305919</td>\n",
       "      <td>0.304474</td>\n",
       "      <td>0.111741</td>\n",
       "      <td>0.249899</td>\n",
       "      <td>0.917630</td>\n",
       "      <td>0.264147</td>\n",
       "      <td>0.717774</td>\n",
       "      <td>0.865715</td>\n",
       "      <td>0.807079</td>\n",
       "      <td>1</td>\n",
       "    </tr>\n",
       "    <tr>\n",
       "      <th>1</th>\n",
       "      <td>0.210551</td>\n",
       "      <td>0.167243</td>\n",
       "      <td>0.046706</td>\n",
       "      <td>0.039422</td>\n",
       "      <td>0.200231</td>\n",
       "      <td>0.998543</td>\n",
       "      <td>0.372787</td>\n",
       "      <td>0.760510</td>\n",
       "      <td>0.473474</td>\n",
       "      <td>0.509715</td>\n",
       "      <td>0.945038</td>\n",
       "      <td>0.109447</td>\n",
       "      <td>0.465093</td>\n",
       "      <td>0.141555</td>\n",
       "      <td>0.538349</td>\n",
       "      <td>1</td>\n",
       "    </tr>\n",
       "    <tr>\n",
       "      <th>2</th>\n",
       "      <td>0.298999</td>\n",
       "      <td>0.537745</td>\n",
       "      <td>0.665628</td>\n",
       "      <td>0.364329</td>\n",
       "      <td>0.623019</td>\n",
       "      <td>0.642725</td>\n",
       "      <td>0.419982</td>\n",
       "      <td>0.403242</td>\n",
       "      <td>0.390420</td>\n",
       "      <td>0.406190</td>\n",
       "      <td>0.079666</td>\n",
       "      <td>0.056831</td>\n",
       "      <td>0.078331</td>\n",
       "      <td>0.695678</td>\n",
       "      <td>0.029159</td>\n",
       "      <td>1</td>\n",
       "    </tr>\n",
       "    <tr>\n",
       "      <th>3</th>\n",
       "      <td>0.499492</td>\n",
       "      <td>0.132634</td>\n",
       "      <td>0.030756</td>\n",
       "      <td>0.639489</td>\n",
       "      <td>0.445998</td>\n",
       "      <td>0.974607</td>\n",
       "      <td>0.329766</td>\n",
       "      <td>0.195425</td>\n",
       "      <td>0.684046</td>\n",
       "      <td>0.351099</td>\n",
       "      <td>0.771036</td>\n",
       "      <td>0.791800</td>\n",
       "      <td>0.443875</td>\n",
       "      <td>0.268828</td>\n",
       "      <td>0.023904</td>\n",
       "      <td>1</td>\n",
       "    </tr>\n",
       "    <tr>\n",
       "      <th>4</th>\n",
       "      <td>0.371333</td>\n",
       "      <td>0.097731</td>\n",
       "      <td>0.727523</td>\n",
       "      <td>0.459444</td>\n",
       "      <td>0.520496</td>\n",
       "      <td>0.684569</td>\n",
       "      <td>0.425290</td>\n",
       "      <td>0.603473</td>\n",
       "      <td>0.823849</td>\n",
       "      <td>0.451871</td>\n",
       "      <td>0.887945</td>\n",
       "      <td>0.220400</td>\n",
       "      <td>0.106823</td>\n",
       "      <td>0.012010</td>\n",
       "      <td>0.917941</td>\n",
       "      <td>1</td>\n",
       "    </tr>\n",
       "  </tbody>\n",
       "</table>\n",
       "</div>"
      ],
      "text/plain": [
       "          0         1         2         3         4         5         6  \\\n",
       "0  0.848818  0.178896  0.054363  0.361538  0.275401  0.530000  0.305919   \n",
       "1  0.210551  0.167243  0.046706  0.039422  0.200231  0.998543  0.372787   \n",
       "2  0.298999  0.537745  0.665628  0.364329  0.623019  0.642725  0.419982   \n",
       "3  0.499492  0.132634  0.030756  0.639489  0.445998  0.974607  0.329766   \n",
       "4  0.371333  0.097731  0.727523  0.459444  0.520496  0.684569  0.425290   \n",
       "\n",
       "          7         8         9        10        11        12        13  \\\n",
       "0  0.304474  0.111741  0.249899  0.917630  0.264147  0.717774  0.865715   \n",
       "1  0.760510  0.473474  0.509715  0.945038  0.109447  0.465093  0.141555   \n",
       "2  0.403242  0.390420  0.406190  0.079666  0.056831  0.078331  0.695678   \n",
       "3  0.195425  0.684046  0.351099  0.771036  0.791800  0.443875  0.268828   \n",
       "4  0.603473  0.823849  0.451871  0.887945  0.220400  0.106823  0.012010   \n",
       "\n",
       "         14  entero  \n",
       "0  0.807079       1  \n",
       "1  0.538349       1  \n",
       "2  0.029159       1  \n",
       "3  0.023904       1  \n",
       "4  0.917941       1  "
      ]
     },
     "execution_count": 73,
     "metadata": {},
     "output_type": "execute_result"
    }
   ],
   "source": [
    "df_5.head()"
   ]
  },
  {
   "cell_type": "code",
   "execution_count": 74,
   "metadata": {},
   "outputs": [],
   "source": [
    "df_5[0]=2"
   ]
  },
  {
   "cell_type": "code",
   "execution_count": 75,
   "metadata": {},
   "outputs": [
    {
     "data": {
      "text/html": [
       "<div>\n",
       "<style scoped>\n",
       "    .dataframe tbody tr th:only-of-type {\n",
       "        vertical-align: middle;\n",
       "    }\n",
       "\n",
       "    .dataframe tbody tr th {\n",
       "        vertical-align: top;\n",
       "    }\n",
       "\n",
       "    .dataframe thead th {\n",
       "        text-align: right;\n",
       "    }\n",
       "</style>\n",
       "<table border=\"1\" class=\"dataframe\">\n",
       "  <thead>\n",
       "    <tr style=\"text-align: right;\">\n",
       "      <th></th>\n",
       "      <th>0</th>\n",
       "      <th>1</th>\n",
       "      <th>2</th>\n",
       "      <th>3</th>\n",
       "      <th>4</th>\n",
       "      <th>5</th>\n",
       "      <th>6</th>\n",
       "      <th>7</th>\n",
       "      <th>8</th>\n",
       "      <th>9</th>\n",
       "      <th>10</th>\n",
       "      <th>11</th>\n",
       "      <th>12</th>\n",
       "      <th>13</th>\n",
       "      <th>14</th>\n",
       "      <th>entero</th>\n",
       "    </tr>\n",
       "  </thead>\n",
       "  <tbody>\n",
       "    <tr>\n",
       "      <th>0</th>\n",
       "      <td>2</td>\n",
       "      <td>0.178896</td>\n",
       "      <td>0.054363</td>\n",
       "      <td>0.361538</td>\n",
       "      <td>0.275401</td>\n",
       "      <td>0.530000</td>\n",
       "      <td>0.305919</td>\n",
       "      <td>0.304474</td>\n",
       "      <td>0.111741</td>\n",
       "      <td>0.249899</td>\n",
       "      <td>0.917630</td>\n",
       "      <td>0.264147</td>\n",
       "      <td>0.717774</td>\n",
       "      <td>0.865715</td>\n",
       "      <td>0.807079</td>\n",
       "      <td>1</td>\n",
       "    </tr>\n",
       "    <tr>\n",
       "      <th>1</th>\n",
       "      <td>2</td>\n",
       "      <td>0.167243</td>\n",
       "      <td>0.046706</td>\n",
       "      <td>0.039422</td>\n",
       "      <td>0.200231</td>\n",
       "      <td>0.998543</td>\n",
       "      <td>0.372787</td>\n",
       "      <td>0.760510</td>\n",
       "      <td>0.473474</td>\n",
       "      <td>0.509715</td>\n",
       "      <td>0.945038</td>\n",
       "      <td>0.109447</td>\n",
       "      <td>0.465093</td>\n",
       "      <td>0.141555</td>\n",
       "      <td>0.538349</td>\n",
       "      <td>1</td>\n",
       "    </tr>\n",
       "    <tr>\n",
       "      <th>2</th>\n",
       "      <td>2</td>\n",
       "      <td>0.537745</td>\n",
       "      <td>0.665628</td>\n",
       "      <td>0.364329</td>\n",
       "      <td>0.623019</td>\n",
       "      <td>0.642725</td>\n",
       "      <td>0.419982</td>\n",
       "      <td>0.403242</td>\n",
       "      <td>0.390420</td>\n",
       "      <td>0.406190</td>\n",
       "      <td>0.079666</td>\n",
       "      <td>0.056831</td>\n",
       "      <td>0.078331</td>\n",
       "      <td>0.695678</td>\n",
       "      <td>0.029159</td>\n",
       "      <td>1</td>\n",
       "    </tr>\n",
       "    <tr>\n",
       "      <th>3</th>\n",
       "      <td>2</td>\n",
       "      <td>0.132634</td>\n",
       "      <td>0.030756</td>\n",
       "      <td>0.639489</td>\n",
       "      <td>0.445998</td>\n",
       "      <td>0.974607</td>\n",
       "      <td>0.329766</td>\n",
       "      <td>0.195425</td>\n",
       "      <td>0.684046</td>\n",
       "      <td>0.351099</td>\n",
       "      <td>0.771036</td>\n",
       "      <td>0.791800</td>\n",
       "      <td>0.443875</td>\n",
       "      <td>0.268828</td>\n",
       "      <td>0.023904</td>\n",
       "      <td>1</td>\n",
       "    </tr>\n",
       "    <tr>\n",
       "      <th>4</th>\n",
       "      <td>2</td>\n",
       "      <td>0.097731</td>\n",
       "      <td>0.727523</td>\n",
       "      <td>0.459444</td>\n",
       "      <td>0.520496</td>\n",
       "      <td>0.684569</td>\n",
       "      <td>0.425290</td>\n",
       "      <td>0.603473</td>\n",
       "      <td>0.823849</td>\n",
       "      <td>0.451871</td>\n",
       "      <td>0.887945</td>\n",
       "      <td>0.220400</td>\n",
       "      <td>0.106823</td>\n",
       "      <td>0.012010</td>\n",
       "      <td>0.917941</td>\n",
       "      <td>1</td>\n",
       "    </tr>\n",
       "    <tr>\n",
       "      <th>5</th>\n",
       "      <td>2</td>\n",
       "      <td>0.219762</td>\n",
       "      <td>0.547552</td>\n",
       "      <td>0.920800</td>\n",
       "      <td>0.875666</td>\n",
       "      <td>0.127592</td>\n",
       "      <td>0.303654</td>\n",
       "      <td>0.295297</td>\n",
       "      <td>0.569105</td>\n",
       "      <td>0.743420</td>\n",
       "      <td>0.330015</td>\n",
       "      <td>0.607852</td>\n",
       "      <td>0.515675</td>\n",
       "      <td>0.919801</td>\n",
       "      <td>0.201367</td>\n",
       "      <td>1</td>\n",
       "    </tr>\n",
       "    <tr>\n",
       "      <th>6</th>\n",
       "      <td>2</td>\n",
       "      <td>0.071733</td>\n",
       "      <td>0.420494</td>\n",
       "      <td>0.498917</td>\n",
       "      <td>0.573752</td>\n",
       "      <td>0.880373</td>\n",
       "      <td>0.200720</td>\n",
       "      <td>0.421178</td>\n",
       "      <td>0.932277</td>\n",
       "      <td>0.363291</td>\n",
       "      <td>0.015004</td>\n",
       "      <td>0.899727</td>\n",
       "      <td>0.615400</td>\n",
       "      <td>0.970942</td>\n",
       "      <td>0.621620</td>\n",
       "      <td>1</td>\n",
       "    </tr>\n",
       "    <tr>\n",
       "      <th>7</th>\n",
       "      <td>2</td>\n",
       "      <td>0.599040</td>\n",
       "      <td>0.139279</td>\n",
       "      <td>0.678375</td>\n",
       "      <td>0.546339</td>\n",
       "      <td>0.009044</td>\n",
       "      <td>0.774770</td>\n",
       "      <td>0.121425</td>\n",
       "      <td>0.517394</td>\n",
       "      <td>0.665752</td>\n",
       "      <td>0.762913</td>\n",
       "      <td>0.940879</td>\n",
       "      <td>0.123988</td>\n",
       "      <td>0.209996</td>\n",
       "      <td>0.365368</td>\n",
       "      <td>1</td>\n",
       "    </tr>\n",
       "    <tr>\n",
       "      <th>8</th>\n",
       "      <td>2</td>\n",
       "      <td>0.590005</td>\n",
       "      <td>0.993915</td>\n",
       "      <td>0.611509</td>\n",
       "      <td>0.683021</td>\n",
       "      <td>0.096211</td>\n",
       "      <td>0.434022</td>\n",
       "      <td>0.129159</td>\n",
       "      <td>0.215403</td>\n",
       "      <td>0.850066</td>\n",
       "      <td>0.369989</td>\n",
       "      <td>0.228212</td>\n",
       "      <td>0.859933</td>\n",
       "      <td>0.465751</td>\n",
       "      <td>0.678117</td>\n",
       "      <td>1</td>\n",
       "    </tr>\n",
       "    <tr>\n",
       "      <th>9</th>\n",
       "      <td>2</td>\n",
       "      <td>0.716434</td>\n",
       "      <td>0.365020</td>\n",
       "      <td>0.551522</td>\n",
       "      <td>0.586269</td>\n",
       "      <td>0.115388</td>\n",
       "      <td>0.159536</td>\n",
       "      <td>0.745438</td>\n",
       "      <td>0.472342</td>\n",
       "      <td>0.630203</td>\n",
       "      <td>0.812014</td>\n",
       "      <td>0.066001</td>\n",
       "      <td>0.299919</td>\n",
       "      <td>0.623582</td>\n",
       "      <td>0.493188</td>\n",
       "      <td>1</td>\n",
       "    </tr>\n",
       "  </tbody>\n",
       "</table>\n",
       "</div>"
      ],
      "text/plain": [
       "   0         1         2         3         4         5         6         7  \\\n",
       "0  2  0.178896  0.054363  0.361538  0.275401  0.530000  0.305919  0.304474   \n",
       "1  2  0.167243  0.046706  0.039422  0.200231  0.998543  0.372787  0.760510   \n",
       "2  2  0.537745  0.665628  0.364329  0.623019  0.642725  0.419982  0.403242   \n",
       "3  2  0.132634  0.030756  0.639489  0.445998  0.974607  0.329766  0.195425   \n",
       "4  2  0.097731  0.727523  0.459444  0.520496  0.684569  0.425290  0.603473   \n",
       "5  2  0.219762  0.547552  0.920800  0.875666  0.127592  0.303654  0.295297   \n",
       "6  2  0.071733  0.420494  0.498917  0.573752  0.880373  0.200720  0.421178   \n",
       "7  2  0.599040  0.139279  0.678375  0.546339  0.009044  0.774770  0.121425   \n",
       "8  2  0.590005  0.993915  0.611509  0.683021  0.096211  0.434022  0.129159   \n",
       "9  2  0.716434  0.365020  0.551522  0.586269  0.115388  0.159536  0.745438   \n",
       "\n",
       "          8         9        10        11        12        13        14  \\\n",
       "0  0.111741  0.249899  0.917630  0.264147  0.717774  0.865715  0.807079   \n",
       "1  0.473474  0.509715  0.945038  0.109447  0.465093  0.141555  0.538349   \n",
       "2  0.390420  0.406190  0.079666  0.056831  0.078331  0.695678  0.029159   \n",
       "3  0.684046  0.351099  0.771036  0.791800  0.443875  0.268828  0.023904   \n",
       "4  0.823849  0.451871  0.887945  0.220400  0.106823  0.012010  0.917941   \n",
       "5  0.569105  0.743420  0.330015  0.607852  0.515675  0.919801  0.201367   \n",
       "6  0.932277  0.363291  0.015004  0.899727  0.615400  0.970942  0.621620   \n",
       "7  0.517394  0.665752  0.762913  0.940879  0.123988  0.209996  0.365368   \n",
       "8  0.215403  0.850066  0.369989  0.228212  0.859933  0.465751  0.678117   \n",
       "9  0.472342  0.630203  0.812014  0.066001  0.299919  0.623582  0.493188   \n",
       "\n",
       "   entero  \n",
       "0       1  \n",
       "1       1  \n",
       "2       1  \n",
       "3       1  \n",
       "4       1  \n",
       "5       1  \n",
       "6       1  \n",
       "7       1  \n",
       "8       1  \n",
       "9       1  "
      ]
     },
     "execution_count": 75,
     "metadata": {},
     "output_type": "execute_result"
    }
   ],
   "source": [
    "df_5.head(10)"
   ]
  },
  {
   "cell_type": "markdown",
   "metadata": {},
   "source": [
    "Una de las herramientas más poderosas de *pandas* es poder hacer un filtrado de los datos a partir de comparaciones lógicas, las cuales nos regresan vectores booleanos.  "
   ]
  },
  {
   "cell_type": "code",
   "execution_count": 76,
   "metadata": {},
   "outputs": [
    {
     "data": {
      "text/html": [
       "<div>\n",
       "<style scoped>\n",
       "    .dataframe tbody tr th:only-of-type {\n",
       "        vertical-align: middle;\n",
       "    }\n",
       "\n",
       "    .dataframe tbody tr th {\n",
       "        vertical-align: top;\n",
       "    }\n",
       "\n",
       "    .dataframe thead th {\n",
       "        text-align: right;\n",
       "    }\n",
       "</style>\n",
       "<table border=\"1\" class=\"dataframe\">\n",
       "  <thead>\n",
       "    <tr style=\"text-align: right;\">\n",
       "      <th></th>\n",
       "      <th>0</th>\n",
       "      <th>1</th>\n",
       "      <th>2</th>\n",
       "      <th>3</th>\n",
       "      <th>4</th>\n",
       "      <th>5</th>\n",
       "      <th>6</th>\n",
       "      <th>7</th>\n",
       "      <th>8</th>\n",
       "      <th>9</th>\n",
       "      <th>10</th>\n",
       "      <th>11</th>\n",
       "      <th>12</th>\n",
       "      <th>13</th>\n",
       "      <th>14</th>\n",
       "      <th>entero</th>\n",
       "    </tr>\n",
       "  </thead>\n",
       "  <tbody>\n",
       "    <tr>\n",
       "      <th>0</th>\n",
       "      <td>2</td>\n",
       "      <td>NaN</td>\n",
       "      <td>NaN</td>\n",
       "      <td>NaN</td>\n",
       "      <td>NaN</td>\n",
       "      <td>0.530000</td>\n",
       "      <td>NaN</td>\n",
       "      <td>NaN</td>\n",
       "      <td>NaN</td>\n",
       "      <td>NaN</td>\n",
       "      <td>0.917630</td>\n",
       "      <td>NaN</td>\n",
       "      <td>0.717774</td>\n",
       "      <td>0.865715</td>\n",
       "      <td>0.807079</td>\n",
       "      <td>1</td>\n",
       "    </tr>\n",
       "    <tr>\n",
       "      <th>1</th>\n",
       "      <td>2</td>\n",
       "      <td>NaN</td>\n",
       "      <td>NaN</td>\n",
       "      <td>NaN</td>\n",
       "      <td>NaN</td>\n",
       "      <td>0.998543</td>\n",
       "      <td>NaN</td>\n",
       "      <td>0.760510</td>\n",
       "      <td>NaN</td>\n",
       "      <td>0.509715</td>\n",
       "      <td>0.945038</td>\n",
       "      <td>NaN</td>\n",
       "      <td>NaN</td>\n",
       "      <td>NaN</td>\n",
       "      <td>0.538349</td>\n",
       "      <td>1</td>\n",
       "    </tr>\n",
       "    <tr>\n",
       "      <th>2</th>\n",
       "      <td>2</td>\n",
       "      <td>0.537745</td>\n",
       "      <td>0.665628</td>\n",
       "      <td>NaN</td>\n",
       "      <td>0.623019</td>\n",
       "      <td>0.642725</td>\n",
       "      <td>NaN</td>\n",
       "      <td>NaN</td>\n",
       "      <td>NaN</td>\n",
       "      <td>NaN</td>\n",
       "      <td>NaN</td>\n",
       "      <td>NaN</td>\n",
       "      <td>NaN</td>\n",
       "      <td>0.695678</td>\n",
       "      <td>NaN</td>\n",
       "      <td>1</td>\n",
       "    </tr>\n",
       "    <tr>\n",
       "      <th>3</th>\n",
       "      <td>2</td>\n",
       "      <td>NaN</td>\n",
       "      <td>NaN</td>\n",
       "      <td>0.639489</td>\n",
       "      <td>NaN</td>\n",
       "      <td>0.974607</td>\n",
       "      <td>NaN</td>\n",
       "      <td>NaN</td>\n",
       "      <td>0.684046</td>\n",
       "      <td>NaN</td>\n",
       "      <td>0.771036</td>\n",
       "      <td>0.791800</td>\n",
       "      <td>NaN</td>\n",
       "      <td>NaN</td>\n",
       "      <td>NaN</td>\n",
       "      <td>1</td>\n",
       "    </tr>\n",
       "    <tr>\n",
       "      <th>4</th>\n",
       "      <td>2</td>\n",
       "      <td>NaN</td>\n",
       "      <td>0.727523</td>\n",
       "      <td>NaN</td>\n",
       "      <td>0.520496</td>\n",
       "      <td>0.684569</td>\n",
       "      <td>NaN</td>\n",
       "      <td>0.603473</td>\n",
       "      <td>0.823849</td>\n",
       "      <td>NaN</td>\n",
       "      <td>0.887945</td>\n",
       "      <td>NaN</td>\n",
       "      <td>NaN</td>\n",
       "      <td>NaN</td>\n",
       "      <td>0.917941</td>\n",
       "      <td>1</td>\n",
       "    </tr>\n",
       "    <tr>\n",
       "      <th>5</th>\n",
       "      <td>2</td>\n",
       "      <td>NaN</td>\n",
       "      <td>0.547552</td>\n",
       "      <td>0.920800</td>\n",
       "      <td>0.875666</td>\n",
       "      <td>NaN</td>\n",
       "      <td>NaN</td>\n",
       "      <td>NaN</td>\n",
       "      <td>0.569105</td>\n",
       "      <td>0.743420</td>\n",
       "      <td>NaN</td>\n",
       "      <td>0.607852</td>\n",
       "      <td>0.515675</td>\n",
       "      <td>0.919801</td>\n",
       "      <td>NaN</td>\n",
       "      <td>1</td>\n",
       "    </tr>\n",
       "    <tr>\n",
       "      <th>6</th>\n",
       "      <td>2</td>\n",
       "      <td>NaN</td>\n",
       "      <td>NaN</td>\n",
       "      <td>NaN</td>\n",
       "      <td>0.573752</td>\n",
       "      <td>0.880373</td>\n",
       "      <td>NaN</td>\n",
       "      <td>NaN</td>\n",
       "      <td>0.932277</td>\n",
       "      <td>NaN</td>\n",
       "      <td>NaN</td>\n",
       "      <td>0.899727</td>\n",
       "      <td>0.615400</td>\n",
       "      <td>0.970942</td>\n",
       "      <td>0.621620</td>\n",
       "      <td>1</td>\n",
       "    </tr>\n",
       "    <tr>\n",
       "      <th>7</th>\n",
       "      <td>2</td>\n",
       "      <td>0.599040</td>\n",
       "      <td>NaN</td>\n",
       "      <td>0.678375</td>\n",
       "      <td>0.546339</td>\n",
       "      <td>NaN</td>\n",
       "      <td>0.774770</td>\n",
       "      <td>NaN</td>\n",
       "      <td>0.517394</td>\n",
       "      <td>0.665752</td>\n",
       "      <td>0.762913</td>\n",
       "      <td>0.940879</td>\n",
       "      <td>NaN</td>\n",
       "      <td>NaN</td>\n",
       "      <td>NaN</td>\n",
       "      <td>1</td>\n",
       "    </tr>\n",
       "    <tr>\n",
       "      <th>8</th>\n",
       "      <td>2</td>\n",
       "      <td>0.590005</td>\n",
       "      <td>0.993915</td>\n",
       "      <td>0.611509</td>\n",
       "      <td>0.683021</td>\n",
       "      <td>NaN</td>\n",
       "      <td>NaN</td>\n",
       "      <td>NaN</td>\n",
       "      <td>NaN</td>\n",
       "      <td>0.850066</td>\n",
       "      <td>NaN</td>\n",
       "      <td>NaN</td>\n",
       "      <td>0.859933</td>\n",
       "      <td>NaN</td>\n",
       "      <td>0.678117</td>\n",
       "      <td>1</td>\n",
       "    </tr>\n",
       "    <tr>\n",
       "      <th>9</th>\n",
       "      <td>2</td>\n",
       "      <td>0.716434</td>\n",
       "      <td>NaN</td>\n",
       "      <td>0.551522</td>\n",
       "      <td>0.586269</td>\n",
       "      <td>NaN</td>\n",
       "      <td>NaN</td>\n",
       "      <td>0.745438</td>\n",
       "      <td>NaN</td>\n",
       "      <td>0.630203</td>\n",
       "      <td>0.812014</td>\n",
       "      <td>NaN</td>\n",
       "      <td>NaN</td>\n",
       "      <td>0.623582</td>\n",
       "      <td>NaN</td>\n",
       "      <td>1</td>\n",
       "    </tr>\n",
       "    <tr>\n",
       "      <th>10</th>\n",
       "      <td>2</td>\n",
       "      <td>0.838790</td>\n",
       "      <td>0.761277</td>\n",
       "      <td>NaN</td>\n",
       "      <td>0.969743</td>\n",
       "      <td>0.863809</td>\n",
       "      <td>NaN</td>\n",
       "      <td>NaN</td>\n",
       "      <td>NaN</td>\n",
       "      <td>0.586841</td>\n",
       "      <td>0.797385</td>\n",
       "      <td>0.969131</td>\n",
       "      <td>0.968505</td>\n",
       "      <td>NaN</td>\n",
       "      <td>NaN</td>\n",
       "      <td>1</td>\n",
       "    </tr>\n",
       "    <tr>\n",
       "      <th>11</th>\n",
       "      <td>2</td>\n",
       "      <td>0.744514</td>\n",
       "      <td>NaN</td>\n",
       "      <td>NaN</td>\n",
       "      <td>0.512657</td>\n",
       "      <td>NaN</td>\n",
       "      <td>NaN</td>\n",
       "      <td>NaN</td>\n",
       "      <td>0.966612</td>\n",
       "      <td>0.821847</td>\n",
       "      <td>NaN</td>\n",
       "      <td>0.827812</td>\n",
       "      <td>NaN</td>\n",
       "      <td>0.769853</td>\n",
       "      <td>0.965602</td>\n",
       "      <td>1</td>\n",
       "    </tr>\n",
       "    <tr>\n",
       "      <th>12</th>\n",
       "      <td>2</td>\n",
       "      <td>0.590896</td>\n",
       "      <td>0.748336</td>\n",
       "      <td>NaN</td>\n",
       "      <td>NaN</td>\n",
       "      <td>NaN</td>\n",
       "      <td>0.817256</td>\n",
       "      <td>0.950861</td>\n",
       "      <td>NaN</td>\n",
       "      <td>NaN</td>\n",
       "      <td>NaN</td>\n",
       "      <td>NaN</td>\n",
       "      <td>NaN</td>\n",
       "      <td>NaN</td>\n",
       "      <td>0.717554</td>\n",
       "      <td>1</td>\n",
       "    </tr>\n",
       "    <tr>\n",
       "      <th>13</th>\n",
       "      <td>2</td>\n",
       "      <td>NaN</td>\n",
       "      <td>0.603048</td>\n",
       "      <td>NaN</td>\n",
       "      <td>0.922179</td>\n",
       "      <td>0.769198</td>\n",
       "      <td>0.540825</td>\n",
       "      <td>NaN</td>\n",
       "      <td>0.733031</td>\n",
       "      <td>NaN</td>\n",
       "      <td>0.896091</td>\n",
       "      <td>NaN</td>\n",
       "      <td>0.841323</td>\n",
       "      <td>NaN</td>\n",
       "      <td>0.884604</td>\n",
       "      <td>1</td>\n",
       "    </tr>\n",
       "    <tr>\n",
       "      <th>14</th>\n",
       "      <td>2</td>\n",
       "      <td>NaN</td>\n",
       "      <td>NaN</td>\n",
       "      <td>NaN</td>\n",
       "      <td>0.623451</td>\n",
       "      <td>NaN</td>\n",
       "      <td>0.908848</td>\n",
       "      <td>0.554992</td>\n",
       "      <td>0.703099</td>\n",
       "      <td>NaN</td>\n",
       "      <td>NaN</td>\n",
       "      <td>NaN</td>\n",
       "      <td>NaN</td>\n",
       "      <td>0.709028</td>\n",
       "      <td>NaN</td>\n",
       "      <td>1</td>\n",
       "    </tr>\n",
       "  </tbody>\n",
       "</table>\n",
       "</div>"
      ],
      "text/plain": [
       "    0         1         2         3         4         5         6         7  \\\n",
       "0   2       NaN       NaN       NaN       NaN  0.530000       NaN       NaN   \n",
       "1   2       NaN       NaN       NaN       NaN  0.998543       NaN  0.760510   \n",
       "2   2  0.537745  0.665628       NaN  0.623019  0.642725       NaN       NaN   \n",
       "3   2       NaN       NaN  0.639489       NaN  0.974607       NaN       NaN   \n",
       "4   2       NaN  0.727523       NaN  0.520496  0.684569       NaN  0.603473   \n",
       "5   2       NaN  0.547552  0.920800  0.875666       NaN       NaN       NaN   \n",
       "6   2       NaN       NaN       NaN  0.573752  0.880373       NaN       NaN   \n",
       "7   2  0.599040       NaN  0.678375  0.546339       NaN  0.774770       NaN   \n",
       "8   2  0.590005  0.993915  0.611509  0.683021       NaN       NaN       NaN   \n",
       "9   2  0.716434       NaN  0.551522  0.586269       NaN       NaN  0.745438   \n",
       "10  2  0.838790  0.761277       NaN  0.969743  0.863809       NaN       NaN   \n",
       "11  2  0.744514       NaN       NaN  0.512657       NaN       NaN       NaN   \n",
       "12  2  0.590896  0.748336       NaN       NaN       NaN  0.817256  0.950861   \n",
       "13  2       NaN  0.603048       NaN  0.922179  0.769198  0.540825       NaN   \n",
       "14  2       NaN       NaN       NaN  0.623451       NaN  0.908848  0.554992   \n",
       "\n",
       "           8         9        10        11        12        13        14  \\\n",
       "0        NaN       NaN  0.917630       NaN  0.717774  0.865715  0.807079   \n",
       "1        NaN  0.509715  0.945038       NaN       NaN       NaN  0.538349   \n",
       "2        NaN       NaN       NaN       NaN       NaN  0.695678       NaN   \n",
       "3   0.684046       NaN  0.771036  0.791800       NaN       NaN       NaN   \n",
       "4   0.823849       NaN  0.887945       NaN       NaN       NaN  0.917941   \n",
       "5   0.569105  0.743420       NaN  0.607852  0.515675  0.919801       NaN   \n",
       "6   0.932277       NaN       NaN  0.899727  0.615400  0.970942  0.621620   \n",
       "7   0.517394  0.665752  0.762913  0.940879       NaN       NaN       NaN   \n",
       "8        NaN  0.850066       NaN       NaN  0.859933       NaN  0.678117   \n",
       "9        NaN  0.630203  0.812014       NaN       NaN  0.623582       NaN   \n",
       "10       NaN  0.586841  0.797385  0.969131  0.968505       NaN       NaN   \n",
       "11  0.966612  0.821847       NaN  0.827812       NaN  0.769853  0.965602   \n",
       "12       NaN       NaN       NaN       NaN       NaN       NaN  0.717554   \n",
       "13  0.733031       NaN  0.896091       NaN  0.841323       NaN  0.884604   \n",
       "14  0.703099       NaN       NaN       NaN       NaN  0.709028       NaN   \n",
       "\n",
       "    entero  \n",
       "0        1  \n",
       "1        1  \n",
       "2        1  \n",
       "3        1  \n",
       "4        1  \n",
       "5        1  \n",
       "6        1  \n",
       "7        1  \n",
       "8        1  \n",
       "9        1  \n",
       "10       1  \n",
       "11       1  \n",
       "12       1  \n",
       "13       1  \n",
       "14       1  "
      ]
     },
     "execution_count": 76,
     "metadata": {},
     "output_type": "execute_result"
    }
   ],
   "source": [
    "df_5[df_5>.5]"
   ]
  },
  {
   "cell_type": "markdown",
   "metadata": {},
   "source": [
    "Si nos interesa una columna en particular y sólo tomar elementos que cumplan con una condición dada se hace de forma similar.  "
   ]
  },
  {
   "cell_type": "code",
   "execution_count": 77,
   "metadata": {},
   "outputs": [
    {
     "data": {
      "text/html": [
       "<div>\n",
       "<style scoped>\n",
       "    .dataframe tbody tr th:only-of-type {\n",
       "        vertical-align: middle;\n",
       "    }\n",
       "\n",
       "    .dataframe tbody tr th {\n",
       "        vertical-align: top;\n",
       "    }\n",
       "\n",
       "    .dataframe thead th {\n",
       "        text-align: right;\n",
       "    }\n",
       "</style>\n",
       "<table border=\"1\" class=\"dataframe\">\n",
       "  <thead>\n",
       "    <tr style=\"text-align: right;\">\n",
       "      <th></th>\n",
       "      <th>0</th>\n",
       "      <th>1</th>\n",
       "      <th>2</th>\n",
       "      <th>3</th>\n",
       "      <th>4</th>\n",
       "      <th>5</th>\n",
       "      <th>6</th>\n",
       "      <th>7</th>\n",
       "      <th>8</th>\n",
       "      <th>9</th>\n",
       "      <th>10</th>\n",
       "      <th>11</th>\n",
       "      <th>12</th>\n",
       "      <th>13</th>\n",
       "      <th>14</th>\n",
       "      <th>entero</th>\n",
       "    </tr>\n",
       "  </thead>\n",
       "  <tbody>\n",
       "    <tr>\n",
       "      <th>2</th>\n",
       "      <td>2</td>\n",
       "      <td>0.537745</td>\n",
       "      <td>0.665628</td>\n",
       "      <td>0.364329</td>\n",
       "      <td>0.623019</td>\n",
       "      <td>0.642725</td>\n",
       "      <td>0.419982</td>\n",
       "      <td>0.403242</td>\n",
       "      <td>0.390420</td>\n",
       "      <td>0.406190</td>\n",
       "      <td>0.079666</td>\n",
       "      <td>0.056831</td>\n",
       "      <td>0.078331</td>\n",
       "      <td>0.695678</td>\n",
       "      <td>0.029159</td>\n",
       "      <td>1</td>\n",
       "    </tr>\n",
       "    <tr>\n",
       "      <th>7</th>\n",
       "      <td>2</td>\n",
       "      <td>0.599040</td>\n",
       "      <td>0.139279</td>\n",
       "      <td>0.678375</td>\n",
       "      <td>0.546339</td>\n",
       "      <td>0.009044</td>\n",
       "      <td>0.774770</td>\n",
       "      <td>0.121425</td>\n",
       "      <td>0.517394</td>\n",
       "      <td>0.665752</td>\n",
       "      <td>0.762913</td>\n",
       "      <td>0.940879</td>\n",
       "      <td>0.123988</td>\n",
       "      <td>0.209996</td>\n",
       "      <td>0.365368</td>\n",
       "      <td>1</td>\n",
       "    </tr>\n",
       "    <tr>\n",
       "      <th>8</th>\n",
       "      <td>2</td>\n",
       "      <td>0.590005</td>\n",
       "      <td>0.993915</td>\n",
       "      <td>0.611509</td>\n",
       "      <td>0.683021</td>\n",
       "      <td>0.096211</td>\n",
       "      <td>0.434022</td>\n",
       "      <td>0.129159</td>\n",
       "      <td>0.215403</td>\n",
       "      <td>0.850066</td>\n",
       "      <td>0.369989</td>\n",
       "      <td>0.228212</td>\n",
       "      <td>0.859933</td>\n",
       "      <td>0.465751</td>\n",
       "      <td>0.678117</td>\n",
       "      <td>1</td>\n",
       "    </tr>\n",
       "    <tr>\n",
       "      <th>9</th>\n",
       "      <td>2</td>\n",
       "      <td>0.716434</td>\n",
       "      <td>0.365020</td>\n",
       "      <td>0.551522</td>\n",
       "      <td>0.586269</td>\n",
       "      <td>0.115388</td>\n",
       "      <td>0.159536</td>\n",
       "      <td>0.745438</td>\n",
       "      <td>0.472342</td>\n",
       "      <td>0.630203</td>\n",
       "      <td>0.812014</td>\n",
       "      <td>0.066001</td>\n",
       "      <td>0.299919</td>\n",
       "      <td>0.623582</td>\n",
       "      <td>0.493188</td>\n",
       "      <td>1</td>\n",
       "    </tr>\n",
       "    <tr>\n",
       "      <th>10</th>\n",
       "      <td>2</td>\n",
       "      <td>0.838790</td>\n",
       "      <td>0.761277</td>\n",
       "      <td>0.121492</td>\n",
       "      <td>0.969743</td>\n",
       "      <td>0.863809</td>\n",
       "      <td>0.099291</td>\n",
       "      <td>0.342655</td>\n",
       "      <td>0.036127</td>\n",
       "      <td>0.586841</td>\n",
       "      <td>0.797385</td>\n",
       "      <td>0.969131</td>\n",
       "      <td>0.968505</td>\n",
       "      <td>0.079030</td>\n",
       "      <td>0.184743</td>\n",
       "      <td>1</td>\n",
       "    </tr>\n",
       "    <tr>\n",
       "      <th>11</th>\n",
       "      <td>2</td>\n",
       "      <td>0.744514</td>\n",
       "      <td>0.167016</td>\n",
       "      <td>0.438509</td>\n",
       "      <td>0.512657</td>\n",
       "      <td>0.217382</td>\n",
       "      <td>0.101643</td>\n",
       "      <td>0.248965</td>\n",
       "      <td>0.966612</td>\n",
       "      <td>0.821847</td>\n",
       "      <td>0.435116</td>\n",
       "      <td>0.827812</td>\n",
       "      <td>0.047537</td>\n",
       "      <td>0.769853</td>\n",
       "      <td>0.965602</td>\n",
       "      <td>1</td>\n",
       "    </tr>\n",
       "    <tr>\n",
       "      <th>12</th>\n",
       "      <td>2</td>\n",
       "      <td>0.590896</td>\n",
       "      <td>0.748336</td>\n",
       "      <td>0.198431</td>\n",
       "      <td>0.452266</td>\n",
       "      <td>0.252769</td>\n",
       "      <td>0.817256</td>\n",
       "      <td>0.950861</td>\n",
       "      <td>0.262248</td>\n",
       "      <td>0.133244</td>\n",
       "      <td>0.167872</td>\n",
       "      <td>0.410399</td>\n",
       "      <td>0.484212</td>\n",
       "      <td>0.146091</td>\n",
       "      <td>0.717554</td>\n",
       "      <td>1</td>\n",
       "    </tr>\n",
       "  </tbody>\n",
       "</table>\n",
       "</div>"
      ],
      "text/plain": [
       "    0         1         2         3         4         5         6         7  \\\n",
       "2   2  0.537745  0.665628  0.364329  0.623019  0.642725  0.419982  0.403242   \n",
       "7   2  0.599040  0.139279  0.678375  0.546339  0.009044  0.774770  0.121425   \n",
       "8   2  0.590005  0.993915  0.611509  0.683021  0.096211  0.434022  0.129159   \n",
       "9   2  0.716434  0.365020  0.551522  0.586269  0.115388  0.159536  0.745438   \n",
       "10  2  0.838790  0.761277  0.121492  0.969743  0.863809  0.099291  0.342655   \n",
       "11  2  0.744514  0.167016  0.438509  0.512657  0.217382  0.101643  0.248965   \n",
       "12  2  0.590896  0.748336  0.198431  0.452266  0.252769  0.817256  0.950861   \n",
       "\n",
       "           8         9        10        11        12        13        14  \\\n",
       "2   0.390420  0.406190  0.079666  0.056831  0.078331  0.695678  0.029159   \n",
       "7   0.517394  0.665752  0.762913  0.940879  0.123988  0.209996  0.365368   \n",
       "8   0.215403  0.850066  0.369989  0.228212  0.859933  0.465751  0.678117   \n",
       "9   0.472342  0.630203  0.812014  0.066001  0.299919  0.623582  0.493188   \n",
       "10  0.036127  0.586841  0.797385  0.969131  0.968505  0.079030  0.184743   \n",
       "11  0.966612  0.821847  0.435116  0.827812  0.047537  0.769853  0.965602   \n",
       "12  0.262248  0.133244  0.167872  0.410399  0.484212  0.146091  0.717554   \n",
       "\n",
       "    entero  \n",
       "2        1  \n",
       "7        1  \n",
       "8        1  \n",
       "9        1  \n",
       "10       1  \n",
       "11       1  \n",
       "12       1  "
      ]
     },
     "execution_count": 77,
     "metadata": {},
     "output_type": "execute_result"
    }
   ],
   "source": [
    "df_5[df_5[1]>0.5]"
   ]
  },
  {
   "cell_type": "markdown",
   "metadata": {},
   "source": [
    "O podemos hacer condiciones sobre las propias columnas del *dataframe*"
   ]
  },
  {
   "cell_type": "code",
   "execution_count": 78,
   "metadata": {},
   "outputs": [
    {
     "data": {
      "text/html": [
       "<div>\n",
       "<style scoped>\n",
       "    .dataframe tbody tr th:only-of-type {\n",
       "        vertical-align: middle;\n",
       "    }\n",
       "\n",
       "    .dataframe tbody tr th {\n",
       "        vertical-align: top;\n",
       "    }\n",
       "\n",
       "    .dataframe thead th {\n",
       "        text-align: right;\n",
       "    }\n",
       "</style>\n",
       "<table border=\"1\" class=\"dataframe\">\n",
       "  <thead>\n",
       "    <tr style=\"text-align: right;\">\n",
       "      <th></th>\n",
       "      <th>Poblacion</th>\n",
       "      <th>Poblacion_60_a</th>\n",
       "      <th>Poblacion_0_4</th>\n",
       "      <th>Poblacion_5_9</th>\n",
       "      <th>Poblacion_10_14</th>\n",
       "    </tr>\n",
       "  </thead>\n",
       "  <tbody>\n",
       "    <tr>\n",
       "      <th>Baja California</th>\n",
       "      <td>2844469</td>\n",
       "      <td>164888</td>\n",
       "      <td>267954</td>\n",
       "      <td>277635</td>\n",
       "      <td>267938</td>\n",
       "    </tr>\n",
       "  </tbody>\n",
       "</table>\n",
       "</div>"
      ],
      "text/plain": [
       "                 Poblacion  Poblacion_60_a  Poblacion_0_4  Poblacion_5_9  \\\n",
       "Baja California    2844469          164888         267954         277635   \n",
       "\n",
       "                 Poblacion_10_14  \n",
       "Baja California           267938  "
      ]
     },
     "execution_count": 78,
     "metadata": {},
     "output_type": "execute_result"
    }
   ],
   "source": [
    "df_1[df_1['Poblacion_10_14']< df_1['Poblacion_5_9']]"
   ]
  },
  {
   "cell_type": "markdown",
   "metadata": {},
   "source": [
    "Otra forma de uso de para tener acceso a las columnas en los *dataframes* es usar la notación de una instancia dentro de un objeto, esto se hace a traves de `.`\n"
   ]
  },
  {
   "cell_type": "code",
   "execution_count": 79,
   "metadata": {},
   "outputs": [
    {
     "data": {
      "text/plain": [
       "Baja California     2844469\n",
       "Ciudad de Mexico    8720916\n",
       "Hidalgo             2345514\n",
       "Morelos             1612899\n",
       "Nayarit              949684\n",
       "Name: Poblacion, dtype: int64"
      ]
     },
     "execution_count": 79,
     "metadata": {},
     "output_type": "execute_result"
    }
   ],
   "source": [
    "df_1.Poblacion"
   ]
  },
  {
   "cell_type": "code",
   "execution_count": 80,
   "metadata": {},
   "outputs": [
    {
     "data": {
      "text/html": [
       "<div>\n",
       "<style scoped>\n",
       "    .dataframe tbody tr th:only-of-type {\n",
       "        vertical-align: middle;\n",
       "    }\n",
       "\n",
       "    .dataframe tbody tr th {\n",
       "        vertical-align: top;\n",
       "    }\n",
       "\n",
       "    .dataframe thead th {\n",
       "        text-align: right;\n",
       "    }\n",
       "</style>\n",
       "<table border=\"1\" class=\"dataframe\">\n",
       "  <thead>\n",
       "    <tr style=\"text-align: right;\">\n",
       "      <th></th>\n",
       "      <th>Poblacion</th>\n",
       "      <th>Poblacion_60_a</th>\n",
       "      <th>Poblacion_0_4</th>\n",
       "      <th>Poblacion_5_9</th>\n",
       "      <th>Poblacion_10_14</th>\n",
       "    </tr>\n",
       "  </thead>\n",
       "  <tbody>\n",
       "    <tr>\n",
       "      <th>Baja California</th>\n",
       "      <td>2844469</td>\n",
       "      <td>164888</td>\n",
       "      <td>267954</td>\n",
       "      <td>277635</td>\n",
       "      <td>267938</td>\n",
       "    </tr>\n",
       "    <tr>\n",
       "      <th>Ciudad de Mexico</th>\n",
       "      <td>8720916</td>\n",
       "      <td>859438</td>\n",
       "      <td>664092</td>\n",
       "      <td>671579</td>\n",
       "      <td>704950</td>\n",
       "    </tr>\n",
       "    <tr>\n",
       "      <th>Hidalgo</th>\n",
       "      <td>2345514</td>\n",
       "      <td>204325</td>\n",
       "      <td>237423</td>\n",
       "      <td>243185</td>\n",
       "      <td>270650</td>\n",
       "    </tr>\n",
       "    <tr>\n",
       "      <th>Morelos</th>\n",
       "      <td>1612899</td>\n",
       "      <td>143942</td>\n",
       "      <td>150281</td>\n",
       "      <td>157253</td>\n",
       "      <td>168541</td>\n",
       "    </tr>\n",
       "  </tbody>\n",
       "</table>\n",
       "</div>"
      ],
      "text/plain": [
       "                  Poblacion  Poblacion_60_a  Poblacion_0_4  Poblacion_5_9  \\\n",
       "Baja California     2844469          164888         267954         277635   \n",
       "Ciudad de Mexico    8720916          859438         664092         671579   \n",
       "Hidalgo             2345514          204325         237423         243185   \n",
       "Morelos             1612899          143942         150281         157253   \n",
       "\n",
       "                  Poblacion_10_14  \n",
       "Baja California            267938  \n",
       "Ciudad de Mexico           704950  \n",
       "Hidalgo                    270650  \n",
       "Morelos                    168541  "
      ]
     },
     "execution_count": 80,
     "metadata": {},
     "output_type": "execute_result"
    }
   ],
   "source": [
    "df_1[df_1.Poblacion > 1000000]"
   ]
  },
  {
   "cell_type": "markdown",
   "metadata": {},
   "source": [
    "Estas formas de seleccionar elementos dentro del *dataframe* se basan en la forma de seleccionar elementos de las matrices de *Numpy*, los desarrolladores de *pandas* implementaron los métodos `loc` y `iloc` para poder seleccionar los elementos dentro de los *dataframes* generando así múltiples formas para la selección de elementos. Más adelante en el curso se verán otras formas de selección para los caso con múltiples índices jerárquicos.\n",
    "\n",
    "En la siguiente tabla resumimos algunas formas para la seleccion de los datos\n",
    "\n",
    "\n",
    "|Tipo de llamado | Descripción|\n",
    "|----------------|--------------|\n",
    "|`df.loc[val]`| Se selecciona un renglón o un subconjunto de renglones usando el índice |\n",
    "|`df.loc[:,val]`| Selecciona una sola columna o un conjunto de columnas|\n",
    "|`df[val]`| Se selecciona una columna del *dataframe*; si *val* es un arreglo boleano de 1D filtra renglones y si es *val* <br> es un arreglo 2D se puede usar para designar valores|\n",
    "|`df.iloc[val]`| Selecciona la el renglón o un subconjunto de renglones usando la posición con enteros|\n",
    "|`df.iloc[:,val]`| Selección de una columna o múltiples columnas usando la posición por enteros|\n",
    "|`df.iloc[val1,val2]`| Selección de renglón y columna usando enteros|\n",
    "|`df.at[val1,val2]`| Seleccionar un sólo valor usando las etiquedas del índice tanto en renglones como en columnas|\n",
    "|`df.get(val)`|Regresa la columna *val* esta en los índices de las columnas|"
   ]
  },
  {
   "cell_type": "markdown",
   "metadata": {},
   "source": [
    "### Operaciones aritméticas en *Dataframes*\n",
    "Como ya vimos es posible hacer operacións aritméticas en las *series* (sumar, restar, multiplicar por escalares multiplicar elemento a elemento ) "
   ]
  },
  {
   "cell_type": "code",
   "execution_count": 81,
   "metadata": {},
   "outputs": [
    {
     "data": {
      "text/plain": [
       "raul        6.0\n",
       "maria      10.0\n",
       "emilio      8.0\n",
       "alfredo     9.5\n",
       "ivan        7.5\n",
       "fabian      7.5\n",
       "ismael      7.0\n",
       "dtype: float64"
      ]
     },
     "execution_count": 81,
     "metadata": {},
     "output_type": "execute_result"
    }
   ],
   "source": [
    "Serie_5"
   ]
  },
  {
   "cell_type": "code",
   "execution_count": 82,
   "metadata": {},
   "outputs": [
    {
     "data": {
      "text/plain": [
       "e    10\n",
       "h     9\n",
       "i     8\n",
       "a    25\n",
       "b     6\n",
       "d     5\n",
       "c     4\n",
       "g     3\n",
       "f     2\n",
       "j     1\n",
       "dtype: int64"
      ]
     },
     "execution_count": 82,
     "metadata": {},
     "output_type": "execute_result"
    }
   ],
   "source": [
    "Serie_2"
   ]
  },
  {
   "cell_type": "code",
   "execution_count": 83,
   "metadata": {},
   "outputs": [
    {
     "data": {
      "text/plain": [
       "a         NaN\n",
       "alfredo   NaN\n",
       "b         NaN\n",
       "c         NaN\n",
       "d         NaN\n",
       "e         NaN\n",
       "emilio    NaN\n",
       "f         NaN\n",
       "fabian    NaN\n",
       "g         NaN\n",
       "h         NaN\n",
       "i         NaN\n",
       "ismael    NaN\n",
       "ivan      NaN\n",
       "j         NaN\n",
       "maria     NaN\n",
       "raul      NaN\n",
       "dtype: float64"
      ]
     },
     "execution_count": 83,
     "metadata": {},
     "output_type": "execute_result"
    }
   ],
   "source": [
    "Serie_5+ Serie_2"
   ]
  },
  {
   "cell_type": "code",
   "execution_count": 84,
   "metadata": {},
   "outputs": [
    {
     "data": {
      "text/plain": [
       "a         NaN\n",
       "alfredo   NaN\n",
       "b         NaN\n",
       "c         NaN\n",
       "d         NaN\n",
       "e         NaN\n",
       "emilio    NaN\n",
       "f         NaN\n",
       "fabian    NaN\n",
       "g         NaN\n",
       "h         NaN\n",
       "i         NaN\n",
       "ismael    NaN\n",
       "ivan      NaN\n",
       "j         NaN\n",
       "maria     NaN\n",
       "raul      NaN\n",
       "dtype: float64"
      ]
     },
     "execution_count": 84,
     "metadata": {},
     "output_type": "execute_result"
    }
   ],
   "source": [
    "Serie_5*Serie_2"
   ]
  },
  {
   "cell_type": "code",
   "execution_count": 85,
   "metadata": {},
   "outputs": [
    {
     "data": {
      "text/plain": [
       "a         NaN\n",
       "alfredo   NaN\n",
       "b         NaN\n",
       "c         NaN\n",
       "d         NaN\n",
       "e         NaN\n",
       "emilio    NaN\n",
       "f         NaN\n",
       "fabian    NaN\n",
       "g         NaN\n",
       "h         NaN\n",
       "i         NaN\n",
       "ismael    NaN\n",
       "ivan      NaN\n",
       "j         NaN\n",
       "maria     NaN\n",
       "raul      NaN\n",
       "dtype: float64"
      ]
     },
     "execution_count": 85,
     "metadata": {},
     "output_type": "execute_result"
    }
   ],
   "source": [
    "Serie_5/Serie_2"
   ]
  },
  {
   "cell_type": "markdown",
   "metadata": {},
   "source": [
    "Pero como sabemos cuando los índices no son los mismos entonces por defecto se coloca `NaN` esto lleva a múltiples problemas si se hacen mas de una operación operaciones. En el caso de los *dataframes* los índices deben de coincidir tanto en renglones, como en columnas para que las operaciones se lleven acabo."
   ]
  },
  {
   "cell_type": "code",
   "execution_count": 86,
   "metadata": {},
   "outputs": [],
   "source": [
    "df_6= pd.DataFrame(np.random.randint(20,size=(7,5)), columns= list('efghi') , index= ['Ale', 'Ivan', 'Mariana', 'Diana', 'Susana', 'Liliana', 'Juan'])\n",
    "df_7= pd.DataFrame(np.random.randint(20,size=(7,5)), columns= list('bcdef'),  index= ['Ale', 'Ivan',  'Susana', 'Juan', 'Tania', 'Jose', 'Rosa'])"
   ]
  },
  {
   "cell_type": "code",
   "execution_count": 87,
   "metadata": {},
   "outputs": [
    {
     "data": {
      "text/html": [
       "<div>\n",
       "<style scoped>\n",
       "    .dataframe tbody tr th:only-of-type {\n",
       "        vertical-align: middle;\n",
       "    }\n",
       "\n",
       "    .dataframe tbody tr th {\n",
       "        vertical-align: top;\n",
       "    }\n",
       "\n",
       "    .dataframe thead th {\n",
       "        text-align: right;\n",
       "    }\n",
       "</style>\n",
       "<table border=\"1\" class=\"dataframe\">\n",
       "  <thead>\n",
       "    <tr style=\"text-align: right;\">\n",
       "      <th></th>\n",
       "      <th>b</th>\n",
       "      <th>c</th>\n",
       "      <th>d</th>\n",
       "      <th>e</th>\n",
       "      <th>f</th>\n",
       "      <th>g</th>\n",
       "      <th>h</th>\n",
       "      <th>i</th>\n",
       "    </tr>\n",
       "  </thead>\n",
       "  <tbody>\n",
       "    <tr>\n",
       "      <th>Ale</th>\n",
       "      <td>NaN</td>\n",
       "      <td>NaN</td>\n",
       "      <td>NaN</td>\n",
       "      <td>8.0</td>\n",
       "      <td>12.0</td>\n",
       "      <td>NaN</td>\n",
       "      <td>NaN</td>\n",
       "      <td>NaN</td>\n",
       "    </tr>\n",
       "    <tr>\n",
       "      <th>Diana</th>\n",
       "      <td>NaN</td>\n",
       "      <td>NaN</td>\n",
       "      <td>NaN</td>\n",
       "      <td>NaN</td>\n",
       "      <td>NaN</td>\n",
       "      <td>NaN</td>\n",
       "      <td>NaN</td>\n",
       "      <td>NaN</td>\n",
       "    </tr>\n",
       "    <tr>\n",
       "      <th>Ivan</th>\n",
       "      <td>NaN</td>\n",
       "      <td>NaN</td>\n",
       "      <td>NaN</td>\n",
       "      <td>23.0</td>\n",
       "      <td>9.0</td>\n",
       "      <td>NaN</td>\n",
       "      <td>NaN</td>\n",
       "      <td>NaN</td>\n",
       "    </tr>\n",
       "    <tr>\n",
       "      <th>Jose</th>\n",
       "      <td>NaN</td>\n",
       "      <td>NaN</td>\n",
       "      <td>NaN</td>\n",
       "      <td>NaN</td>\n",
       "      <td>NaN</td>\n",
       "      <td>NaN</td>\n",
       "      <td>NaN</td>\n",
       "      <td>NaN</td>\n",
       "    </tr>\n",
       "    <tr>\n",
       "      <th>Juan</th>\n",
       "      <td>NaN</td>\n",
       "      <td>NaN</td>\n",
       "      <td>NaN</td>\n",
       "      <td>18.0</td>\n",
       "      <td>29.0</td>\n",
       "      <td>NaN</td>\n",
       "      <td>NaN</td>\n",
       "      <td>NaN</td>\n",
       "    </tr>\n",
       "    <tr>\n",
       "      <th>Liliana</th>\n",
       "      <td>NaN</td>\n",
       "      <td>NaN</td>\n",
       "      <td>NaN</td>\n",
       "      <td>NaN</td>\n",
       "      <td>NaN</td>\n",
       "      <td>NaN</td>\n",
       "      <td>NaN</td>\n",
       "      <td>NaN</td>\n",
       "    </tr>\n",
       "    <tr>\n",
       "      <th>Mariana</th>\n",
       "      <td>NaN</td>\n",
       "      <td>NaN</td>\n",
       "      <td>NaN</td>\n",
       "      <td>NaN</td>\n",
       "      <td>NaN</td>\n",
       "      <td>NaN</td>\n",
       "      <td>NaN</td>\n",
       "      <td>NaN</td>\n",
       "    </tr>\n",
       "    <tr>\n",
       "      <th>Rosa</th>\n",
       "      <td>NaN</td>\n",
       "      <td>NaN</td>\n",
       "      <td>NaN</td>\n",
       "      <td>NaN</td>\n",
       "      <td>NaN</td>\n",
       "      <td>NaN</td>\n",
       "      <td>NaN</td>\n",
       "      <td>NaN</td>\n",
       "    </tr>\n",
       "    <tr>\n",
       "      <th>Susana</th>\n",
       "      <td>NaN</td>\n",
       "      <td>NaN</td>\n",
       "      <td>NaN</td>\n",
       "      <td>5.0</td>\n",
       "      <td>27.0</td>\n",
       "      <td>NaN</td>\n",
       "      <td>NaN</td>\n",
       "      <td>NaN</td>\n",
       "    </tr>\n",
       "    <tr>\n",
       "      <th>Tania</th>\n",
       "      <td>NaN</td>\n",
       "      <td>NaN</td>\n",
       "      <td>NaN</td>\n",
       "      <td>NaN</td>\n",
       "      <td>NaN</td>\n",
       "      <td>NaN</td>\n",
       "      <td>NaN</td>\n",
       "      <td>NaN</td>\n",
       "    </tr>\n",
       "  </tbody>\n",
       "</table>\n",
       "</div>"
      ],
      "text/plain": [
       "          b   c   d     e     f   g   h   i\n",
       "Ale     NaN NaN NaN   8.0  12.0 NaN NaN NaN\n",
       "Diana   NaN NaN NaN   NaN   NaN NaN NaN NaN\n",
       "Ivan    NaN NaN NaN  23.0   9.0 NaN NaN NaN\n",
       "Jose    NaN NaN NaN   NaN   NaN NaN NaN NaN\n",
       "Juan    NaN NaN NaN  18.0  29.0 NaN NaN NaN\n",
       "Liliana NaN NaN NaN   NaN   NaN NaN NaN NaN\n",
       "Mariana NaN NaN NaN   NaN   NaN NaN NaN NaN\n",
       "Rosa    NaN NaN NaN   NaN   NaN NaN NaN NaN\n",
       "Susana  NaN NaN NaN   5.0  27.0 NaN NaN NaN\n",
       "Tania   NaN NaN NaN   NaN   NaN NaN NaN NaN"
      ]
     },
     "execution_count": 87,
     "metadata": {},
     "output_type": "execute_result"
    }
   ],
   "source": [
    "df_6 + df_7"
   ]
  },
  {
   "cell_type": "markdown",
   "metadata": {},
   "source": [
    "Es claro que si se continua haciendo operaciones el número de `NaN` aumente en muchos esenarios esto no es un comportamiento se dese, por tal motivo *pandas*  ofrece una salida ante esta problemática usando los métodos pre establecidos como`add` (para la suma) para que en caso de que los índices no se encuentren en en segundo *dataframe* entonces asignar un valor determiando como $0.0$. "
   ]
  },
  {
   "cell_type": "code",
   "execution_count": 88,
   "metadata": {},
   "outputs": [
    {
     "data": {
      "text/html": [
       "<div>\n",
       "<style scoped>\n",
       "    .dataframe tbody tr th:only-of-type {\n",
       "        vertical-align: middle;\n",
       "    }\n",
       "\n",
       "    .dataframe tbody tr th {\n",
       "        vertical-align: top;\n",
       "    }\n",
       "\n",
       "    .dataframe thead th {\n",
       "        text-align: right;\n",
       "    }\n",
       "</style>\n",
       "<table border=\"1\" class=\"dataframe\">\n",
       "  <thead>\n",
       "    <tr style=\"text-align: right;\">\n",
       "      <th></th>\n",
       "      <th>b</th>\n",
       "      <th>c</th>\n",
       "      <th>d</th>\n",
       "      <th>e</th>\n",
       "      <th>f</th>\n",
       "      <th>g</th>\n",
       "      <th>h</th>\n",
       "      <th>i</th>\n",
       "    </tr>\n",
       "  </thead>\n",
       "  <tbody>\n",
       "    <tr>\n",
       "      <th>Ale</th>\n",
       "      <td>6.0</td>\n",
       "      <td>2.0</td>\n",
       "      <td>14.0</td>\n",
       "      <td>8.0</td>\n",
       "      <td>12.0</td>\n",
       "      <td>19.0</td>\n",
       "      <td>12.0</td>\n",
       "      <td>13.0</td>\n",
       "    </tr>\n",
       "    <tr>\n",
       "      <th>Diana</th>\n",
       "      <td>NaN</td>\n",
       "      <td>NaN</td>\n",
       "      <td>NaN</td>\n",
       "      <td>9.0</td>\n",
       "      <td>17.0</td>\n",
       "      <td>6.0</td>\n",
       "      <td>10.0</td>\n",
       "      <td>15.0</td>\n",
       "    </tr>\n",
       "    <tr>\n",
       "      <th>Ivan</th>\n",
       "      <td>15.0</td>\n",
       "      <td>5.0</td>\n",
       "      <td>5.0</td>\n",
       "      <td>23.0</td>\n",
       "      <td>9.0</td>\n",
       "      <td>18.0</td>\n",
       "      <td>3.0</td>\n",
       "      <td>8.0</td>\n",
       "    </tr>\n",
       "    <tr>\n",
       "      <th>Jose</th>\n",
       "      <td>6.0</td>\n",
       "      <td>7.0</td>\n",
       "      <td>5.0</td>\n",
       "      <td>9.0</td>\n",
       "      <td>11.0</td>\n",
       "      <td>NaN</td>\n",
       "      <td>NaN</td>\n",
       "      <td>NaN</td>\n",
       "    </tr>\n",
       "    <tr>\n",
       "      <th>Juan</th>\n",
       "      <td>10.0</td>\n",
       "      <td>14.0</td>\n",
       "      <td>16.0</td>\n",
       "      <td>18.0</td>\n",
       "      <td>29.0</td>\n",
       "      <td>10.0</td>\n",
       "      <td>18.0</td>\n",
       "      <td>14.0</td>\n",
       "    </tr>\n",
       "    <tr>\n",
       "      <th>Liliana</th>\n",
       "      <td>NaN</td>\n",
       "      <td>NaN</td>\n",
       "      <td>NaN</td>\n",
       "      <td>11.0</td>\n",
       "      <td>13.0</td>\n",
       "      <td>15.0</td>\n",
       "      <td>1.0</td>\n",
       "      <td>11.0</td>\n",
       "    </tr>\n",
       "    <tr>\n",
       "      <th>Mariana</th>\n",
       "      <td>NaN</td>\n",
       "      <td>NaN</td>\n",
       "      <td>NaN</td>\n",
       "      <td>5.0</td>\n",
       "      <td>3.0</td>\n",
       "      <td>3.0</td>\n",
       "      <td>6.0</td>\n",
       "      <td>16.0</td>\n",
       "    </tr>\n",
       "    <tr>\n",
       "      <th>Rosa</th>\n",
       "      <td>14.0</td>\n",
       "      <td>6.0</td>\n",
       "      <td>0.0</td>\n",
       "      <td>3.0</td>\n",
       "      <td>16.0</td>\n",
       "      <td>NaN</td>\n",
       "      <td>NaN</td>\n",
       "      <td>NaN</td>\n",
       "    </tr>\n",
       "    <tr>\n",
       "      <th>Susana</th>\n",
       "      <td>15.0</td>\n",
       "      <td>15.0</td>\n",
       "      <td>17.0</td>\n",
       "      <td>5.0</td>\n",
       "      <td>27.0</td>\n",
       "      <td>5.0</td>\n",
       "      <td>15.0</td>\n",
       "      <td>4.0</td>\n",
       "    </tr>\n",
       "    <tr>\n",
       "      <th>Tania</th>\n",
       "      <td>15.0</td>\n",
       "      <td>16.0</td>\n",
       "      <td>1.0</td>\n",
       "      <td>9.0</td>\n",
       "      <td>8.0</td>\n",
       "      <td>NaN</td>\n",
       "      <td>NaN</td>\n",
       "      <td>NaN</td>\n",
       "    </tr>\n",
       "  </tbody>\n",
       "</table>\n",
       "</div>"
      ],
      "text/plain": [
       "            b     c     d     e     f     g     h     i\n",
       "Ale       6.0   2.0  14.0   8.0  12.0  19.0  12.0  13.0\n",
       "Diana     NaN   NaN   NaN   9.0  17.0   6.0  10.0  15.0\n",
       "Ivan     15.0   5.0   5.0  23.0   9.0  18.0   3.0   8.0\n",
       "Jose      6.0   7.0   5.0   9.0  11.0   NaN   NaN   NaN\n",
       "Juan     10.0  14.0  16.0  18.0  29.0  10.0  18.0  14.0\n",
       "Liliana   NaN   NaN   NaN  11.0  13.0  15.0   1.0  11.0\n",
       "Mariana   NaN   NaN   NaN   5.0   3.0   3.0   6.0  16.0\n",
       "Rosa     14.0   6.0   0.0   3.0  16.0   NaN   NaN   NaN\n",
       "Susana   15.0  15.0  17.0   5.0  27.0   5.0  15.0   4.0\n",
       "Tania    15.0  16.0   1.0   9.0   8.0   NaN   NaN   NaN"
      ]
     },
     "execution_count": 88,
     "metadata": {},
     "output_type": "execute_result"
    }
   ],
   "source": [
    "df_6.add( df_7, fill_value = 0.0)"
   ]
  },
  {
   "cell_type": "markdown",
   "metadata": {},
   "source": [
    "Es claro que no se elimina la problemática en su totalidad, pero nos permite tener un mejor manejo de como hacer las operaciones entre *dataframes*, en particular el método suma a los valores que se encuentran en los dos *dataframes*, si sólo se encuentran en un *dataframe* hace la operación con el *fill_value*. Como se observa se mantiene el hecho que si el valor no se encuentra dentro de cierta columna, entonces en la suma el valos se mantiene sin un valor específico, esto es importante pues se mantiene la consistencia de los datos. \n",
    "\n",
    "A continuación mostramos una tabla con los métodos para hacer operaciones aritméticas.\n",
    "\n",
    "\n",
    "|Método| Operación|\n",
    "|--------|---------|\n",
    "|`add`, `radd`| Suma (+)|\n",
    "|`sub`, `rsub`| Resta (-)|\n",
    "|`div`, `rdiv`| División (/)|\n",
    "|`floordv`,`rfloordiv`|División entera (//)|\n",
    "|`mul`, `rmul`| Multiplicación (*)|\n",
    "|`pow`, `rpow`| Exponente(**)| \n"
   ]
  },
  {
   "cell_type": "markdown",
   "metadata": {},
   "source": [
    "### Operaciones entre *Dataframes* y *Series*\n",
    "\n",
    "*Pandas* nos permite hacer operaciones entre *dataframes* y *series*, es común hacer operaciones como restar un elemento (renglón) a un *dataframe* generando un *dataframe*, por tal motivo este tipo de operaciónes estan implementadas"
   ]
  },
  {
   "cell_type": "code",
   "execution_count": 89,
   "metadata": {},
   "outputs": [
    {
     "data": {
      "text/html": [
       "<div>\n",
       "<style scoped>\n",
       "    .dataframe tbody tr th:only-of-type {\n",
       "        vertical-align: middle;\n",
       "    }\n",
       "\n",
       "    .dataframe tbody tr th {\n",
       "        vertical-align: top;\n",
       "    }\n",
       "\n",
       "    .dataframe thead th {\n",
       "        text-align: right;\n",
       "    }\n",
       "</style>\n",
       "<table border=\"1\" class=\"dataframe\">\n",
       "  <thead>\n",
       "    <tr style=\"text-align: right;\">\n",
       "      <th></th>\n",
       "      <th>b</th>\n",
       "      <th>c</th>\n",
       "      <th>d</th>\n",
       "      <th>e</th>\n",
       "      <th>f</th>\n",
       "    </tr>\n",
       "  </thead>\n",
       "  <tbody>\n",
       "    <tr>\n",
       "      <th>Ale</th>\n",
       "      <td>0</td>\n",
       "      <td>0</td>\n",
       "      <td>0</td>\n",
       "      <td>0</td>\n",
       "      <td>0</td>\n",
       "    </tr>\n",
       "    <tr>\n",
       "      <th>Ivan</th>\n",
       "      <td>9</td>\n",
       "      <td>3</td>\n",
       "      <td>-9</td>\n",
       "      <td>3</td>\n",
       "      <td>-4</td>\n",
       "    </tr>\n",
       "    <tr>\n",
       "      <th>Susana</th>\n",
       "      <td>9</td>\n",
       "      <td>13</td>\n",
       "      <td>3</td>\n",
       "      <td>-2</td>\n",
       "      <td>5</td>\n",
       "    </tr>\n",
       "    <tr>\n",
       "      <th>Juan</th>\n",
       "      <td>4</td>\n",
       "      <td>12</td>\n",
       "      <td>2</td>\n",
       "      <td>9</td>\n",
       "      <td>6</td>\n",
       "    </tr>\n",
       "    <tr>\n",
       "      <th>Tania</th>\n",
       "      <td>9</td>\n",
       "      <td>14</td>\n",
       "      <td>-13</td>\n",
       "      <td>6</td>\n",
       "      <td>-4</td>\n",
       "    </tr>\n",
       "    <tr>\n",
       "      <th>Jose</th>\n",
       "      <td>0</td>\n",
       "      <td>5</td>\n",
       "      <td>-9</td>\n",
       "      <td>6</td>\n",
       "      <td>-1</td>\n",
       "    </tr>\n",
       "    <tr>\n",
       "      <th>Rosa</th>\n",
       "      <td>8</td>\n",
       "      <td>4</td>\n",
       "      <td>-14</td>\n",
       "      <td>0</td>\n",
       "      <td>4</td>\n",
       "    </tr>\n",
       "  </tbody>\n",
       "</table>\n",
       "</div>"
      ],
      "text/plain": [
       "        b   c   d  e  f\n",
       "Ale     0   0   0  0  0\n",
       "Ivan    9   3  -9  3 -4\n",
       "Susana  9  13   3 -2  5\n",
       "Juan    4  12   2  9  6\n",
       "Tania   9  14 -13  6 -4\n",
       "Jose    0   5  -9  6 -1\n",
       "Rosa    8   4 -14  0  4"
      ]
     },
     "execution_count": 89,
     "metadata": {},
     "output_type": "execute_result"
    }
   ],
   "source": [
    "df_7-df_7.iloc[0]"
   ]
  },
  {
   "cell_type": "markdown",
   "metadata": {},
   "source": [
    "cuando los índices de una *serie* se encuentrán dentro de las columnas del *dataframe* la operación se hace, en caso de los índices no se encuentren el resultado de la operación es `NaN`. El *dataframe* resultante tiene como columnas a la unión de los índices de la *serie* y las columnas del *dataframe* original."
   ]
  },
  {
   "cell_type": "code",
   "execution_count": 90,
   "metadata": {},
   "outputs": [
    {
     "data": {
      "text/html": [
       "<div>\n",
       "<style scoped>\n",
       "    .dataframe tbody tr th:only-of-type {\n",
       "        vertical-align: middle;\n",
       "    }\n",
       "\n",
       "    .dataframe tbody tr th {\n",
       "        vertical-align: top;\n",
       "    }\n",
       "\n",
       "    .dataframe thead th {\n",
       "        text-align: right;\n",
       "    }\n",
       "</style>\n",
       "<table border=\"1\" class=\"dataframe\">\n",
       "  <thead>\n",
       "    <tr style=\"text-align: right;\">\n",
       "      <th></th>\n",
       "      <th>b</th>\n",
       "      <th>c</th>\n",
       "      <th>d</th>\n",
       "      <th>e</th>\n",
       "      <th>f</th>\n",
       "      <th>g</th>\n",
       "      <th>h</th>\n",
       "      <th>i</th>\n",
       "    </tr>\n",
       "  </thead>\n",
       "  <tbody>\n",
       "    <tr>\n",
       "      <th>Ale</th>\n",
       "      <td>NaN</td>\n",
       "      <td>NaN</td>\n",
       "      <td>NaN</td>\n",
       "      <td>-2.0</td>\n",
       "      <td>12.0</td>\n",
       "      <td>NaN</td>\n",
       "      <td>NaN</td>\n",
       "      <td>NaN</td>\n",
       "    </tr>\n",
       "    <tr>\n",
       "      <th>Ivan</th>\n",
       "      <td>NaN</td>\n",
       "      <td>NaN</td>\n",
       "      <td>NaN</td>\n",
       "      <td>1.0</td>\n",
       "      <td>8.0</td>\n",
       "      <td>NaN</td>\n",
       "      <td>NaN</td>\n",
       "      <td>NaN</td>\n",
       "    </tr>\n",
       "    <tr>\n",
       "      <th>Susana</th>\n",
       "      <td>NaN</td>\n",
       "      <td>NaN</td>\n",
       "      <td>NaN</td>\n",
       "      <td>-4.0</td>\n",
       "      <td>17.0</td>\n",
       "      <td>NaN</td>\n",
       "      <td>NaN</td>\n",
       "      <td>NaN</td>\n",
       "    </tr>\n",
       "    <tr>\n",
       "      <th>Juan</th>\n",
       "      <td>NaN</td>\n",
       "      <td>NaN</td>\n",
       "      <td>NaN</td>\n",
       "      <td>7.0</td>\n",
       "      <td>18.0</td>\n",
       "      <td>NaN</td>\n",
       "      <td>NaN</td>\n",
       "      <td>NaN</td>\n",
       "    </tr>\n",
       "    <tr>\n",
       "      <th>Tania</th>\n",
       "      <td>NaN</td>\n",
       "      <td>NaN</td>\n",
       "      <td>NaN</td>\n",
       "      <td>4.0</td>\n",
       "      <td>8.0</td>\n",
       "      <td>NaN</td>\n",
       "      <td>NaN</td>\n",
       "      <td>NaN</td>\n",
       "    </tr>\n",
       "    <tr>\n",
       "      <th>Jose</th>\n",
       "      <td>NaN</td>\n",
       "      <td>NaN</td>\n",
       "      <td>NaN</td>\n",
       "      <td>4.0</td>\n",
       "      <td>11.0</td>\n",
       "      <td>NaN</td>\n",
       "      <td>NaN</td>\n",
       "      <td>NaN</td>\n",
       "    </tr>\n",
       "    <tr>\n",
       "      <th>Rosa</th>\n",
       "      <td>NaN</td>\n",
       "      <td>NaN</td>\n",
       "      <td>NaN</td>\n",
       "      <td>-2.0</td>\n",
       "      <td>16.0</td>\n",
       "      <td>NaN</td>\n",
       "      <td>NaN</td>\n",
       "      <td>NaN</td>\n",
       "    </tr>\n",
       "  </tbody>\n",
       "</table>\n",
       "</div>"
      ],
      "text/plain": [
       "         b   c   d    e     f   g   h   i\n",
       "Ale    NaN NaN NaN -2.0  12.0 NaN NaN NaN\n",
       "Ivan   NaN NaN NaN  1.0   8.0 NaN NaN NaN\n",
       "Susana NaN NaN NaN -4.0  17.0 NaN NaN NaN\n",
       "Juan   NaN NaN NaN  7.0  18.0 NaN NaN NaN\n",
       "Tania  NaN NaN NaN  4.0   8.0 NaN NaN NaN\n",
       "Jose   NaN NaN NaN  4.0  11.0 NaN NaN NaN\n",
       "Rosa   NaN NaN NaN -2.0  16.0 NaN NaN NaN"
      ]
     },
     "execution_count": 90,
     "metadata": {},
     "output_type": "execute_result"
    }
   ],
   "source": [
    "df_7-df_6.iloc[0]"
   ]
  },
  {
   "cell_type": "markdown",
   "metadata": {},
   "source": [
    "Si se desea hacer una operación con las columnas es necesario usar los métodos implementados dentro de *pandas* para tal motivo, por defecto la operación se hace sobre las columnas por lo que para que nos permita hacer la operación es necesario pasar como argumento `axis='index'` o `index=0`."
   ]
  },
  {
   "cell_type": "code",
   "execution_count": 91,
   "metadata": {},
   "outputs": [
    {
     "data": {
      "text/html": [
       "<div>\n",
       "<style scoped>\n",
       "    .dataframe tbody tr th:only-of-type {\n",
       "        vertical-align: middle;\n",
       "    }\n",
       "\n",
       "    .dataframe tbody tr th {\n",
       "        vertical-align: top;\n",
       "    }\n",
       "\n",
       "    .dataframe thead th {\n",
       "        text-align: right;\n",
       "    }\n",
       "</style>\n",
       "<table border=\"1\" class=\"dataframe\">\n",
       "  <thead>\n",
       "    <tr style=\"text-align: right;\">\n",
       "      <th></th>\n",
       "      <th>e</th>\n",
       "      <th>f</th>\n",
       "      <th>g</th>\n",
       "      <th>h</th>\n",
       "      <th>i</th>\n",
       "    </tr>\n",
       "  </thead>\n",
       "  <tbody>\n",
       "    <tr>\n",
       "      <th>Ale</th>\n",
       "      <td>5</td>\n",
       "      <td>0</td>\n",
       "      <td>19</td>\n",
       "      <td>12</td>\n",
       "      <td>13</td>\n",
       "    </tr>\n",
       "    <tr>\n",
       "      <th>Ivan</th>\n",
       "      <td>18</td>\n",
       "      <td>2</td>\n",
       "      <td>19</td>\n",
       "      <td>4</td>\n",
       "      <td>9</td>\n",
       "    </tr>\n",
       "    <tr>\n",
       "      <th>Mariana</th>\n",
       "      <td>8</td>\n",
       "      <td>6</td>\n",
       "      <td>6</td>\n",
       "      <td>9</td>\n",
       "      <td>19</td>\n",
       "    </tr>\n",
       "    <tr>\n",
       "      <th>Diana</th>\n",
       "      <td>26</td>\n",
       "      <td>34</td>\n",
       "      <td>23</td>\n",
       "      <td>27</td>\n",
       "      <td>32</td>\n",
       "    </tr>\n",
       "    <tr>\n",
       "      <th>Susana</th>\n",
       "      <td>14</td>\n",
       "      <td>20</td>\n",
       "      <td>15</td>\n",
       "      <td>25</td>\n",
       "      <td>14</td>\n",
       "    </tr>\n",
       "    <tr>\n",
       "      <th>Liliana</th>\n",
       "      <td>24</td>\n",
       "      <td>26</td>\n",
       "      <td>28</td>\n",
       "      <td>14</td>\n",
       "      <td>24</td>\n",
       "    </tr>\n",
       "    <tr>\n",
       "      <th>Juan</th>\n",
       "      <td>17</td>\n",
       "      <td>22</td>\n",
       "      <td>21</td>\n",
       "      <td>29</td>\n",
       "      <td>25</td>\n",
       "    </tr>\n",
       "  </tbody>\n",
       "</table>\n",
       "</div>"
      ],
      "text/plain": [
       "          e   f   g   h   i\n",
       "Ale       5   0  19  12  13\n",
       "Ivan     18   2  19   4   9\n",
       "Mariana   8   6   6   9  19\n",
       "Diana    26  34  23  27  32\n",
       "Susana   14  20  15  25  14\n",
       "Liliana  24  26  28  14  24\n",
       "Juan     17  22  21  29  25"
      ]
     },
     "execution_count": 91,
     "metadata": {},
     "output_type": "execute_result"
    }
   ],
   "source": [
    "df_6.add(df_6['f'] , axis='index')"
   ]
  },
  {
   "cell_type": "markdown",
   "metadata": {},
   "source": [
    "### Aplicación de funciones y mapeos \n",
    "Dentro de los *dataframes* podemos \n"
   ]
  },
  {
   "cell_type": "code",
   "execution_count": null,
   "metadata": {},
   "outputs": [],
   "source": []
  }
 ],
 "metadata": {
  "kernelspec": {
   "display_name": "Python 3",
   "language": "python",
   "name": "python3"
  },
  "language_info": {
   "codemirror_mode": {
    "name": "ipython",
    "version": 3
   },
   "file_extension": ".py",
   "mimetype": "text/x-python",
   "name": "python",
   "nbconvert_exporter": "python",
   "pygments_lexer": "ipython3",
   "version": "3.7.8"
  }
 },
 "nbformat": 4,
 "nbformat_minor": 4
}
